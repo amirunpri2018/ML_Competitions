{
 "cells": [
  {
   "cell_type": "code",
   "execution_count": 100,
   "metadata": {
    "collapsed": false
   },
   "outputs": [],
   "source": [
    "import pandas as pd\n",
    "import numpy as np\n",
    "import matplotlib.pyplot as plt\n",
    "import re\n",
    "import datetime\n",
    "from nltk.corpus import stopwords\n",
    "from nltk.stem.lancaster import LancasterStemmer\n",
    "from sklearn.model_selection import KFold\n",
    "from sklearn.model_selection import GridSearchCV\n",
    "from sklearn.model_selection import cross_val_score\n",
    "from sklearn.linear_model import SGDClassifier\n",
    "from sklearn.feature_extraction.text import TfidfVectorizer\n",
    "from bs4 import BeautifulSoup\n",
    "%matplotlib inline\n",
    "plt.rcParams['figure.figsize'] = (10, 6)"
   ]
  },
  {
   "cell_type": "code",
   "execution_count": 2,
   "metadata": {
    "collapsed": false
   },
   "outputs": [
    {
     "name": "stdout",
     "output_type": "stream",
     "text": [
      "(2771, 3)\n"
     ]
    },
    {
     "data": {
      "text/html": [
       "<div>\n",
       "<table border=\"1\" class=\"dataframe\">\n",
       "  <thead>\n",
       "    <tr style=\"text-align: right;\">\n",
       "      <th></th>\n",
       "      <th>title</th>\n",
       "      <th>content</th>\n",
       "      <th>tags</th>\n",
       "    </tr>\n",
       "    <tr>\n",
       "      <th>id</th>\n",
       "      <th></th>\n",
       "      <th></th>\n",
       "      <th></th>\n",
       "    </tr>\n",
       "  </thead>\n",
       "  <tbody>\n",
       "    <tr>\n",
       "      <th>1</th>\n",
       "      <td>What is the right approach to write the spin c...</td>\n",
       "      <td>&lt;p&gt;Imagine programming a 3 wheel soccer robot....</td>\n",
       "      <td>soccer control</td>\n",
       "    </tr>\n",
       "    <tr>\n",
       "      <th>2</th>\n",
       "      <td>How can I modify a low cost hobby servo to run...</td>\n",
       "      <td>&lt;p&gt;I've got some hobby servos (&lt;a href=\"http:/...</td>\n",
       "      <td>control rcservo</td>\n",
       "    </tr>\n",
       "    <tr>\n",
       "      <th>3</th>\n",
       "      <td>What useful gaits exist for a six legged robot...</td>\n",
       "      <td>&lt;p&gt;&lt;a href=\"http://www.oricomtech.com/projects...</td>\n",
       "      <td>gait walk</td>\n",
       "    </tr>\n",
       "    <tr>\n",
       "      <th>4</th>\n",
       "      <td>Good Microcontrollers/SOCs for a Robotics Project</td>\n",
       "      <td>&lt;p&gt;I am looking for a starting point for my pr...</td>\n",
       "      <td>microcontroller arduino raspberry-pi</td>\n",
       "    </tr>\n",
       "    <tr>\n",
       "      <th>5</th>\n",
       "      <td>Nearest-neighbor data structure for non-Euclid...</td>\n",
       "      <td>&lt;p&gt;I'm trying to implement a nearest-neighbor ...</td>\n",
       "      <td>motion-planning rrt</td>\n",
       "    </tr>\n",
       "  </tbody>\n",
       "</table>\n",
       "</div>"
      ],
      "text/plain": [
       "                                                title  \\\n",
       "id                                                      \n",
       "1   What is the right approach to write the spin c...   \n",
       "2   How can I modify a low cost hobby servo to run...   \n",
       "3   What useful gaits exist for a six legged robot...   \n",
       "4   Good Microcontrollers/SOCs for a Robotics Project   \n",
       "5   Nearest-neighbor data structure for non-Euclid...   \n",
       "\n",
       "                                              content  \\\n",
       "id                                                      \n",
       "1   <p>Imagine programming a 3 wheel soccer robot....   \n",
       "2   <p>I've got some hobby servos (<a href=\"http:/...   \n",
       "3   <p><a href=\"http://www.oricomtech.com/projects...   \n",
       "4   <p>I am looking for a starting point for my pr...   \n",
       "5   <p>I'm trying to implement a nearest-neighbor ...   \n",
       "\n",
       "                                    tags  \n",
       "id                                        \n",
       "1                         soccer control  \n",
       "2                        control rcservo  \n",
       "3                              gait walk  \n",
       "4   microcontroller arduino raspberry-pi  \n",
       "5                    motion-planning rrt  "
      ]
     },
     "execution_count": 2,
     "metadata": {},
     "output_type": "execute_result"
    }
   ],
   "source": [
    "csv = pd.read_csv('data/robotics.csv.zip', index_col='id')\n",
    "print(csv.shape)\n",
    "csv.head()"
   ]
  },
  {
   "cell_type": "code",
   "execution_count": 3,
   "metadata": {
    "collapsed": true
   },
   "outputs": [],
   "source": [
    "def uniq_tags(df):\n",
    "    tags = set()\n",
    "    df['tags'].str.split(' ').apply(tags.update)\n",
    "    return tags"
   ]
  },
  {
   "cell_type": "code",
   "execution_count": 4,
   "metadata": {
    "collapsed": true
   },
   "outputs": [],
   "source": [
    "def words_frequencies(df, column):\n",
    "    st = LancasterStemmer() # reduce plutal, gerunts and so on...\n",
    "    freq = {}\n",
    "    for i, row in df.iterrows():\n",
    "        words = row[column].split(' ')\n",
    "        for word in words:\n",
    "            word = st.stem(word)\n",
    "            freq[word] = freq.get(word, 0) + 1\n",
    "\n",
    "    return freq"
   ]
  },
  {
   "cell_type": "code",
   "execution_count": 5,
   "metadata": {
    "collapsed": false
   },
   "outputs": [],
   "source": [
    "def prepare_text(text):\n",
    "    cleantext = re.sub(\"<.*?>\", \"\", text).lower().replace('\\n', '. ')\n",
    "    splitter = re.compile(\"[^a-zA-Z0-9_\\\\+\\\\-/]\")\n",
    "    words = splitter.split(cleantext)\n",
    "    stops = set(stopwords.words(\"english\"))\n",
    "    meaningful_words = [w.strip() for w in words if not w in stops]\n",
    "    return \" \".join(filter(None, meaningful_words))"
   ]
  },
  {
   "cell_type": "code",
   "execution_count": 104,
   "metadata": {
    "collapsed": true
   },
   "outputs": [],
   "source": [
    "def remove_html(text):\n",
    "    # return re.sub(r'\\s+', ' ', re.sub(\"<.*?>\", \"\", text)).lower().strip()\n",
    "    return re.sub(\"[0-9]+\", \"\", re.sub(r'\\s+', ' ', BeautifulSoup(text, \"html.parser\").get_text()).lower().strip())"
   ]
  },
  {
   "cell_type": "code",
   "execution_count": 7,
   "metadata": {
    "collapsed": false
   },
   "outputs": [],
   "source": [
    "def prepare_data(df, func):\n",
    "    res = pd.DataFrame(index=df.index)\n",
    "    res['tags'] = df['tags']\n",
    "    res['title'] = df['title'].apply(func)\n",
    "    res['content'] = df['content'].apply(func)\n",
    "    return res"
   ]
  },
  {
   "cell_type": "code",
   "execution_count": 8,
   "metadata": {
    "collapsed": true
   },
   "outputs": [],
   "source": [
    "def prepare_test_data(df, func):\n",
    "    res = pd.DataFrame(index=df.index)\n",
    "    res['title'] = df['title'].apply(func)\n",
    "    res['content'] = df['content'].apply(func)\n",
    "    return res"
   ]
  },
  {
   "cell_type": "code",
   "execution_count": 9,
   "metadata": {
    "collapsed": false
   },
   "outputs": [
    {
     "data": {
      "text/html": [
       "<div>\n",
       "<table border=\"1\" class=\"dataframe\">\n",
       "  <thead>\n",
       "    <tr style=\"text-align: right;\">\n",
       "      <th></th>\n",
       "      <th>tags</th>\n",
       "      <th>title</th>\n",
       "      <th>content</th>\n",
       "    </tr>\n",
       "    <tr>\n",
       "      <th>id</th>\n",
       "      <th></th>\n",
       "      <th></th>\n",
       "      <th></th>\n",
       "    </tr>\n",
       "  </thead>\n",
       "  <tbody>\n",
       "    <tr>\n",
       "      <th>1</th>\n",
       "      <td>soccer control</td>\n",
       "      <td>what is the right approach to write the spin c...</td>\n",
       "      <td>imagine programming a 3 wheel soccer robot. wh...</td>\n",
       "    </tr>\n",
       "    <tr>\n",
       "      <th>2</th>\n",
       "      <td>control rcservo</td>\n",
       "      <td>how can i modify a low cost hobby servo to run...</td>\n",
       "      <td>i've got some hobby servos (power hd 1501mgs) ...</td>\n",
       "    </tr>\n",
       "    <tr>\n",
       "      <th>3</th>\n",
       "      <td>gait walk</td>\n",
       "      <td>what useful gaits exist for a six legged robot...</td>\n",
       "      <td>http://www.oricomtech.com/projects/leg-time.ht...</td>\n",
       "    </tr>\n",
       "    <tr>\n",
       "      <th>4</th>\n",
       "      <td>microcontroller arduino raspberry-pi</td>\n",
       "      <td>good microcontrollers/socs for a robotics project</td>\n",
       "      <td>i am looking for a starting point for my proje...</td>\n",
       "    </tr>\n",
       "    <tr>\n",
       "      <th>5</th>\n",
       "      <td>motion-planning rrt</td>\n",
       "      <td>nearest-neighbor data structure for non-euclid...</td>\n",
       "      <td>i'm trying to implement a nearest-neighbor str...</td>\n",
       "    </tr>\n",
       "  </tbody>\n",
       "</table>\n",
       "</div>"
      ],
      "text/plain": [
       "                                    tags  \\\n",
       "id                                         \n",
       "1                         soccer control   \n",
       "2                        control rcservo   \n",
       "3                              gait walk   \n",
       "4   microcontroller arduino raspberry-pi   \n",
       "5                    motion-planning rrt   \n",
       "\n",
       "                                                title  \\\n",
       "id                                                      \n",
       "1   what is the right approach to write the spin c...   \n",
       "2   how can i modify a low cost hobby servo to run...   \n",
       "3   what useful gaits exist for a six legged robot...   \n",
       "4   good microcontrollers/socs for a robotics project   \n",
       "5   nearest-neighbor data structure for non-euclid...   \n",
       "\n",
       "                                              content  \n",
       "id                                                     \n",
       "1   imagine programming a 3 wheel soccer robot. wh...  \n",
       "2   i've got some hobby servos (power hd 1501mgs) ...  \n",
       "3   http://www.oricomtech.com/projects/leg-time.ht...  \n",
       "4   i am looking for a starting point for my proje...  \n",
       "5   i'm trying to implement a nearest-neighbor str...  "
      ]
     },
     "execution_count": 9,
     "metadata": {},
     "output_type": "execute_result"
    }
   ],
   "source": [
    "data = prepare_data(csv, remove_html)\n",
    "data.head()"
   ]
  },
  {
   "cell_type": "code",
   "execution_count": 10,
   "metadata": {
    "collapsed": false
   },
   "outputs": [],
   "source": [
    "tag_freq = words_frequencies(data, 'tags')\n",
    "content_freq = words_frequencies(data, 'content')\n",
    "title_freq = words_frequencies(data, 'title')"
   ]
  },
  {
   "cell_type": "code",
   "execution_count": 11,
   "metadata": {
    "collapsed": false
   },
   "outputs": [
    {
     "data": {
      "text/html": [
       "<div>\n",
       "<table border=\"1\" class=\"dataframe\">\n",
       "  <thead>\n",
       "    <tr style=\"text-align: right;\">\n",
       "      <th></th>\n",
       "      <th>count</th>\n",
       "    </tr>\n",
       "  </thead>\n",
       "  <tbody>\n",
       "    <tr>\n",
       "      <th>quadcopt</th>\n",
       "      <td>306</td>\n",
       "    </tr>\n",
       "    <tr>\n",
       "      <th>mobile-robot</th>\n",
       "      <td>295</td>\n",
       "    </tr>\n",
       "    <tr>\n",
       "      <th>arduino</th>\n",
       "      <td>282</td>\n",
       "    </tr>\n",
       "    <tr>\n",
       "      <th>mot</th>\n",
       "      <td>273</td>\n",
       "    </tr>\n",
       "    <tr>\n",
       "      <th>control</th>\n",
       "      <td>255</td>\n",
       "    </tr>\n",
       "    <tr>\n",
       "      <th>sens</th>\n",
       "      <td>204</td>\n",
       "    </tr>\n",
       "    <tr>\n",
       "      <th>robotic-arm</th>\n",
       "      <td>180</td>\n",
       "    </tr>\n",
       "    <tr>\n",
       "      <th>pid</th>\n",
       "      <td>162</td>\n",
       "    </tr>\n",
       "    <tr>\n",
       "      <th>loc</th>\n",
       "      <td>125</td>\n",
       "    </tr>\n",
       "    <tr>\n",
       "      <th>microcontrol</th>\n",
       "      <td>117</td>\n",
       "    </tr>\n",
       "  </tbody>\n",
       "</table>\n",
       "</div>"
      ],
      "text/plain": [
       "              count\n",
       "quadcopt        306\n",
       "mobile-robot    295\n",
       "arduino         282\n",
       "mot             273\n",
       "control         255\n",
       "sens            204\n",
       "robotic-arm     180\n",
       "pid             162\n",
       "loc             125\n",
       "microcontrol    117"
      ]
     },
     "execution_count": 11,
     "metadata": {},
     "output_type": "execute_result"
    }
   ],
   "source": [
    "tags = pd.DataFrame(list(tag_freq.values()), columns=['count'], index=tag_freq.keys())\n",
    "tags.sort_values(['count'], ascending=False).head(10)"
   ]
  },
  {
   "cell_type": "code",
   "execution_count": 12,
   "metadata": {
    "collapsed": false
   },
   "outputs": [
    {
     "data": {
      "text/html": [
       "<div>\n",
       "<table border=\"1\" class=\"dataframe\">\n",
       "  <thead>\n",
       "    <tr style=\"text-align: right;\">\n",
       "      <th></th>\n",
       "      <th>count</th>\n",
       "    </tr>\n",
       "  </thead>\n",
       "  <tbody>\n",
       "    <tr>\n",
       "      <th>count</th>\n",
       "      <td>228.000000</td>\n",
       "    </tr>\n",
       "    <tr>\n",
       "      <th>mean</th>\n",
       "      <td>28.596491</td>\n",
       "    </tr>\n",
       "    <tr>\n",
       "      <th>std</th>\n",
       "      <td>49.071416</td>\n",
       "    </tr>\n",
       "    <tr>\n",
       "      <th>min</th>\n",
       "      <td>1.000000</td>\n",
       "    </tr>\n",
       "    <tr>\n",
       "      <th>25%</th>\n",
       "      <td>4.000000</td>\n",
       "    </tr>\n",
       "    <tr>\n",
       "      <th>50%</th>\n",
       "      <td>11.000000</td>\n",
       "    </tr>\n",
       "    <tr>\n",
       "      <th>75%</th>\n",
       "      <td>28.750000</td>\n",
       "    </tr>\n",
       "    <tr>\n",
       "      <th>max</th>\n",
       "      <td>306.000000</td>\n",
       "    </tr>\n",
       "  </tbody>\n",
       "</table>\n",
       "</div>"
      ],
      "text/plain": [
       "            count\n",
       "count  228.000000\n",
       "mean    28.596491\n",
       "std     49.071416\n",
       "min      1.000000\n",
       "25%      4.000000\n",
       "50%     11.000000\n",
       "75%     28.750000\n",
       "max    306.000000"
      ]
     },
     "execution_count": 12,
     "metadata": {},
     "output_type": "execute_result"
    }
   ],
   "source": [
    "tags.describe()"
   ]
  },
  {
   "cell_type": "code",
   "execution_count": 13,
   "metadata": {
    "collapsed": false
   },
   "outputs": [
    {
     "data": {
      "text/plain": [
       "<matplotlib.axes._subplots.AxesSubplot at 0x113350780>"
      ]
     },
     "execution_count": 13,
     "metadata": {},
     "output_type": "execute_result"
    },
    {
     "data": {
      "image/png": "[encoded data removed]",
      "text/plain": [
       "<matplotlib.figure.Figure at 0x113572eb8>"
      ]
     },
     "metadata": {},
     "output_type": "display_data"
    }
   ],
   "source": [
    "tags.sort_values(['count'], ascending=False).plot()"
   ]
  },
  {
   "cell_type": "code",
   "execution_count": 14,
   "metadata": {
    "collapsed": false
   },
   "outputs": [
    {
     "data": {
      "text/plain": [
       "11"
      ]
     },
     "execution_count": 14,
     "metadata": {},
     "output_type": "execute_result"
    }
   ],
   "source": [
    "tags['count'].loc[lambda c: c > 100].count()"
   ]
  },
  {
   "cell_type": "code",
   "execution_count": 15,
   "metadata": {
    "collapsed": false
   },
   "outputs": [
    {
     "data": {
      "text/html": [
       "<div>\n",
       "<table border=\"1\" class=\"dataframe\">\n",
       "  <thead>\n",
       "    <tr style=\"text-align: right;\">\n",
       "      <th></th>\n",
       "      <th>count</th>\n",
       "    </tr>\n",
       "  </thead>\n",
       "  <tbody>\n",
       "    <tr>\n",
       "      <th>a</th>\n",
       "      <td>873</td>\n",
       "    </tr>\n",
       "    <tr>\n",
       "      <th>to</th>\n",
       "      <td>728</td>\n",
       "    </tr>\n",
       "    <tr>\n",
       "      <th>for</th>\n",
       "      <td>562</td>\n",
       "    </tr>\n",
       "    <tr>\n",
       "      <th>the</th>\n",
       "      <td>485</td>\n",
       "    </tr>\n",
       "    <tr>\n",
       "      <th>robot</th>\n",
       "      <td>450</td>\n",
       "    </tr>\n",
       "    <tr>\n",
       "      <th>of</th>\n",
       "      <td>446</td>\n",
       "    </tr>\n",
       "    <tr>\n",
       "      <th>how</th>\n",
       "      <td>432</td>\n",
       "    </tr>\n",
       "    <tr>\n",
       "      <th>and</th>\n",
       "      <td>360</td>\n",
       "    </tr>\n",
       "    <tr>\n",
       "      <th>in</th>\n",
       "      <td>344</td>\n",
       "    </tr>\n",
       "    <tr>\n",
       "      <th>with</th>\n",
       "      <td>302</td>\n",
       "    </tr>\n",
       "  </tbody>\n",
       "</table>\n",
       "</div>"
      ],
      "text/plain": [
       "       count\n",
       "a        873\n",
       "to       728\n",
       "for      562\n",
       "the      485\n",
       "robot    450\n",
       "of       446\n",
       "how      432\n",
       "and      360\n",
       "in       344\n",
       "with     302"
      ]
     },
     "execution_count": 15,
     "metadata": {},
     "output_type": "execute_result"
    }
   ],
   "source": [
    "titles = pd.DataFrame(list(title_freq.values()), columns=['count'], index=title_freq.keys())\n",
    "titles.sort_values(['count'], ascending=False).head(10)"
   ]
  },
  {
   "cell_type": "code",
   "execution_count": 16,
   "metadata": {
    "collapsed": false
   },
   "outputs": [
    {
     "data": {
      "text/html": [
       "<div>\n",
       "<table border=\"1\" class=\"dataframe\">\n",
       "  <thead>\n",
       "    <tr style=\"text-align: right;\">\n",
       "      <th></th>\n",
       "      <th>count</th>\n",
       "    </tr>\n",
       "  </thead>\n",
       "  <tbody>\n",
       "    <tr>\n",
       "      <th>count</th>\n",
       "      <td>3944.000000</td>\n",
       "    </tr>\n",
       "    <tr>\n",
       "      <th>mean</th>\n",
       "      <td>5.742394</td>\n",
       "    </tr>\n",
       "    <tr>\n",
       "      <th>std</th>\n",
       "      <td>29.794112</td>\n",
       "    </tr>\n",
       "    <tr>\n",
       "      <th>min</th>\n",
       "      <td>1.000000</td>\n",
       "    </tr>\n",
       "    <tr>\n",
       "      <th>25%</th>\n",
       "      <td>1.000000</td>\n",
       "    </tr>\n",
       "    <tr>\n",
       "      <th>50%</th>\n",
       "      <td>1.000000</td>\n",
       "    </tr>\n",
       "    <tr>\n",
       "      <th>75%</th>\n",
       "      <td>3.000000</td>\n",
       "    </tr>\n",
       "    <tr>\n",
       "      <th>max</th>\n",
       "      <td>873.000000</td>\n",
       "    </tr>\n",
       "  </tbody>\n",
       "</table>\n",
       "</div>"
      ],
      "text/plain": [
       "             count\n",
       "count  3944.000000\n",
       "mean      5.742394\n",
       "std      29.794112\n",
       "min       1.000000\n",
       "25%       1.000000\n",
       "50%       1.000000\n",
       "75%       3.000000\n",
       "max     873.000000"
      ]
     },
     "execution_count": 16,
     "metadata": {},
     "output_type": "execute_result"
    }
   ],
   "source": [
    "titles.describe()"
   ]
  },
  {
   "cell_type": "code",
   "execution_count": 17,
   "metadata": {
    "collapsed": false
   },
   "outputs": [
    {
     "data": {
      "text/html": [
       "<div>\n",
       "<table border=\"1\" class=\"dataframe\">\n",
       "  <thead>\n",
       "    <tr style=\"text-align: right;\">\n",
       "      <th></th>\n",
       "      <th>count</th>\n",
       "    </tr>\n",
       "  </thead>\n",
       "  <tbody>\n",
       "    <tr>\n",
       "      <th></th>\n",
       "      <td>67937</td>\n",
       "    </tr>\n",
       "    <tr>\n",
       "      <th>the</th>\n",
       "      <td>21662</td>\n",
       "    </tr>\n",
       "    <tr>\n",
       "      <th>.</th>\n",
       "      <td>17221</td>\n",
       "    </tr>\n",
       "    <tr>\n",
       "      <th>to</th>\n",
       "      <td>12575</td>\n",
       "    </tr>\n",
       "    <tr>\n",
       "      <th>i</th>\n",
       "      <td>11660</td>\n",
       "    </tr>\n",
       "    <tr>\n",
       "      <th>a</th>\n",
       "      <td>9779</td>\n",
       "    </tr>\n",
       "    <tr>\n",
       "      <th>and</th>\n",
       "      <td>7670</td>\n",
       "    </tr>\n",
       "    <tr>\n",
       "      <th>is</th>\n",
       "      <td>6839</td>\n",
       "    </tr>\n",
       "    <tr>\n",
       "      <th>of</th>\n",
       "      <td>6614</td>\n",
       "    </tr>\n",
       "    <tr>\n",
       "      <th>in</th>\n",
       "      <td>4602</td>\n",
       "    </tr>\n",
       "  </tbody>\n",
       "</table>\n",
       "</div>"
      ],
      "text/plain": [
       "     count\n",
       "     67937\n",
       "the  21662\n",
       ".    17221\n",
       "to   12575\n",
       "i    11660\n",
       "a     9779\n",
       "and   7670\n",
       "is    6839\n",
       "of    6614\n",
       "in    4602"
      ]
     },
     "execution_count": 17,
     "metadata": {},
     "output_type": "execute_result"
    }
   ],
   "source": [
    "contents = pd.DataFrame(list(content_freq.values()), columns=['count'], index=content_freq.keys())\n",
    "contents.sort_values(['count'], ascending=False).head(10)"
   ]
  },
  {
   "cell_type": "code",
   "execution_count": 18,
   "metadata": {
    "collapsed": false
   },
   "outputs": [
    {
     "data": {
      "text/html": [
       "<div>\n",
       "<table border=\"1\" class=\"dataframe\">\n",
       "  <thead>\n",
       "    <tr style=\"text-align: right;\">\n",
       "      <th></th>\n",
       "      <th>count</th>\n",
       "    </tr>\n",
       "  </thead>\n",
       "  <tbody>\n",
       "    <tr>\n",
       "      <th>count</th>\n",
       "      <td>43141.000000</td>\n",
       "    </tr>\n",
       "    <tr>\n",
       "      <th>mean</th>\n",
       "      <td>11.519228</td>\n",
       "    </tr>\n",
       "    <tr>\n",
       "      <th>std</th>\n",
       "      <td>378.647441</td>\n",
       "    </tr>\n",
       "    <tr>\n",
       "      <th>min</th>\n",
       "      <td>1.000000</td>\n",
       "    </tr>\n",
       "    <tr>\n",
       "      <th>25%</th>\n",
       "      <td>1.000000</td>\n",
       "    </tr>\n",
       "    <tr>\n",
       "      <th>50%</th>\n",
       "      <td>1.000000</td>\n",
       "    </tr>\n",
       "    <tr>\n",
       "      <th>75%</th>\n",
       "      <td>2.000000</td>\n",
       "    </tr>\n",
       "    <tr>\n",
       "      <th>max</th>\n",
       "      <td>67937.000000</td>\n",
       "    </tr>\n",
       "  </tbody>\n",
       "</table>\n",
       "</div>"
      ],
      "text/plain": [
       "              count\n",
       "count  43141.000000\n",
       "mean      11.519228\n",
       "std      378.647441\n",
       "min        1.000000\n",
       "25%        1.000000\n",
       "50%        1.000000\n",
       "75%        2.000000\n",
       "max    67937.000000"
      ]
     },
     "execution_count": 18,
     "metadata": {},
     "output_type": "execute_result"
    }
   ],
   "source": [
    "contents.describe()"
   ]
  },
  {
   "cell_type": "code",
   "execution_count": 19,
   "metadata": {
    "collapsed": false
   },
   "outputs": [
    {
     "name": "stdout",
     "output_type": "stream",
     "text": [
      "Tags 228\n",
      "Titles 158\n",
      "Contents 170\n",
      "All 173\n"
     ]
    }
   ],
   "source": [
    "intersections_with_title=set(titles.index) & set(tags.index)\n",
    "intersections_with_content=set(contents.index) & set(tags.index)\n",
    "intersection_with_all = (set(contents.index) | set(titles.index)) & set(tags.index)\n",
    "print(\"Tags {}\".format(len(tags.index)))\n",
    "print(\"Titles {}\".format(len(intersections_with_title)))\n",
    "print(\"Contents {}\".format(len(intersections_with_content)))\n",
    "print(\"All {}\".format(len(intersection_with_all)))"
   ]
  },
  {
   "cell_type": "code",
   "execution_count": 20,
   "metadata": {
    "collapsed": false
   },
   "outputs": [
    {
     "data": {
      "text/plain": [
       "{'3d-model',\n",
       " '3d-reconstruction',\n",
       " 'acoustic-rangefinder',\n",
       " 'activerobot',\n",
       " 'air-muscle',\n",
       " 'artificial-intelligence',\n",
       " 'battle-bot',\n",
       " 'beagle-bon',\n",
       " 'brushless-motor',\n",
       " 'data-association',\n",
       " 'deduced-reckoning',\n",
       " 'digital-audio',\n",
       " 'distributed-systems',\n",
       " 'dynamic-programming',\n",
       " 'embedded-systems',\n",
       " 'first-robotics',\n",
       " 'force-sensor',\n",
       " 'forward-kinematics',\n",
       " 'hall-sensor',\n",
       " 'heat-manage',\n",
       " 'hri',\n",
       " 'industrial-robot',\n",
       " 'information-gain',\n",
       " 'irobot-create',\n",
       " 'linear-bearing',\n",
       " 'lithium-polymer',\n",
       " 'logic-control',\n",
       " 'low-latency',\n",
       " 'machine-learning',\n",
       " 'motion-planning',\n",
       " 'multi-agent',\n",
       " 'not-exactly-c',\n",
       " 'occupancygrid',\n",
       " 'operating-systems',\n",
       " 'particle-filter',\n",
       " 'precise-positioning',\n",
       " 'product-of-exponentials',\n",
       " 'programming-languages',\n",
       " 'quadrature-encoder',\n",
       " 'raspberry-pi',\n",
       " 'rcservo',\n",
       " 'reference-request',\n",
       " 'reinforcement-learning',\n",
       " 'roboti-arm',\n",
       " 'robotic-arm',\n",
       " 'sensor-er',\n",
       " 'sensor-fusion',\n",
       " 'speech-processing',\n",
       " 'stepper-driv',\n",
       " 'ultrasonic-sensors',\n",
       " 'uncanny-valley',\n",
       " 'untag',\n",
       " 'vector-field-histogram',\n",
       " 'walking-robot',\n",
       " 'wheeled-robot'}"
      ]
     },
     "execution_count": 20,
     "metadata": {},
     "output_type": "execute_result"
    }
   ],
   "source": [
    "# Set of tags that don't appear in niether in title or content \n",
    "set(tags.index) - (set(contents.index) | set(titles.index))"
   ]
  },
  {
   "cell_type": "code",
   "execution_count": 21,
   "metadata": {
    "collapsed": false
   },
   "outputs": [
    {
     "data": {
      "text/html": [
       "<div>\n",
       "<table border=\"1\" class=\"dataframe\">\n",
       "  <thead>\n",
       "    <tr style=\"text-align: right;\">\n",
       "      <th></th>\n",
       "      <th>tags</th>\n",
       "      <th>title</th>\n",
       "      <th>content</th>\n",
       "      <th>intersection</th>\n",
       "    </tr>\n",
       "    <tr>\n",
       "      <th>id</th>\n",
       "      <th></th>\n",
       "      <th></th>\n",
       "      <th></th>\n",
       "      <th></th>\n",
       "    </tr>\n",
       "  </thead>\n",
       "  <tbody>\n",
       "    <tr>\n",
       "      <th>1</th>\n",
       "      <td>soccer control</td>\n",
       "      <td>what is the right approach to write the spin c...</td>\n",
       "      <td>imagine programming a 3 wheel soccer robot. wh...</td>\n",
       "      <td>0.500000</td>\n",
       "    </tr>\n",
       "    <tr>\n",
       "      <th>2</th>\n",
       "      <td>control rcservo</td>\n",
       "      <td>how can i modify a low cost hobby servo to run...</td>\n",
       "      <td>i've got some hobby servos (power hd 1501mgs) ...</td>\n",
       "      <td>0.500000</td>\n",
       "    </tr>\n",
       "    <tr>\n",
       "      <th>3</th>\n",
       "      <td>gait walk</td>\n",
       "      <td>what useful gaits exist for a six legged robot...</td>\n",
       "      <td>http://www.oricomtech.com/projects/leg-time.ht...</td>\n",
       "      <td>0.000000</td>\n",
       "    </tr>\n",
       "    <tr>\n",
       "      <th>4</th>\n",
       "      <td>microcontroller arduino raspberry-pi</td>\n",
       "      <td>good microcontrollers/socs for a robotics project</td>\n",
       "      <td>i am looking for a starting point for my proje...</td>\n",
       "      <td>0.333333</td>\n",
       "    </tr>\n",
       "    <tr>\n",
       "      <th>5</th>\n",
       "      <td>motion-planning rrt</td>\n",
       "      <td>nearest-neighbor data structure for non-euclid...</td>\n",
       "      <td>i'm trying to implement a nearest-neighbor str...</td>\n",
       "      <td>0.500000</td>\n",
       "    </tr>\n",
       "  </tbody>\n",
       "</table>\n",
       "</div>"
      ],
      "text/plain": [
       "                                    tags  \\\n",
       "id                                         \n",
       "1                         soccer control   \n",
       "2                        control rcservo   \n",
       "3                              gait walk   \n",
       "4   microcontroller arduino raspberry-pi   \n",
       "5                    motion-planning rrt   \n",
       "\n",
       "                                                title  \\\n",
       "id                                                      \n",
       "1   what is the right approach to write the spin c...   \n",
       "2   how can i modify a low cost hobby servo to run...   \n",
       "3   what useful gaits exist for a six legged robot...   \n",
       "4   good microcontrollers/socs for a robotics project   \n",
       "5   nearest-neighbor data structure for non-euclid...   \n",
       "\n",
       "                                              content  intersection  \n",
       "id                                                                   \n",
       "1   imagine programming a 3 wheel soccer robot. wh...      0.500000  \n",
       "2   i've got some hobby servos (power hd 1501mgs) ...      0.500000  \n",
       "3   http://www.oricomtech.com/projects/leg-time.ht...      0.000000  \n",
       "4   i am looking for a starting point for my proje...      0.333333  \n",
       "5   i'm trying to implement a nearest-neighbor str...      0.500000  "
      ]
     },
     "execution_count": 21,
     "metadata": {},
     "output_type": "execute_result"
    }
   ],
   "source": [
    "for i, row in data.iterrows():\n",
    "    tags = set(row['tags'].split(' '))\n",
    "    words = set(row['content'].split(' ')) | set(row['title'].split(' '))\n",
    "    intersection = tags & words\n",
    "    data.ix[i, 'intersection'] = len(intersection) / len(tags)\n",
    "data.head()"
   ]
  },
  {
   "cell_type": "code",
   "execution_count": 22,
   "metadata": {
    "collapsed": false
   },
   "outputs": [
    {
     "data": {
      "text/html": [
       "<div>\n",
       "<table border=\"1\" class=\"dataframe\">\n",
       "  <thead>\n",
       "    <tr style=\"text-align: right;\">\n",
       "      <th></th>\n",
       "      <th>intersection</th>\n",
       "    </tr>\n",
       "  </thead>\n",
       "  <tbody>\n",
       "    <tr>\n",
       "      <th>count</th>\n",
       "      <td>2771.000000</td>\n",
       "    </tr>\n",
       "    <tr>\n",
       "      <th>mean</th>\n",
       "      <td>0.376639</td>\n",
       "    </tr>\n",
       "    <tr>\n",
       "      <th>std</th>\n",
       "      <td>0.367761</td>\n",
       "    </tr>\n",
       "    <tr>\n",
       "      <th>min</th>\n",
       "      <td>0.000000</td>\n",
       "    </tr>\n",
       "    <tr>\n",
       "      <th>25%</th>\n",
       "      <td>0.000000</td>\n",
       "    </tr>\n",
       "    <tr>\n",
       "      <th>50%</th>\n",
       "      <td>0.333333</td>\n",
       "    </tr>\n",
       "    <tr>\n",
       "      <th>75%</th>\n",
       "      <td>0.666667</td>\n",
       "    </tr>\n",
       "    <tr>\n",
       "      <th>max</th>\n",
       "      <td>1.000000</td>\n",
       "    </tr>\n",
       "  </tbody>\n",
       "</table>\n",
       "</div>"
      ],
      "text/plain": [
       "       intersection\n",
       "count   2771.000000\n",
       "mean       0.376639\n",
       "std        0.367761\n",
       "min        0.000000\n",
       "25%        0.000000\n",
       "50%        0.333333\n",
       "75%        0.666667\n",
       "max        1.000000"
      ]
     },
     "execution_count": 22,
     "metadata": {},
     "output_type": "execute_result"
    }
   ],
   "source": [
    "data.describe()"
   ]
  },
  {
   "cell_type": "code",
   "execution_count": 23,
   "metadata": {
    "collapsed": true
   },
   "outputs": [],
   "source": [
    "import string, itertools\n",
    "from nltk import word_tokenize, sent_tokenize, pos_tag_sents, tree2conlltags\n",
    "from  nltk.chunk.regexp import RegexpParser\n",
    "import itertools, nltk, string"
   ]
  },
  {
   "cell_type": "code",
   "execution_count": 24,
   "metadata": {
    "collapsed": false
   },
   "outputs": [
    {
     "data": {
      "text/plain": [
       "\"i've got some hobby servos (power hd 1501mgs) and i'd like to be able to control them (via an arduino) so they will either go to the angle i set, or put them in a 'free running' mode, where the load will take them wherever it goes.. . is this even possible, or am i just going to end up stripping the gears?. . my first thought is to simply kill the power to the servo, but the force required to move them in that state is more than i'd like.. . if it is possible, am i looking at a hardware change, or could i do it in software?. \""
      ]
     },
     "execution_count": 24,
     "metadata": {},
     "output_type": "execute_result"
    }
   ],
   "source": [
    "grammar = r'KT: {(<JJ>* <NN.*>+ <IN>)? <JJ>* <NN.*>+}'\n",
    "# grammar = r\"\"\"\n",
    "#     NBAR:\n",
    "#         {<NN.*|JJ>*<NN.*>}  # Nouns and Adjectives, terminated with Nouns\n",
    "        \n",
    "#     NP:\n",
    "#         {<NBAR>}\n",
    "#         {<NBAR><IN><NBAR>}  # Above, connected with in/of/etc...\n",
    "# \"\"\"\n",
    "stop_words = stopwords.words('english')\n",
    "punct = string.punctuation\n",
    "chunker = RegexpParser(grammar)\n",
    "text = data.ix[2,'content']\n",
    "text"
   ]
  },
  {
   "cell_type": "code",
   "execution_count": 25,
   "metadata": {
    "collapsed": false
   },
   "outputs": [
    {
     "data": {
      "text/plain": [
       "[('i', 'NN', 'B-KT'),\n",
       " (\"'ve\", 'VBP', 'O'),\n",
       " ('got', 'VBN', 'O'),\n",
       " ('some', 'DT', 'O'),\n",
       " ('hobby', 'NN', 'B-KT'),\n",
       " ('servos', 'NN', 'I-KT'),\n",
       " ('(', '(', 'O'),\n",
       " ('power', 'NN', 'B-KT'),\n",
       " ('hd', 'RB', 'O'),\n",
       " ('1501mgs', 'CD', 'O'),\n",
       " (')', ')', 'O'),\n",
       " ('and', 'CC', 'O'),\n",
       " ('i', 'JJ', 'O'),\n",
       " (\"'d\", 'MD', 'O'),\n",
       " ('like', 'VB', 'O'),\n",
       " ('to', 'TO', 'O'),\n",
       " ('be', 'VB', 'O'),\n",
       " ('able', 'JJ', 'O'),\n",
       " ('to', 'TO', 'O'),\n",
       " ('control', 'VB', 'O'),\n",
       " ('them', 'PRP', 'O'),\n",
       " ('(', '(', 'O'),\n",
       " ('via', 'IN', 'O'),\n",
       " ('an', 'DT', 'O'),\n",
       " ('arduino', 'NN', 'B-KT'),\n",
       " (')', ')', 'O'),\n",
       " ('so', 'IN', 'O'),\n",
       " ('they', 'PRP', 'O'),\n",
       " ('will', 'MD', 'O'),\n",
       " ('either', 'RB', 'O'),\n",
       " ('go', 'VB', 'O'),\n",
       " ('to', 'TO', 'O'),\n",
       " ('the', 'DT', 'O'),\n",
       " ('angle', 'NN', 'B-KT'),\n",
       " ('i', 'NN', 'I-KT'),\n",
       " ('set', 'VBN', 'O'),\n",
       " (',', ',', 'O'),\n",
       " ('or', 'CC', 'O'),\n",
       " ('put', 'VB', 'O'),\n",
       " ('them', 'PRP', 'O'),\n",
       " ('in', 'IN', 'O'),\n",
       " ('a', 'DT', 'O'),\n",
       " (\"'free\", 'JJ', 'O'),\n",
       " ('running', 'VBG', 'O'),\n",
       " (\"'\", \"''\", 'O'),\n",
       " ('mode', 'NN', 'B-KT'),\n",
       " (',', ',', 'O'),\n",
       " ('where', 'WRB', 'O'),\n",
       " ('the', 'DT', 'O'),\n",
       " ('load', 'NN', 'B-KT'),\n",
       " ('will', 'MD', 'O'),\n",
       " ('take', 'VB', 'O'),\n",
       " ('them', 'PRP', 'O'),\n",
       " ('wherever', 'VB', 'O'),\n",
       " ('it', 'PRP', 'O'),\n",
       " ('goes..', 'FW', 'O'),\n",
       " ('.', '.', 'O'),\n",
       " ('is', 'VBZ', 'O'),\n",
       " ('this', 'DT', 'O'),\n",
       " ('even', 'RB', 'O'),\n",
       " ('possible', 'JJ', 'O'),\n",
       " (',', ',', 'O'),\n",
       " ('or', 'CC', 'O'),\n",
       " ('am', 'VBP', 'O'),\n",
       " ('i', 'JJ', 'O'),\n",
       " ('just', 'RB', 'O'),\n",
       " ('going', 'VBG', 'O'),\n",
       " ('to', 'TO', 'O'),\n",
       " ('end', 'VB', 'O'),\n",
       " ('up', 'RP', 'O'),\n",
       " ('stripping', 'VBG', 'O'),\n",
       " ('the', 'DT', 'O'),\n",
       " ('gears', 'NNS', 'B-KT'),\n",
       " ('?', '.', 'O'),\n",
       " ('.', '.', 'O'),\n",
       " ('.', '.', 'O'),\n",
       " ('my', 'PRP$', 'O'),\n",
       " ('first', 'JJ', 'B-KT'),\n",
       " ('thought', 'NN', 'I-KT'),\n",
       " ('is', 'VBZ', 'O'),\n",
       " ('to', 'TO', 'O'),\n",
       " ('simply', 'RB', 'O'),\n",
       " ('kill', 'VB', 'O'),\n",
       " ('the', 'DT', 'O'),\n",
       " ('power', 'NN', 'B-KT'),\n",
       " ('to', 'TO', 'O'),\n",
       " ('the', 'DT', 'O'),\n",
       " ('servo', 'NN', 'B-KT'),\n",
       " (',', ',', 'O'),\n",
       " ('but', 'CC', 'O'),\n",
       " ('the', 'DT', 'O'),\n",
       " ('force', 'NN', 'B-KT'),\n",
       " ('required', 'VBN', 'O'),\n",
       " ('to', 'TO', 'O'),\n",
       " ('move', 'VB', 'O'),\n",
       " ('them', 'PRP', 'O'),\n",
       " ('in', 'IN', 'O'),\n",
       " ('that', 'DT', 'O'),\n",
       " ('state', 'NN', 'B-KT'),\n",
       " ('is', 'VBZ', 'O'),\n",
       " ('more', 'JJR', 'O'),\n",
       " ('than', 'IN', 'O'),\n",
       " ('i', 'JJ', 'O'),\n",
       " (\"'d\", 'MD', 'O'),\n",
       " ('like..', 'VB', 'O'),\n",
       " ('.', '.', 'O'),\n",
       " ('if', 'IN', 'O'),\n",
       " ('it', 'PRP', 'O'),\n",
       " ('is', 'VBZ', 'O'),\n",
       " ('possible', 'JJ', 'O'),\n",
       " (',', ',', 'O'),\n",
       " ('am', 'VBP', 'O'),\n",
       " ('i', 'JJ', 'O'),\n",
       " ('looking', 'VBG', 'O'),\n",
       " ('at', 'IN', 'O'),\n",
       " ('a', 'DT', 'O'),\n",
       " ('hardware', 'NN', 'B-KT'),\n",
       " ('change', 'NN', 'I-KT'),\n",
       " (',', ',', 'O'),\n",
       " ('or', 'CC', 'O'),\n",
       " ('could', 'MD', 'O'),\n",
       " ('i', 'VB', 'O'),\n",
       " ('do', 'VBP', 'O'),\n",
       " ('it', 'PRP', 'O'),\n",
       " ('in', 'IN', 'O'),\n",
       " ('software', 'NN', 'B-KT'),\n",
       " ('?', '.', 'O'),\n",
       " ('.', '.', 'O')]"
      ]
     },
     "execution_count": 25,
     "metadata": {},
     "output_type": "execute_result"
    }
   ],
   "source": [
    "tagged_sents  = pos_tag_sents([word_tokenize(sent) for sent in sent_tokenize(text)])\n",
    "tuples = [tree2conlltags(chunker.parse(tagged_sent)) for tagged_sent in tagged_sents]\n",
    "all_chunks = list(itertools.chain.from_iterable(tuples)) # they said it's optimization for loops\n",
    "all_chunks"
   ]
  },
  {
   "cell_type": "code",
   "execution_count": 26,
   "metadata": {
    "collapsed": false
   },
   "outputs": [],
   "source": [
    "import nltk\n",
    "lemmatizer = nltk.WordNetLemmatizer()\n",
    "stemmer = nltk.stem.porter.PorterStemmer()\n",
    "def normalise(word):\n",
    "    \"\"\"Normalises words to lowercase and stems and lemmatizes it.\"\"\"\n",
    "    word = word.lower()\n",
    "    #word = stemmer.stem_word(word)\n",
    "    word = lemmatizer.lemmatize(word)\n",
    "    return word"
   ]
  },
  {
   "cell_type": "code",
   "execution_count": 27,
   "metadata": {
    "collapsed": false
   },
   "outputs": [],
   "source": [
    "def group_func(t):\n",
    "        (word,pos,chunk) = t\n",
    "        return chunk != 'O'\n",
    "    \n",
    "punct = set(string.punctuation)\n",
    "stop_words = set(nltk.corpus.stopwords.words('english'))\n",
    "grammar=r'KT: {(<JJ>* <NN.*>+ <IN>)? <JJ>* <NN.*>+}'\n",
    "chunker = nltk.chunk.regexp.RegexpParser(grammar)\n",
    "\n",
    "def extract_candidate_chunks(text):\n",
    "    # exclude candidates that are stop words or entirely punctuation\n",
    "    # tokenize, POS-tag, and chunk using regular expressions\n",
    "    tagged_sents = nltk.pos_tag_sents(nltk.word_tokenize(sent) for sent in nltk.sent_tokenize(text))\n",
    "    all_chunks = [nltk.chunk.tree2conlltags(chunker.parse(tagged_sent)) \n",
    "                  for tagged_sent in tagged_sents]\n",
    "    all_chunks = list(itertools.chain.from_iterable(all_chunks))\n",
    "    # join constituent chunk words into a single chunked phrase\n",
    "    candidates = [' '.join(word for word, pos, chunk in group).lower()\n",
    "                  for key, group in itertools.groupby(all_chunks, group_func) if key]\n",
    "\n",
    "    return set([cand for cand in candidates\n",
    "            if cand not in stop_words and not all(char in punct for char in cand) and len(cand) > 2])"
   ]
  },
  {
   "cell_type": "code",
   "execution_count": 28,
   "metadata": {
    "collapsed": false
   },
   "outputs": [
    {
     "data": {
      "text/plain": [
       "{'angle i',\n",
       " 'arduino',\n",
       " 'first thought',\n",
       " 'force',\n",
       " 'gears',\n",
       " 'hardware change',\n",
       " 'hobby servos',\n",
       " 'load',\n",
       " 'mode',\n",
       " 'power',\n",
       " 'servo',\n",
       " 'software',\n",
       " 'state'}"
      ]
     },
     "execution_count": 28,
     "metadata": {},
     "output_type": "execute_result"
    }
   ],
   "source": [
    "extract_candidate_chunks(text)"
   ]
  },
  {
   "cell_type": "code",
   "execution_count": 29,
   "metadata": {
    "collapsed": true
   },
   "outputs": [],
   "source": [
    "def extract_candidate_words(text, good_tags=set(['JJ','JJR','JJS','NN','NNP','NNS','NNPS'])):\n",
    "    # exclude candidates that are stop words or entirely punctuation\n",
    "    punct = set(string.punctuation)\n",
    "    stop_words = set(nltk.corpus.stopwords.words('english'))\n",
    "    # tokenize and POS-tag words\n",
    "    tagged_words = itertools.chain.from_iterable(nltk.pos_tag_sents(nltk.word_tokenize(sent)\n",
    "                                                                    for sent in nltk.sent_tokenize(text)))\n",
    "    # filter on certain POS tags and lowercase all words\n",
    "    candidates = [word.lower() for word, tag in tagged_words\n",
    "                  if tag in good_tags and word.lower() not in stop_words\n",
    "                  and not all(char in punct for char in word) and len(tag) > 2]\n",
    "\n",
    "    return candidates"
   ]
  },
  {
   "cell_type": "code",
   "execution_count": 30,
   "metadata": {
    "collapsed": false
   },
   "outputs": [
    {
     "data": {
      "text/plain": [
       "['gears']"
      ]
     },
     "execution_count": 30,
     "metadata": {},
     "output_type": "execute_result"
    }
   ],
   "source": [
    "extract_candidate_words(text)"
   ]
  },
  {
   "cell_type": "code",
   "execution_count": 31,
   "metadata": {
    "collapsed": false
   },
   "outputs": [],
   "source": [
    "def score_keyphrases_by_textrank(text, n_keywords=0.05):\n",
    "    from itertools import takewhile, tee\n",
    "    import networkx, nltk\n",
    "    \n",
    "    # tokenize for all words, and extract *candidate* words\n",
    "    words = [word.lower()\n",
    "             for sent in nltk.sent_tokenize(text)\n",
    "             for word in nltk.word_tokenize(sent)]\n",
    "    candidates = extract_candidate_chunks(text)\n",
    "    # build graph, each node is a unique candidate\n",
    "    graph = networkx.Graph()\n",
    "    graph.add_nodes_from(set(candidates))\n",
    "    # iterate over word-pairs, add unweighted edges into graph\n",
    "    def pairwise(iterable):\n",
    "        \"\"\"s -> (s0,s1), (s1,s2), (s2, s3), ...\"\"\"\n",
    "        a, b = tee(iterable)\n",
    "        next(b, None)\n",
    "        return zip(a, b)\n",
    "    for w1, w2 in pairwise(candidates):\n",
    "        if w2:\n",
    "            graph.add_edge(*sorted([w1, w2]))\n",
    "    # score nodes using default pagerank algorithm, sort by score, keep top n_keywords\n",
    "    ranks = networkx.pagerank(graph)\n",
    "    if 0 < n_keywords < 1:\n",
    "        n_keywords = int(round(len(candidates) * n_keywords))\n",
    "    word_ranks = {word_rank[0]: word_rank[1]\n",
    "                  for word_rank in sorted(ranks.items(), key=lambda x: x[1], reverse=True)[:n_keywords]}\n",
    "    keywords = set(word_ranks.keys())\n",
    "    # merge keywords into keyphrases\n",
    "    keyphrases = {}\n",
    "    j = 0\n",
    "    for i, word in enumerate(words):\n",
    "        if i < j:\n",
    "            continue\n",
    "        if word in keywords:\n",
    "            kp_words = list(takewhile(lambda x: x in keywords, words[i:i+10]))\n",
    "            avg_pagerank = sum(word_ranks[w] for w in kp_words) / float(len(kp_words))\n",
    "            keyphrases[' '.join(kp_words)] = avg_pagerank\n",
    "            # counter as hackish way to ensure merged keyphrases are non-overlapping\n",
    "            j = i + len(kp_words)\n",
    "    \n",
    "    return [tag for tag, score in sorted(keyphrases.items(), key=lambda x: x[1], reverse=True)]"
   ]
  },
  {
   "cell_type": "code",
   "execution_count": 32,
   "metadata": {
    "collapsed": false
   },
   "outputs": [
    {
     "data": {
      "text/plain": [
       "['power', 'servo', 'mode', 'force', 'software']"
      ]
     },
     "execution_count": 32,
     "metadata": {},
     "output_type": "execute_result"
    }
   ],
   "source": [
    "score_keyphrases_by_textrank(text, 0.5)"
   ]
  },
  {
   "cell_type": "code",
   "execution_count": 33,
   "metadata": {
    "collapsed": false
   },
   "outputs": [
    {
     "data": {
      "text/html": [
       "<div>\n",
       "<table border=\"1\" class=\"dataframe\">\n",
       "  <thead>\n",
       "    <tr style=\"text-align: right;\">\n",
       "      <th></th>\n",
       "      <th>tags</th>\n",
       "      <th>title</th>\n",
       "      <th>content</th>\n",
       "      <th>intersection</th>\n",
       "      <th>predictions</th>\n",
       "    </tr>\n",
       "    <tr>\n",
       "      <th>id</th>\n",
       "      <th></th>\n",
       "      <th></th>\n",
       "      <th></th>\n",
       "      <th></th>\n",
       "      <th></th>\n",
       "    </tr>\n",
       "  </thead>\n",
       "  <tbody>\n",
       "    <tr>\n",
       "      <th>1</th>\n",
       "      <td>soccer control</td>\n",
       "      <td>what is the right approach to write the spin c...</td>\n",
       "      <td>imagine programming a 3 wheel soccer robot. wh...</td>\n",
       "      <td>0.500000</td>\n",
       "      <td>void goal number motorspeed software pid devid...</td>\n",
       "    </tr>\n",
       "    <tr>\n",
       "      <th>2</th>\n",
       "      <td>control rcservo</td>\n",
       "      <td>how can i modify a low cost hobby servo to run...</td>\n",
       "      <td>i've got some hobby servos (power hd 1501mgs) ...</td>\n",
       "      <td>0.500000</td>\n",
       "      <td>servo power force mode</td>\n",
       "    </tr>\n",
       "    <tr>\n",
       "      <th>3</th>\n",
       "      <td>gait walk</td>\n",
       "      <td>what useful gaits exist for a six legged robot...</td>\n",
       "      <td>http://www.oricomtech.com/projects/leg-time.ht...</td>\n",
       "      <td>0.000000</td>\n",
       "      <td>pros wave tripod cons</td>\n",
       "    </tr>\n",
       "    <tr>\n",
       "      <th>4</th>\n",
       "      <td>microcontroller arduino raspberry-pi</td>\n",
       "      <td>good microcontrollers/socs for a robotics project</td>\n",
       "      <td>i am looking for a starting point for my proje...</td>\n",
       "      <td>0.333333</td>\n",
       "      <td>ones project observation</td>\n",
       "    </tr>\n",
       "    <tr>\n",
       "      <th>5</th>\n",
       "      <td>motion-planning rrt</td>\n",
       "      <td>nearest-neighbor data structure for non-euclid...</td>\n",
       "      <td>i'm trying to implement a nearest-neighbor str...</td>\n",
       "      <td>0.500000</td>\n",
       "      <td>something space dimension</td>\n",
       "    </tr>\n",
       "  </tbody>\n",
       "</table>\n",
       "</div>"
      ],
      "text/plain": [
       "                                    tags  \\\n",
       "id                                         \n",
       "1                         soccer control   \n",
       "2                        control rcservo   \n",
       "3                              gait walk   \n",
       "4   microcontroller arduino raspberry-pi   \n",
       "5                    motion-planning rrt   \n",
       "\n",
       "                                                title  \\\n",
       "id                                                      \n",
       "1   what is the right approach to write the spin c...   \n",
       "2   how can i modify a low cost hobby servo to run...   \n",
       "3   what useful gaits exist for a six legged robot...   \n",
       "4   good microcontrollers/socs for a robotics project   \n",
       "5   nearest-neighbor data structure for non-euclid...   \n",
       "\n",
       "                                              content  intersection  \\\n",
       "id                                                                    \n",
       "1   imagine programming a 3 wheel soccer robot. wh...      0.500000   \n",
       "2   i've got some hobby servos (power hd 1501mgs) ...      0.500000   \n",
       "3   http://www.oricomtech.com/projects/leg-time.ht...      0.000000   \n",
       "4   i am looking for a starting point for my proje...      0.333333   \n",
       "5   i'm trying to implement a nearest-neighbor str...      0.500000   \n",
       "\n",
       "                                          predictions  \n",
       "id                                                     \n",
       "1   void goal number motorspeed software pid devid...  \n",
       "2                              servo power force mode  \n",
       "3                               pros wave tripod cons  \n",
       "4                            ones project observation  \n",
       "5                           something space dimension  "
      ]
     },
     "execution_count": 33,
     "metadata": {},
     "output_type": "execute_result"
    }
   ],
   "source": [
    "for i, row in data.iterrows():\n",
    "    tags = score_keyphrases_by_textrank(\"{} {}\".format(data.ix[i, 'title'], data.ix[i, 'content']), 0.4)\n",
    "    data.ix[i, 'predictions'] = ' '.join(tags)\n",
    "data.head()"
   ]
  },
  {
   "cell_type": "code",
   "execution_count": 113,
   "metadata": {
    "collapsed": false
   },
   "outputs": [
    {
     "data": {
      "text/html": [
       "<div>\n",
       "<table border=\"1\" class=\"dataframe\">\n",
       "  <thead>\n",
       "    <tr style=\"text-align: right;\">\n",
       "      <th></th>\n",
       "      <th>title</th>\n",
       "      <th>content</th>\n",
       "    </tr>\n",
       "    <tr>\n",
       "      <th>id</th>\n",
       "      <th></th>\n",
       "      <th></th>\n",
       "    </tr>\n",
       "  </thead>\n",
       "  <tbody>\n",
       "    <tr>\n",
       "      <th>1</th>\n",
       "      <td>What is spin as it relates to subatomic partic...</td>\n",
       "      <td>&lt;p&gt;I often hear about subatomic particles havi...</td>\n",
       "    </tr>\n",
       "    <tr>\n",
       "      <th>2</th>\n",
       "      <td>What is your simplest explanation of the strin...</td>\n",
       "      <td>&lt;p&gt;How would you explain string theory to non ...</td>\n",
       "    </tr>\n",
       "    <tr>\n",
       "      <th>3</th>\n",
       "      <td>Lie theory, Representations and particle physics</td>\n",
       "      <td>&lt;p&gt;This is a question that has been posted at ...</td>\n",
       "    </tr>\n",
       "    <tr>\n",
       "      <th>7</th>\n",
       "      <td>Will Determinism be ever possible?</td>\n",
       "      <td>&lt;p&gt;What are the main problems that we need to ...</td>\n",
       "    </tr>\n",
       "    <tr>\n",
       "      <th>9</th>\n",
       "      <td>Hamilton's Principle</td>\n",
       "      <td>&lt;p&gt;Hamilton's principle states that a dynamic ...</td>\n",
       "    </tr>\n",
       "  </tbody>\n",
       "</table>\n",
       "</div>"
      ],
      "text/plain": [
       "                                                title  \\\n",
       "id                                                      \n",
       "1   What is spin as it relates to subatomic partic...   \n",
       "2   What is your simplest explanation of the strin...   \n",
       "3    Lie theory, Representations and particle physics   \n",
       "7                  Will Determinism be ever possible?   \n",
       "9                                Hamilton's Principle   \n",
       "\n",
       "                                              content  \n",
       "id                                                     \n",
       "1   <p>I often hear about subatomic particles havi...  \n",
       "2   <p>How would you explain string theory to non ...  \n",
       "3   <p>This is a question that has been posted at ...  \n",
       "7   <p>What are the main problems that we need to ...  \n",
       "9   <p>Hamilton's principle states that a dynamic ...  "
      ]
     },
     "execution_count": 113,
     "metadata": {},
     "output_type": "execute_result"
    }
   ],
   "source": [
    "test = pd.read_csv('data/test.csv', index_col='id')\n",
    "test.head()"
   ]
  },
  {
   "cell_type": "code",
   "execution_count": 109,
   "metadata": {
    "collapsed": false
   },
   "outputs": [
    {
     "ename": "KeyboardInterrupt",
     "evalue": "",
     "output_type": "error",
     "traceback": [
      "\u001b[0;31m---------------------------------------------------------------------------\u001b[0m",
      "\u001b[0;31mKeyboardInterrupt\u001b[0m                         Traceback (most recent call last)",
      "\u001b[0;32m<ipython-input-109-510399358118>\u001b[0m in \u001b[0;36m<module>\u001b[0;34m()\u001b[0m\n\u001b[0;32m----> 1\u001b[0;31m \u001b[0mtest_data\u001b[0m \u001b[0;34m=\u001b[0m \u001b[0mprepare_test_data\u001b[0m\u001b[0;34m(\u001b[0m\u001b[0mtest\u001b[0m\u001b[0;34m,\u001b[0m \u001b[0mremove_html\u001b[0m\u001b[0;34m)\u001b[0m\u001b[0;34m\u001b[0m\u001b[0m\n\u001b[0m\u001b[1;32m      2\u001b[0m \u001b[0mtest_data\u001b[0m\u001b[0;34m.\u001b[0m\u001b[0mhead\u001b[0m\u001b[0;34m(\u001b[0m\u001b[0;34m)\u001b[0m\u001b[0;34m\u001b[0m\u001b[0m\n",
      "\u001b[0;32m<ipython-input-8-e1bd84fcfcc5>\u001b[0m in \u001b[0;36mprepare_test_data\u001b[0;34m(df, func)\u001b[0m\n\u001b[1;32m      2\u001b[0m     \u001b[0mres\u001b[0m \u001b[0;34m=\u001b[0m \u001b[0mpd\u001b[0m\u001b[0;34m.\u001b[0m\u001b[0mDataFrame\u001b[0m\u001b[0;34m(\u001b[0m\u001b[0mindex\u001b[0m\u001b[0;34m=\u001b[0m\u001b[0mdf\u001b[0m\u001b[0;34m.\u001b[0m\u001b[0mindex\u001b[0m\u001b[0;34m)\u001b[0m\u001b[0;34m\u001b[0m\u001b[0m\n\u001b[1;32m      3\u001b[0m     \u001b[0mres\u001b[0m\u001b[0;34m[\u001b[0m\u001b[0;34m'title'\u001b[0m\u001b[0;34m]\u001b[0m \u001b[0;34m=\u001b[0m \u001b[0mdf\u001b[0m\u001b[0;34m[\u001b[0m\u001b[0;34m'title'\u001b[0m\u001b[0;34m]\u001b[0m\u001b[0;34m.\u001b[0m\u001b[0mapply\u001b[0m\u001b[0;34m(\u001b[0m\u001b[0mfunc\u001b[0m\u001b[0;34m)\u001b[0m\u001b[0;34m\u001b[0m\u001b[0m\n\u001b[0;32m----> 4\u001b[0;31m     \u001b[0mres\u001b[0m\u001b[0;34m[\u001b[0m\u001b[0;34m'content'\u001b[0m\u001b[0;34m]\u001b[0m \u001b[0;34m=\u001b[0m \u001b[0mdf\u001b[0m\u001b[0;34m[\u001b[0m\u001b[0;34m'content'\u001b[0m\u001b[0;34m]\u001b[0m\u001b[0;34m.\u001b[0m\u001b[0mapply\u001b[0m\u001b[0;34m(\u001b[0m\u001b[0mfunc\u001b[0m\u001b[0;34m)\u001b[0m\u001b[0;34m\u001b[0m\u001b[0m\n\u001b[0m\u001b[1;32m      5\u001b[0m     \u001b[0;32mreturn\u001b[0m \u001b[0mres\u001b[0m\u001b[0;34m\u001b[0m\u001b[0m\n",
      "\u001b[0;32m/usr/local/lib/python3.5/site-packages/pandas/core/series.py\u001b[0m in \u001b[0;36mapply\u001b[0;34m(self, func, convert_dtype, args, **kwds)\u001b[0m\n\u001b[1;32m   2290\u001b[0m             \u001b[0;32melse\u001b[0m\u001b[0;34m:\u001b[0m\u001b[0;34m\u001b[0m\u001b[0m\n\u001b[1;32m   2291\u001b[0m                 \u001b[0mvalues\u001b[0m \u001b[0;34m=\u001b[0m \u001b[0mself\u001b[0m\u001b[0;34m.\u001b[0m\u001b[0masobject\u001b[0m\u001b[0;34m\u001b[0m\u001b[0m\n\u001b[0;32m-> 2292\u001b[0;31m                 \u001b[0mmapped\u001b[0m \u001b[0;34m=\u001b[0m \u001b[0mlib\u001b[0m\u001b[0;34m.\u001b[0m\u001b[0mmap_infer\u001b[0m\u001b[0;34m(\u001b[0m\u001b[0mvalues\u001b[0m\u001b[0;34m,\u001b[0m \u001b[0mf\u001b[0m\u001b[0;34m,\u001b[0m \u001b[0mconvert\u001b[0m\u001b[0;34m=\u001b[0m\u001b[0mconvert_dtype\u001b[0m\u001b[0;34m)\u001b[0m\u001b[0;34m\u001b[0m\u001b[0m\n\u001b[0m\u001b[1;32m   2293\u001b[0m \u001b[0;34m\u001b[0m\u001b[0m\n\u001b[1;32m   2294\u001b[0m         \u001b[0;32mif\u001b[0m \u001b[0mlen\u001b[0m\u001b[0;34m(\u001b[0m\u001b[0mmapped\u001b[0m\u001b[0;34m)\u001b[0m \u001b[0;32mand\u001b[0m \u001b[0misinstance\u001b[0m\u001b[0;34m(\u001b[0m\u001b[0mmapped\u001b[0m\u001b[0;34m[\u001b[0m\u001b[0;36m0\u001b[0m\u001b[0;34m]\u001b[0m\u001b[0;34m,\u001b[0m \u001b[0mSeries\u001b[0m\u001b[0;34m)\u001b[0m\u001b[0;34m:\u001b[0m\u001b[0;34m\u001b[0m\u001b[0m\n",
      "\u001b[0;32mpandas/src/inference.pyx\u001b[0m in \u001b[0;36mpandas.lib.map_infer (pandas/lib.c:66116)\u001b[0;34m()\u001b[0m\n",
      "\u001b[0;32m<ipython-input-104-b141eb4e4516>\u001b[0m in \u001b[0;36mremove_html\u001b[0;34m(text)\u001b[0m\n\u001b[1;32m      1\u001b[0m \u001b[0;32mdef\u001b[0m \u001b[0mremove_html\u001b[0m\u001b[0;34m(\u001b[0m\u001b[0mtext\u001b[0m\u001b[0;34m)\u001b[0m\u001b[0;34m:\u001b[0m\u001b[0;34m\u001b[0m\u001b[0m\n\u001b[1;32m      2\u001b[0m     \u001b[0;31m# return re.sub(r'\\s+', ' ', re.sub(\"<.*?>\", \"\", text)).lower().strip()\u001b[0m\u001b[0;34m\u001b[0m\u001b[0;34m\u001b[0m\u001b[0m\n\u001b[0;32m----> 3\u001b[0;31m     \u001b[0;32mreturn\u001b[0m \u001b[0mre\u001b[0m\u001b[0;34m.\u001b[0m\u001b[0msub\u001b[0m\u001b[0;34m(\u001b[0m\u001b[0;34m\"[0-9]+\"\u001b[0m\u001b[0;34m,\u001b[0m \u001b[0;34m\"\"\u001b[0m\u001b[0;34m,\u001b[0m \u001b[0mre\u001b[0m\u001b[0;34m.\u001b[0m\u001b[0msub\u001b[0m\u001b[0;34m(\u001b[0m\u001b[0;34mr'\\s+'\u001b[0m\u001b[0;34m,\u001b[0m \u001b[0;34m' '\u001b[0m\u001b[0;34m,\u001b[0m \u001b[0mBeautifulSoup\u001b[0m\u001b[0;34m(\u001b[0m\u001b[0mtext\u001b[0m\u001b[0;34m,\u001b[0m \u001b[0;34m\"html.parser\"\u001b[0m\u001b[0;34m)\u001b[0m\u001b[0;34m.\u001b[0m\u001b[0mget_text\u001b[0m\u001b[0;34m(\u001b[0m\u001b[0;34m)\u001b[0m\u001b[0;34m)\u001b[0m\u001b[0;34m.\u001b[0m\u001b[0mlower\u001b[0m\u001b[0;34m(\u001b[0m\u001b[0;34m)\u001b[0m\u001b[0;34m.\u001b[0m\u001b[0mstrip\u001b[0m\u001b[0;34m(\u001b[0m\u001b[0;34m)\u001b[0m\u001b[0;34m)\u001b[0m\u001b[0;34m\u001b[0m\u001b[0m\n\u001b[0m",
      "\u001b[0;32m/usr/local/lib/python3.5/site-packages/bs4/__init__.py\u001b[0m in \u001b[0;36m__init__\u001b[0;34m(self, markup, features, builder, parse_only, from_encoding, exclude_encodings, **kwargs)\u001b[0m\n\u001b[1;32m    226\u001b[0m             \u001b[0mself\u001b[0m\u001b[0;34m.\u001b[0m\u001b[0mreset\u001b[0m\u001b[0;34m(\u001b[0m\u001b[0;34m)\u001b[0m\u001b[0;34m\u001b[0m\u001b[0m\n\u001b[1;32m    227\u001b[0m             \u001b[0;32mtry\u001b[0m\u001b[0;34m:\u001b[0m\u001b[0;34m\u001b[0m\u001b[0m\n\u001b[0;32m--> 228\u001b[0;31m                 \u001b[0mself\u001b[0m\u001b[0;34m.\u001b[0m\u001b[0m_feed\u001b[0m\u001b[0;34m(\u001b[0m\u001b[0;34m)\u001b[0m\u001b[0;34m\u001b[0m\u001b[0m\n\u001b[0m\u001b[1;32m    229\u001b[0m                 \u001b[0;32mbreak\u001b[0m\u001b[0;34m\u001b[0m\u001b[0m\n\u001b[1;32m    230\u001b[0m             \u001b[0;32mexcept\u001b[0m \u001b[0mParserRejectedMarkup\u001b[0m\u001b[0;34m:\u001b[0m\u001b[0;34m\u001b[0m\u001b[0m\n",
      "\u001b[0;32m/usr/local/lib/python3.5/site-packages/bs4/__init__.py\u001b[0m in \u001b[0;36m_feed\u001b[0;34m(self)\u001b[0m\n\u001b[1;32m    287\u001b[0m         \u001b[0mself\u001b[0m\u001b[0;34m.\u001b[0m\u001b[0mbuilder\u001b[0m\u001b[0;34m.\u001b[0m\u001b[0mreset\u001b[0m\u001b[0;34m(\u001b[0m\u001b[0;34m)\u001b[0m\u001b[0;34m\u001b[0m\u001b[0m\n\u001b[1;32m    288\u001b[0m \u001b[0;34m\u001b[0m\u001b[0m\n\u001b[0;32m--> 289\u001b[0;31m         \u001b[0mself\u001b[0m\u001b[0;34m.\u001b[0m\u001b[0mbuilder\u001b[0m\u001b[0;34m.\u001b[0m\u001b[0mfeed\u001b[0m\u001b[0;34m(\u001b[0m\u001b[0mself\u001b[0m\u001b[0;34m.\u001b[0m\u001b[0mmarkup\u001b[0m\u001b[0;34m)\u001b[0m\u001b[0;34m\u001b[0m\u001b[0m\n\u001b[0m\u001b[1;32m    290\u001b[0m         \u001b[0;31m# Close out any unfinished strings and close all the open tags.\u001b[0m\u001b[0;34m\u001b[0m\u001b[0;34m\u001b[0m\u001b[0m\n\u001b[1;32m    291\u001b[0m         \u001b[0mself\u001b[0m\u001b[0;34m.\u001b[0m\u001b[0mendData\u001b[0m\u001b[0;34m(\u001b[0m\u001b[0;34m)\u001b[0m\u001b[0;34m\u001b[0m\u001b[0m\n",
      "\u001b[0;32m/usr/local/lib/python3.5/site-packages/bs4/builder/_htmlparser.py\u001b[0m in \u001b[0;36mfeed\u001b[0;34m(self, markup)\u001b[0m\n\u001b[1;32m    165\u001b[0m         \u001b[0mparser\u001b[0m\u001b[0;34m.\u001b[0m\u001b[0msoup\u001b[0m \u001b[0;34m=\u001b[0m \u001b[0mself\u001b[0m\u001b[0;34m.\u001b[0m\u001b[0msoup\u001b[0m\u001b[0;34m\u001b[0m\u001b[0m\n\u001b[1;32m    166\u001b[0m         \u001b[0;32mtry\u001b[0m\u001b[0;34m:\u001b[0m\u001b[0;34m\u001b[0m\u001b[0m\n\u001b[0;32m--> 167\u001b[0;31m             \u001b[0mparser\u001b[0m\u001b[0;34m.\u001b[0m\u001b[0mfeed\u001b[0m\u001b[0;34m(\u001b[0m\u001b[0mmarkup\u001b[0m\u001b[0;34m)\u001b[0m\u001b[0;34m\u001b[0m\u001b[0m\n\u001b[0m\u001b[1;32m    168\u001b[0m         \u001b[0;32mexcept\u001b[0m \u001b[0mHTMLParseError\u001b[0m \u001b[0;32mas\u001b[0m \u001b[0me\u001b[0m\u001b[0;34m:\u001b[0m\u001b[0;34m\u001b[0m\u001b[0m\n\u001b[1;32m    169\u001b[0m             warnings.warn(RuntimeWarning(\n",
      "\u001b[0;32m/usr/local/Cellar/python3/3.5.2_3/Frameworks/Python.framework/Versions/3.5/lib/python3.5/html/parser.py\u001b[0m in \u001b[0;36mfeed\u001b[0;34m(self, data)\u001b[0m\n\u001b[1;32m    109\u001b[0m         \"\"\"\n\u001b[1;32m    110\u001b[0m         \u001b[0mself\u001b[0m\u001b[0;34m.\u001b[0m\u001b[0mrawdata\u001b[0m \u001b[0;34m=\u001b[0m \u001b[0mself\u001b[0m\u001b[0;34m.\u001b[0m\u001b[0mrawdata\u001b[0m \u001b[0;34m+\u001b[0m \u001b[0mdata\u001b[0m\u001b[0;34m\u001b[0m\u001b[0m\n\u001b[0;32m--> 111\u001b[0;31m         \u001b[0mself\u001b[0m\u001b[0;34m.\u001b[0m\u001b[0mgoahead\u001b[0m\u001b[0;34m(\u001b[0m\u001b[0;36m0\u001b[0m\u001b[0;34m)\u001b[0m\u001b[0;34m\u001b[0m\u001b[0m\n\u001b[0m\u001b[1;32m    112\u001b[0m \u001b[0;34m\u001b[0m\u001b[0m\n\u001b[1;32m    113\u001b[0m     \u001b[0;32mdef\u001b[0m \u001b[0mclose\u001b[0m\u001b[0;34m(\u001b[0m\u001b[0mself\u001b[0m\u001b[0;34m)\u001b[0m\u001b[0;34m:\u001b[0m\u001b[0;34m\u001b[0m\u001b[0m\n",
      "\u001b[0;32m/usr/local/Cellar/python3/3.5.2_3/Frameworks/Python.framework/Versions/3.5/lib/python3.5/html/parser.py\u001b[0m in \u001b[0;36mgoahead\u001b[0;34m(self, end)\u001b[0m\n\u001b[1;32m    169\u001b[0m             \u001b[0;32mif\u001b[0m \u001b[0mstartswith\u001b[0m\u001b[0;34m(\u001b[0m\u001b[0;34m'<'\u001b[0m\u001b[0;34m,\u001b[0m \u001b[0mi\u001b[0m\u001b[0;34m)\u001b[0m\u001b[0;34m:\u001b[0m\u001b[0;34m\u001b[0m\u001b[0m\n\u001b[1;32m    170\u001b[0m                 \u001b[0;32mif\u001b[0m \u001b[0mstarttagopen\u001b[0m\u001b[0;34m.\u001b[0m\u001b[0mmatch\u001b[0m\u001b[0;34m(\u001b[0m\u001b[0mrawdata\u001b[0m\u001b[0;34m,\u001b[0m \u001b[0mi\u001b[0m\u001b[0;34m)\u001b[0m\u001b[0;34m:\u001b[0m \u001b[0;31m# < + letter\u001b[0m\u001b[0;34m\u001b[0m\u001b[0m\n\u001b[0;32m--> 171\u001b[0;31m                     \u001b[0mk\u001b[0m \u001b[0;34m=\u001b[0m \u001b[0mself\u001b[0m\u001b[0;34m.\u001b[0m\u001b[0mparse_starttag\u001b[0m\u001b[0;34m(\u001b[0m\u001b[0mi\u001b[0m\u001b[0;34m)\u001b[0m\u001b[0;34m\u001b[0m\u001b[0m\n\u001b[0m\u001b[1;32m    172\u001b[0m                 \u001b[0;32melif\u001b[0m \u001b[0mstartswith\u001b[0m\u001b[0;34m(\u001b[0m\u001b[0;34m\"</\"\u001b[0m\u001b[0;34m,\u001b[0m \u001b[0mi\u001b[0m\u001b[0;34m)\u001b[0m\u001b[0;34m:\u001b[0m\u001b[0;34m\u001b[0m\u001b[0m\n\u001b[1;32m    173\u001b[0m                     \u001b[0mk\u001b[0m \u001b[0;34m=\u001b[0m \u001b[0mself\u001b[0m\u001b[0;34m.\u001b[0m\u001b[0mparse_endtag\u001b[0m\u001b[0;34m(\u001b[0m\u001b[0mi\u001b[0m\u001b[0;34m)\u001b[0m\u001b[0;34m\u001b[0m\u001b[0m\n",
      "\u001b[0;32m/usr/local/Cellar/python3/3.5.2_3/Frameworks/Python.framework/Versions/3.5/lib/python3.5/html/parser.py\u001b[0m in \u001b[0;36mparse_starttag\u001b[0;34m(self, i)\u001b[0m\n\u001b[1;32m    339\u001b[0m             \u001b[0mself\u001b[0m\u001b[0;34m.\u001b[0m\u001b[0mhandle_data\u001b[0m\u001b[0;34m(\u001b[0m\u001b[0mrawdata\u001b[0m\u001b[0;34m[\u001b[0m\u001b[0mi\u001b[0m\u001b[0;34m:\u001b[0m\u001b[0mendpos\u001b[0m\u001b[0;34m]\u001b[0m\u001b[0;34m)\u001b[0m\u001b[0;34m\u001b[0m\u001b[0m\n\u001b[1;32m    340\u001b[0m             \u001b[0;32mreturn\u001b[0m \u001b[0mendpos\u001b[0m\u001b[0;34m\u001b[0m\u001b[0m\n\u001b[0;32m--> 341\u001b[0;31m         \u001b[0;32mif\u001b[0m \u001b[0mend\u001b[0m\u001b[0;34m.\u001b[0m\u001b[0mendswith\u001b[0m\u001b[0;34m(\u001b[0m\u001b[0;34m'/>'\u001b[0m\u001b[0;34m)\u001b[0m\u001b[0;34m:\u001b[0m\u001b[0;34m\u001b[0m\u001b[0m\n\u001b[0m\u001b[1;32m    342\u001b[0m             \u001b[0;31m# XHTML-style empty tag: <span attr=\"value\" />\u001b[0m\u001b[0;34m\u001b[0m\u001b[0;34m\u001b[0m\u001b[0m\n\u001b[1;32m    343\u001b[0m             \u001b[0mself\u001b[0m\u001b[0;34m.\u001b[0m\u001b[0mhandle_startendtag\u001b[0m\u001b[0;34m(\u001b[0m\u001b[0mtag\u001b[0m\u001b[0;34m,\u001b[0m \u001b[0mattrs\u001b[0m\u001b[0;34m)\u001b[0m\u001b[0;34m\u001b[0m\u001b[0m\n",
      "\u001b[0;31mKeyboardInterrupt\u001b[0m: "
     ]
    }
   ],
   "source": [
    "test_data = prepare_test_data(test, remove_html)\n",
    "test_data.head()"
   ]
  },
  {
   "cell_type": "code",
   "execution_count": 36,
   "metadata": {
    "collapsed": false
   },
   "outputs": [
    {
     "data": {
      "text/plain": [
       "(81926, 2)"
      ]
     },
     "execution_count": 36,
     "metadata": {},
     "output_type": "execute_result"
    }
   ],
   "source": [
    "test.shape"
   ]
  },
  {
   "cell_type": "code",
   "execution_count": 105,
   "metadata": {
    "collapsed": false
   },
   "outputs": [
    {
     "data": {
      "text/plain": [
       "'i recently encountered a puzzle where a person drove  miles at mph, then drove back the same  miles at mph. the average of the speeds is $\\\\frac{mph+mph}{} = mph$, so the total trip time should be $\\\\frac{mi}{mph} = . hours$. but the trip actually took  hours. why is that, and what is the correct way to calculate the average speed?'"
      ]
     },
     "execution_count": 105,
     "metadata": {},
     "output_type": "execute_result"
    }
   ],
   "source": [
    "remove_html(test.ix[29,'content'])"
   ]
  },
  {
   "cell_type": "code",
   "execution_count": 50,
   "metadata": {
    "collapsed": false
   },
   "outputs": [
    {
     "data": {
      "text/plain": [
       "'i recently encountered a puzzle where a person drove 120 miles at 40mph, then drove back the same 120 miles at 60mph. the average of the speeds is $\\\\frac{40mph+60mph}{2} = 50mph$, so the total trip time should be $\\\\frac{240mi}{50mph} = 4.8 hours$. but the trip actually took 5 hours. why is that, and what is the correct way to calculate the average speed?'"
      ]
     },
     "execution_count": 50,
     "metadata": {},
     "output_type": "execute_result"
    }
   ],
   "source": [
    "test_data.ix[29,'content']"
   ]
  },
  {
   "cell_type": "code",
   "execution_count": 63,
   "metadata": {
    "collapsed": false
   },
   "outputs": [
    {
     "data": {
      "text/plain": [
       "\"What is Einstein's theory of Special relativity, in terms a lay person can follow?\\n\""
      ]
     },
     "execution_count": 63,
     "metadata": {},
     "output_type": "execute_result"
    }
   ],
   "source": [
    "soup = BeautifulSoup(test.ix[31,'content'], 'html.parser')\n",
    "soup.get_text()"
   ]
  },
  {
   "cell_type": "markdown",
   "metadata": {},
   "source": [
    "Use https://code.google.com/archive/p/opendetex/wikis/Usage.wiki to remove latex"
   ]
  }
 ],
 "metadata": {
  "kernelspec": {
   "display_name": "Python 3",
   "language": "python",
   "name": "python3"
  },
  "language_info": {
   "codemirror_mode": {
    "name": "ipython",
    "version": 3
   },
   "file_extension": ".py",
   "mimetype": "text/x-python",
   "name": "python",
   "nbconvert_exporter": "python",
   "pygments_lexer": "ipython3",
   "version": "3.5.2"
  }
 },
 "nbformat": 4,
 "nbformat_minor": 0
}
