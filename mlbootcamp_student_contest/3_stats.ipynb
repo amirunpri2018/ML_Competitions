{
 "cells": [
  {
   "cell_type": "code",
   "execution_count": 10,
   "metadata": {
    "collapsed": false
   },
   "outputs": [],
   "source": [
    "%matplotlib inline\n",
    "import pandas as pd\n",
    "import numpy as np\n",
    "from matplotlib import pyplot as plt\n",
    "import seaborn as sns\n",
    "from scipy import stats\n",
    "from sklearn.neighbors import KNeighborsClassifier\n",
    "from sklearn.model_selection import GridSearchCV\n",
    "from sklearn.model_selection import StratifiedKFold\n",
    "import matplotlib.cm as cm # импортируем цветовые схемы, чтобы рисовать графики.\n",
    "from sklearn.model_selection import cross_val_score\n",
    "from sklearn.preprocessing import StandardScaler\n",
    "import xgboost as xgb\n",
    "from sklearn import linear_model\n",
    "from scipy.special import erfc\n",
    "from scipy.signal import correlate\n",
    "from scipy.fftpack import fft\n",
    "import statsmodels.api as sm\n",
    "from sklearn.ensemble import VotingClassifier\n",
    "from sklearn.feature_extraction.text import CountVectorizer"
   ]
  },
  {
   "cell_type": "code",
   "execution_count": 2,
   "metadata": {
    "collapsed": true
   },
   "outputs": [],
   "source": [
    "X_train = pd.read_csv('data_public/x_train.csv', header=None)\n",
    "Y_train = pd.read_csv('data_public/y_train.csv', header=None)\n",
    "Y_train.columns = ['target']\n",
    "X_test = pd.read_csv('data_public/x_test.csv', header=None)"
   ]
  },
  {
   "cell_type": "code",
   "execution_count": 3,
   "metadata": {
    "collapsed": false
   },
   "outputs": [],
   "source": [
    "def r(a,b):\n",
    "    if (a == b):\n",
    "        return 0\n",
    "    else:\n",
    "        return 1\n",
    "    \n",
    "def switchness(seq):\n",
    "    return np.sum([r(seq[i], seq[i+1]) for i in range(len(seq)-1)]) +1\n",
    "\n",
    "assert(switchness([1,0,0,1,1,0,1,0,1,1])==7)"
   ]
  },
  {
   "cell_type": "code",
   "execution_count": 4,
   "metadata": {
    "collapsed": false
   },
   "outputs": [],
   "source": [
    "def longest_seq(seq):\n",
    "    return np.max([len(sub) for sub in \"\".join([str(i) for i in seq]).split('0')])\n",
    "def longest_seq_sum(seq):\n",
    "    return np.sum([len(sub) for sub in \"\".join([str(i) for i in seq]).split('0')])\n",
    "def longest_seq_mean(seq):\n",
    "    return np.mean([len(sub) for sub in \"\".join([str(i) for i in seq]).split('0')])\n",
    "assert(longest_seq([1,1,1,0,1,0,1,1])==3)"
   ]
  },
  {
   "cell_type": "code",
   "execution_count": 5,
   "metadata": {
    "collapsed": false
   },
   "outputs": [
    {
     "data": {
      "text/plain": [
       "8.0"
      ]
     },
     "execution_count": 5,
     "metadata": {},
     "output_type": "execute_result"
    }
   ],
   "source": [
    "arr = [1,0,1,0,1,0,1,0]\n",
    "arr2= [1,1,1,1,1,1,1,1]\n",
    "np.max(np.abs(fft(arr2)))"
   ]
  },
  {
   "cell_type": "code",
   "execution_count": 62,
   "metadata": {
    "collapsed": false
   },
   "outputs": [],
   "source": [
    "def extract_features(data):\n",
    "    word = data.apply(lambda row: ''.join([str(c) for c in row]), axis=1)\n",
    "    d = pd.DataFrame(index=data.index)\n",
    "    d['freq_bitwise_test'] = data.apply(lambda row: erfc((2.0*np.sum(row) - row.size) / np.sqrt(row.size)), axis=1)\n",
    "    d['switchness'] = data.apply(lambda row: switchness(row), axis=1)\n",
    "    d['longest_seq'] = data.apply(lambda row: longest_seq(row), axis=1)\n",
    "    d['longest_seq_sum'] = data.apply(lambda row: longest_seq_sum(row), axis=1)\n",
    "    d['longest_seq_mean'] = data.apply(lambda row: longest_seq_mean(row), axis=1)\n",
    "    # d['kurtosis'] = data.apply(lambda row: stats.kurtosis(row), axis=1)\n",
    "    # d['normal_stat'] = data.apply(lambda row: stats.normaltest(row)[1], axis=1)\n",
    "    d['mean'] = data.apply(lambda row: np.mean(row), axis=1)\n",
    "    d['entropy'] = data.apply(lambda row: stats.entropy(row), axis=1)\n",
    "    \n",
    "    vec = CountVectorizer(analyzer='char', ngram_range=(6,8))\n",
    "    bag = pd.DataFrame(vec.fit_transform(word).toarray())\n",
    "    \n",
    "    d['adfuller'] = data.apply(lambda row: sm.tsa.stattools.adfuller(row)[1], axis=1)\n",
    "    d['student'] = data.apply(lambda row: stats.ttest_1samp(row,0)[1], axis=1)\n",
    "    return pd.concat([d.fillna(0), bag], axis=1)\n"
   ]
  },
  {
   "cell_type": "code",
   "execution_count": 63,
   "metadata": {
    "collapsed": false
   },
   "outputs": [
    {
     "name": "stderr",
     "output_type": "stream",
     "text": [
      "/usr/local/lib/python3.5/site-packages/statsmodels/regression/linear_model.py:660: RuntimeWarning: divide by zero encountered in log\n",
      "  llf = -nobs2*np.log(2*np.pi) - nobs2*np.log(ssr / nobs) - nobs2\n",
      "/usr/local/lib/python3.5/site-packages/statsmodels/base/model.py:1036: RuntimeWarning: invalid value encountered in true_divide\n",
      "  return self.params / self.bse\n"
     ]
    },
    {
     "data": {
      "text/html": [
       "<div>\n",
       "<table border=\"1\" class=\"dataframe\">\n",
       "  <thead>\n",
       "    <tr style=\"text-align: right;\">\n",
       "      <th></th>\n",
       "      <th>freq_bitwise_test</th>\n",
       "      <th>switchness</th>\n",
       "      <th>longest_seq</th>\n",
       "      <th>longest_seq_sum</th>\n",
       "      <th>longest_seq_mean</th>\n",
       "      <th>mean</th>\n",
       "      <th>entropy</th>\n",
       "      <th>adfuller</th>\n",
       "      <th>student</th>\n",
       "      <th>0</th>\n",
       "      <th>...</th>\n",
       "      <th>439</th>\n",
       "      <th>440</th>\n",
       "      <th>441</th>\n",
       "      <th>442</th>\n",
       "      <th>443</th>\n",
       "      <th>444</th>\n",
       "      <th>445</th>\n",
       "      <th>446</th>\n",
       "      <th>447</th>\n",
       "      <th>target</th>\n",
       "    </tr>\n",
       "  </thead>\n",
       "  <tbody>\n",
       "    <tr>\n",
       "      <th>0</th>\n",
       "      <td>0.605577</td>\n",
       "      <td>15</td>\n",
       "      <td>5</td>\n",
       "      <td>16</td>\n",
       "      <td>1.066667</td>\n",
       "      <td>0.533333</td>\n",
       "      <td>2.772589</td>\n",
       "      <td>1.973197e-05</td>\n",
       "      <td>3.108541e-06</td>\n",
       "      <td>0</td>\n",
       "      <td>...</td>\n",
       "      <td>0</td>\n",
       "      <td>1</td>\n",
       "      <td>0</td>\n",
       "      <td>0</td>\n",
       "      <td>0</td>\n",
       "      <td>0</td>\n",
       "      <td>0</td>\n",
       "      <td>0</td>\n",
       "      <td>0</td>\n",
       "      <td>1</td>\n",
       "    </tr>\n",
       "    <tr>\n",
       "      <th>1</th>\n",
       "      <td>0.605577</td>\n",
       "      <td>20</td>\n",
       "      <td>3</td>\n",
       "      <td>16</td>\n",
       "      <td>1.066667</td>\n",
       "      <td>0.533333</td>\n",
       "      <td>2.772589</td>\n",
       "      <td>2.670386e-10</td>\n",
       "      <td>3.108541e-06</td>\n",
       "      <td>0</td>\n",
       "      <td>...</td>\n",
       "      <td>0</td>\n",
       "      <td>0</td>\n",
       "      <td>0</td>\n",
       "      <td>0</td>\n",
       "      <td>0</td>\n",
       "      <td>0</td>\n",
       "      <td>0</td>\n",
       "      <td>0</td>\n",
       "      <td>0</td>\n",
       "      <td>1</td>\n",
       "    </tr>\n",
       "    <tr>\n",
       "      <th>2</th>\n",
       "      <td>1.000000</td>\n",
       "      <td>19</td>\n",
       "      <td>3</td>\n",
       "      <td>15</td>\n",
       "      <td>0.937500</td>\n",
       "      <td>0.500000</td>\n",
       "      <td>2.708050</td>\n",
       "      <td>4.944840e-09</td>\n",
       "      <td>8.699475e-06</td>\n",
       "      <td>0</td>\n",
       "      <td>...</td>\n",
       "      <td>0</td>\n",
       "      <td>0</td>\n",
       "      <td>0</td>\n",
       "      <td>0</td>\n",
       "      <td>0</td>\n",
       "      <td>0</td>\n",
       "      <td>0</td>\n",
       "      <td>0</td>\n",
       "      <td>0</td>\n",
       "      <td>1</td>\n",
       "    </tr>\n",
       "    <tr>\n",
       "      <th>3</th>\n",
       "      <td>0.301700</td>\n",
       "      <td>20</td>\n",
       "      <td>3</td>\n",
       "      <td>17</td>\n",
       "      <td>1.214286</td>\n",
       "      <td>0.566667</td>\n",
       "      <td>2.833213</td>\n",
       "      <td>2.953531e-01</td>\n",
       "      <td>1.032992e-06</td>\n",
       "      <td>0</td>\n",
       "      <td>...</td>\n",
       "      <td>0</td>\n",
       "      <td>0</td>\n",
       "      <td>0</td>\n",
       "      <td>0</td>\n",
       "      <td>0</td>\n",
       "      <td>0</td>\n",
       "      <td>0</td>\n",
       "      <td>0</td>\n",
       "      <td>0</td>\n",
       "      <td>0</td>\n",
       "    </tr>\n",
       "    <tr>\n",
       "      <th>4</th>\n",
       "      <td>0.038867</td>\n",
       "      <td>19</td>\n",
       "      <td>4</td>\n",
       "      <td>19</td>\n",
       "      <td>1.583333</td>\n",
       "      <td>0.633333</td>\n",
       "      <td>2.944439</td>\n",
       "      <td>2.064574e-10</td>\n",
       "      <td>8.716303e-08</td>\n",
       "      <td>0</td>\n",
       "      <td>...</td>\n",
       "      <td>0</td>\n",
       "      <td>0</td>\n",
       "      <td>0</td>\n",
       "      <td>0</td>\n",
       "      <td>0</td>\n",
       "      <td>0</td>\n",
       "      <td>0</td>\n",
       "      <td>0</td>\n",
       "      <td>0</td>\n",
       "      <td>2</td>\n",
       "    </tr>\n",
       "  </tbody>\n",
       "</table>\n",
       "<p>5 rows × 458 columns</p>\n",
       "</div>"
      ],
      "text/plain": [
       "   freq_bitwise_test  switchness  longest_seq  longest_seq_sum  \\\n",
       "0           0.605577          15            5               16   \n",
       "1           0.605577          20            3               16   \n",
       "2           1.000000          19            3               15   \n",
       "3           0.301700          20            3               17   \n",
       "4           0.038867          19            4               19   \n",
       "\n",
       "   longest_seq_mean      mean   entropy      adfuller       student  0  \\\n",
       "0          1.066667  0.533333  2.772589  1.973197e-05  3.108541e-06  0   \n",
       "1          1.066667  0.533333  2.772589  2.670386e-10  3.108541e-06  0   \n",
       "2          0.937500  0.500000  2.708050  4.944840e-09  8.699475e-06  0   \n",
       "3          1.214286  0.566667  2.833213  2.953531e-01  1.032992e-06  0   \n",
       "4          1.583333  0.633333  2.944439  2.064574e-10  8.716303e-08  0   \n",
       "\n",
       "    ...    439  440  441  442  443  444  445  446  447  target  \n",
       "0   ...      0    1    0    0    0    0    0    0    0       1  \n",
       "1   ...      0    0    0    0    0    0    0    0    0       1  \n",
       "2   ...      0    0    0    0    0    0    0    0    0       1  \n",
       "3   ...      0    0    0    0    0    0    0    0    0       0  \n",
       "4   ...      0    0    0    0    0    0    0    0    0       2  \n",
       "\n",
       "[5 rows x 458 columns]"
      ]
     },
     "execution_count": 63,
     "metadata": {},
     "output_type": "execute_result"
    }
   ],
   "source": [
    "d = extract_features(X_train)\n",
    "d['target'] = Y_train\n",
    "X = d.drop(['target'], axis=1)\n",
    "d.head()"
   ]
  },
  {
   "cell_type": "code",
   "execution_count": 64,
   "metadata": {
    "collapsed": false
   },
   "outputs": [
    {
     "name": "stdout",
     "output_type": "stream",
     "text": [
      "Best score: 0.5428571428571428\n",
      "Best parameters: {'n_iter': 100, 'alpha': 0.0001}\n"
     ]
    }
   ],
   "source": [
    "def linear(X, y):\n",
    "    clf = linear_model.SGDClassifier(loss='log')\n",
    "    params = {\n",
    "        'alpha': [0.0001],\n",
    "        'n_iter': [100]\n",
    "    }\n",
    "    grid_search = GridSearchCV(clf, param_grid=params, cv=StratifiedKFold(5, random_state=42), scoring='accuracy')\n",
    "    grid_search.fit(X, y)\n",
    "    print('Best score: {}'.format(grid_search.best_score_))\n",
    "    print('Best parameters: {}'.format(grid_search.best_params_))\n",
    "    return grid_search\n",
    "\n",
    "scaler = StandardScaler()\n",
    "linear_clf = linear(scaler.fit_transform(X), Y_train.target)"
   ]
  },
  {
   "cell_type": "code",
   "execution_count": 65,
   "metadata": {
    "collapsed": false
   },
   "outputs": [
    {
     "name": "stdout",
     "output_type": "stream",
     "text": [
      "Best score: 0.6523809523809524\n",
      "Best parameters: {'n_neighbors': 20, 'weights': 'distance', 'metric': 'minkowski'}\n"
     ]
    }
   ],
   "source": [
    "def knn(X, y):\n",
    "    clf = KNeighborsClassifier()\n",
    "    params = {\n",
    "        'n_neighbors': [5, 8, 9, 10, 11, 12, 13, 14,15,16,17,18,19,20], \n",
    "        'metric': ['hamming', 'jaccard', 'minkowski'],\n",
    "        'weights': ['uniform', 'distance']}\n",
    "    grid_search = GridSearchCV(clf, param_grid=params, cv=StratifiedKFold(5, random_state=42), scoring='accuracy')\n",
    "    grid_search.fit(X, y)\n",
    "    print('Best score: {}'.format(grid_search.best_score_))\n",
    "    print('Best parameters: {}'.format(grid_search.best_params_))\n",
    "    return grid_search\n",
    "\n",
    "knn_clf = knn(X, Y_train.target)"
   ]
  },
  {
   "cell_type": "code",
   "execution_count": 66,
   "metadata": {
    "collapsed": false
   },
   "outputs": [
    {
     "name": "stdout",
     "output_type": "stream",
     "text": [
      "Score: 0.5900498338870432 (+/- 0.006733794819532281)\n"
     ]
    }
   ],
   "source": [
    "xgb_clf = xgb.XGBClassifier(n_estimators=100)\n",
    "scores = cross_val_score(xgb_clf, X, Y_train.target, cv=StratifiedKFold(5, random_state=42), scoring='accuracy')\n",
    "print(\"Score: {} (+/- {})\".format(scores.mean(), scores.std() ** 2))"
   ]
  },
  {
   "cell_type": "code",
   "execution_count": 67,
   "metadata": {
    "collapsed": false
   },
   "outputs": [
    {
     "name": "stderr",
     "output_type": "stream",
     "text": [
      "/usr/local/lib/python3.5/site-packages/sklearn/linear_model/base.py:352: RuntimeWarning: overflow encountered in exp\n",
      "  np.exp(prob, prob)\n",
      "/usr/local/lib/python3.5/site-packages/sklearn/linear_model/base.py:352: RuntimeWarning: overflow encountered in exp\n",
      "  np.exp(prob, prob)\n",
      "/usr/local/lib/python3.5/site-packages/sklearn/linear_model/base.py:352: RuntimeWarning: overflow encountered in exp\n",
      "  np.exp(prob, prob)\n",
      "/usr/local/lib/python3.5/site-packages/sklearn/linear_model/base.py:352: RuntimeWarning: overflow encountered in exp\n",
      "  np.exp(prob, prob)\n"
     ]
    },
    {
     "name": "stdout",
     "output_type": "stream",
     "text": [
      "Score: 0.5511129568106312 (+/- 0.005378406541993036)\n"
     ]
    },
    {
     "name": "stderr",
     "output_type": "stream",
     "text": [
      "/usr/local/lib/python3.5/site-packages/sklearn/linear_model/base.py:352: RuntimeWarning: overflow encountered in exp\n",
      "  np.exp(prob, prob)\n"
     ]
    }
   ],
   "source": [
    "clf = VotingClassifier([(\"xgb\", xgb_clf), (\"knn\", knn_clf), (\"lin\", linear_clf)], voting='soft')\n",
    "scores = cross_val_score(clf, X, Y_train.target, cv=StratifiedKFold(5, random_state=42), scoring='accuracy')\n",
    "print(\"Score: {} (+/- {})\".format(scores.mean(), scores.std() ** 2))"
   ]
  },
  {
   "cell_type": "code",
   "execution_count": 232,
   "metadata": {
    "collapsed": false
   },
   "outputs": [
    {
     "data": {
      "text/plain": [
       "VotingClassifier(estimators=[('xgb', XGBClassifier(base_score=0.5, colsample_bylevel=1, colsample_bytree=1,\n",
       "       gamma=0, learning_rate=0.1, max_delta_step=0, max_depth=3,\n",
       "       min_child_weight=1, missing=None, n_estimators=100, nthread=-1,\n",
       "       objective='binary:logistic', reg_alpha=0, reg_lambda=1,\n",
       "       sc...re_dispatch='2*n_jobs', refit=True, return_train_score=True,\n",
       "       scoring='accuracy', verbose=0))],\n",
       "         n_jobs=1, voting='hard', weights=None)"
      ]
     },
     "execution_count": 232,
     "metadata": {},
     "output_type": "execute_result"
    }
   ],
   "source": [
    "clf.fit(X, Y_train.target)"
   ]
  },
  {
   "cell_type": "code",
   "execution_count": 68,
   "metadata": {
    "collapsed": false
   },
   "outputs": [
    {
     "name": "stderr",
     "output_type": "stream",
     "text": [
      "/usr/local/lib/python3.5/site-packages/statsmodels/regression/linear_model.py:660: RuntimeWarning: divide by zero encountered in log\n",
      "  llf = -nobs2*np.log(2*np.pi) - nobs2*np.log(ssr / nobs) - nobs2\n"
     ]
    },
    {
     "data": {
      "text/html": [
       "<div>\n",
       "<table border=\"1\" class=\"dataframe\">\n",
       "  <thead>\n",
       "    <tr style=\"text-align: right;\">\n",
       "      <th></th>\n",
       "      <th>freq_bitwise_test</th>\n",
       "      <th>switchness</th>\n",
       "      <th>longest_seq</th>\n",
       "      <th>longest_seq_sum</th>\n",
       "      <th>longest_seq_mean</th>\n",
       "      <th>mean</th>\n",
       "      <th>entropy</th>\n",
       "      <th>adfuller</th>\n",
       "      <th>student</th>\n",
       "      <th>0</th>\n",
       "      <th>...</th>\n",
       "      <th>438</th>\n",
       "      <th>439</th>\n",
       "      <th>440</th>\n",
       "      <th>441</th>\n",
       "      <th>442</th>\n",
       "      <th>443</th>\n",
       "      <th>444</th>\n",
       "      <th>445</th>\n",
       "      <th>446</th>\n",
       "      <th>447</th>\n",
       "    </tr>\n",
       "  </thead>\n",
       "  <tbody>\n",
       "    <tr>\n",
       "      <th>0</th>\n",
       "      <td>0.121335</td>\n",
       "      <td>16</td>\n",
       "      <td>4</td>\n",
       "      <td>18</td>\n",
       "      <td>1.384615</td>\n",
       "      <td>0.600000</td>\n",
       "      <td>2.890372</td>\n",
       "      <td>6.120728e-01</td>\n",
       "      <td>3.154131e-07</td>\n",
       "      <td>0</td>\n",
       "      <td>...</td>\n",
       "      <td>0</td>\n",
       "      <td>0</td>\n",
       "      <td>0</td>\n",
       "      <td>0</td>\n",
       "      <td>0</td>\n",
       "      <td>0</td>\n",
       "      <td>0</td>\n",
       "      <td>0</td>\n",
       "      <td>0</td>\n",
       "      <td>0</td>\n",
       "    </tr>\n",
       "    <tr>\n",
       "      <th>1</th>\n",
       "      <td>1.878665</td>\n",
       "      <td>21</td>\n",
       "      <td>2</td>\n",
       "      <td>12</td>\n",
       "      <td>0.631579</td>\n",
       "      <td>0.400000</td>\n",
       "      <td>2.484907</td>\n",
       "      <td>5.169520e-01</td>\n",
       "      <td>1.349328e-04</td>\n",
       "      <td>0</td>\n",
       "      <td>...</td>\n",
       "      <td>0</td>\n",
       "      <td>0</td>\n",
       "      <td>0</td>\n",
       "      <td>0</td>\n",
       "      <td>0</td>\n",
       "      <td>0</td>\n",
       "      <td>0</td>\n",
       "      <td>0</td>\n",
       "      <td>0</td>\n",
       "      <td>0</td>\n",
       "    </tr>\n",
       "    <tr>\n",
       "      <th>2</th>\n",
       "      <td>1.698300</td>\n",
       "      <td>12</td>\n",
       "      <td>5</td>\n",
       "      <td>13</td>\n",
       "      <td>0.722222</td>\n",
       "      <td>0.433333</td>\n",
       "      <td>2.564949</td>\n",
       "      <td>2.561162e-03</td>\n",
       "      <td>5.689138e-05</td>\n",
       "      <td>2</td>\n",
       "      <td>...</td>\n",
       "      <td>0</td>\n",
       "      <td>0</td>\n",
       "      <td>0</td>\n",
       "      <td>0</td>\n",
       "      <td>0</td>\n",
       "      <td>0</td>\n",
       "      <td>0</td>\n",
       "      <td>0</td>\n",
       "      <td>0</td>\n",
       "      <td>0</td>\n",
       "    </tr>\n",
       "    <tr>\n",
       "      <th>3</th>\n",
       "      <td>1.394423</td>\n",
       "      <td>22</td>\n",
       "      <td>2</td>\n",
       "      <td>14</td>\n",
       "      <td>0.823529</td>\n",
       "      <td>0.466667</td>\n",
       "      <td>2.639057</td>\n",
       "      <td>6.260612e-09</td>\n",
       "      <td>2.286408e-05</td>\n",
       "      <td>0</td>\n",
       "      <td>...</td>\n",
       "      <td>0</td>\n",
       "      <td>0</td>\n",
       "      <td>0</td>\n",
       "      <td>0</td>\n",
       "      <td>0</td>\n",
       "      <td>0</td>\n",
       "      <td>0</td>\n",
       "      <td>0</td>\n",
       "      <td>0</td>\n",
       "      <td>0</td>\n",
       "    </tr>\n",
       "    <tr>\n",
       "      <th>4</th>\n",
       "      <td>0.301700</td>\n",
       "      <td>14</td>\n",
       "      <td>5</td>\n",
       "      <td>17</td>\n",
       "      <td>1.214286</td>\n",
       "      <td>0.566667</td>\n",
       "      <td>2.833213</td>\n",
       "      <td>2.364495e-07</td>\n",
       "      <td>1.032992e-06</td>\n",
       "      <td>0</td>\n",
       "      <td>...</td>\n",
       "      <td>0</td>\n",
       "      <td>0</td>\n",
       "      <td>0</td>\n",
       "      <td>0</td>\n",
       "      <td>0</td>\n",
       "      <td>0</td>\n",
       "      <td>0</td>\n",
       "      <td>0</td>\n",
       "      <td>0</td>\n",
       "      <td>0</td>\n",
       "    </tr>\n",
       "  </tbody>\n",
       "</table>\n",
       "<p>5 rows × 457 columns</p>\n",
       "</div>"
      ],
      "text/plain": [
       "   freq_bitwise_test  switchness  longest_seq  longest_seq_sum  \\\n",
       "0           0.121335          16            4               18   \n",
       "1           1.878665          21            2               12   \n",
       "2           1.698300          12            5               13   \n",
       "3           1.394423          22            2               14   \n",
       "4           0.301700          14            5               17   \n",
       "\n",
       "   longest_seq_mean      mean   entropy      adfuller       student  0 ...   \\\n",
       "0          1.384615  0.600000  2.890372  6.120728e-01  3.154131e-07  0 ...    \n",
       "1          0.631579  0.400000  2.484907  5.169520e-01  1.349328e-04  0 ...    \n",
       "2          0.722222  0.433333  2.564949  2.561162e-03  5.689138e-05  2 ...    \n",
       "3          0.823529  0.466667  2.639057  6.260612e-09  2.286408e-05  0 ...    \n",
       "4          1.214286  0.566667  2.833213  2.364495e-07  1.032992e-06  0 ...    \n",
       "\n",
       "   438  439  440  441  442  443  444  445  446  447  \n",
       "0    0    0    0    0    0    0    0    0    0    0  \n",
       "1    0    0    0    0    0    0    0    0    0    0  \n",
       "2    0    0    0    0    0    0    0    0    0    0  \n",
       "3    0    0    0    0    0    0    0    0    0    0  \n",
       "4    0    0    0    0    0    0    0    0    0    0  \n",
       "\n",
       "[5 rows x 457 columns]"
      ]
     },
     "execution_count": 68,
     "metadata": {},
     "output_type": "execute_result"
    }
   ],
   "source": [
    "d_test = extract_features(X_test)\n",
    "d_test.head()"
   ]
  },
  {
   "cell_type": "code",
   "execution_count": 70,
   "metadata": {
    "collapsed": false
   },
   "outputs": [],
   "source": [
    "pred = knn_clf.predict(d_test)\n",
    "submission = pd.DataFrame(pred, index=X_test.index)\n",
    "submission.to_csv('submission_3_knn_count.csv', header=False, index=False)"
   ]
  }
 ],
 "metadata": {
  "kernelspec": {
   "display_name": "Python 3",
   "language": "python",
   "name": "python3"
  },
  "language_info": {
   "codemirror_mode": {
    "name": "ipython",
    "version": 3
   },
   "file_extension": ".py",
   "mimetype": "text/x-python",
   "name": "python",
   "nbconvert_exporter": "python",
   "pygments_lexer": "ipython3",
   "version": "3.5.2"
  }
 },
 "nbformat": 4,
 "nbformat_minor": 0
}
