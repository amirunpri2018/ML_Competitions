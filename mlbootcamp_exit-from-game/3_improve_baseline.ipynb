{
 "cells": [
  {
   "cell_type": "code",
   "execution_count": 116,
   "metadata": {
    "collapsed": false
   },
   "outputs": [],
   "source": [
    "%matplotlib inline\n",
    "import pandas as pd\n",
    "import numpy as np\n",
    "import seaborn as sns\n",
    "import matplotlib.pyplot as plt\n",
    "import seaborn as sns\n",
    "from sklearn.linear_model import LogisticRegressionCV, SGDClassifier, LogisticRegression\n",
    "from sklearn.ensemble import RandomForestClassifier\n",
    "from sklearn.model_selection import cross_val_score, StratifiedKFold\n",
    "from sklearn.preprocessing import StandardScaler\n",
    "from sklearn.metrics import precision_recall_curve, roc_curve, roc_auc_score, mean_absolute_error\n",
    "from sklearn.cross_validation import train_test_split\n",
    "from sklearn.preprocessing import PolynomialFeatures\n",
    "from sklearn.model_selection import GridSearchCV"
   ]
  },
  {
   "cell_type": "code",
   "execution_count": 43,
   "metadata": {
    "collapsed": true
   },
   "outputs": [],
   "source": [
    "x = pd.read_csv('data/x_train.csv.gz', delimiter=';')\n",
    "y = np.ravel(pd.read_csv('data/y_train.csv.gz', names=['target']))\n",
    "test = pd.read_csv('data/x_test.csv.gz', delimiter=';')"
   ]
  },
  {
   "cell_type": "code",
   "execution_count": 44,
   "metadata": {
    "collapsed": false
   },
   "outputs": [],
   "source": [
    "scaler = StandardScaler()\n",
    "x_scaled = scaler.fit_transform(x)"
   ]
  },
  {
   "cell_type": "code",
   "execution_count": 45,
   "metadata": {
    "collapsed": false
   },
   "outputs": [],
   "source": [
    "def score(clf, x, y):\n",
    "    scores_auc = cross_val_score(clf, x, y, cv=5, scoring='roc_auc')\n",
    "    scores_mae = cross_val_score(clf, x, y, cv=5, scoring='neg_mean_absolute_error')\n",
    "    print(\"MAE: {} (+/- {})\".format(-100*scores_mae.mean(), scores_mae.std() * 2))\n",
    "    print(\"AUC: {} (+/- {})\".format(scores_auc.mean(), scores_auc.std() * 2))"
   ]
  },
  {
   "cell_type": "code",
   "execution_count": 46,
   "metadata": {
    "collapsed": false
   },
   "outputs": [
    {
     "name": "stdout",
     "output_type": "stream",
     "text": [
      "MAE: 17.948470386283088 (+/- 0.020004054334218382)\n",
      "AUC: 0.8586387393867305 (+/- 0.03424434468207522)\n"
     ]
    }
   ],
   "source": [
    "score(SGDClassifier(random_state=42), x_scaled, y)"
   ]
  },
  {
   "cell_type": "code",
   "execution_count": 91,
   "metadata": {
    "collapsed": false
   },
   "outputs": [
    {
     "name": "stdout",
     "output_type": "stream",
     "text": [
      "MAE: 17.727081969702144 (+/- 0.009149792555057441)\n",
      "AUC: 0.8737677011517473 (+/- 0.013770296640140896)\n"
     ]
    }
   ],
   "source": [
    "score(LogisticRegression(random_state=42), x_scaled, y)"
   ]
  },
  {
   "cell_type": "code",
   "execution_count": 53,
   "metadata": {
    "collapsed": false
   },
   "outputs": [
    {
     "name": "stdout",
     "output_type": "stream",
     "text": [
      "MAE: 17.869422916770908 (+/- 0.011670959862864759)\n",
      "AUC: 0.8659720344612796 (+/- 0.013596774142992563)\n"
     ]
    }
   ],
   "source": [
    "score(RandomForestClassifier(random_state=42, n_estimators=100), x_scaled, y)"
   ]
  },
  {
   "cell_type": "code",
   "execution_count": 75,
   "metadata": {
    "collapsed": false
   },
   "outputs": [],
   "source": [
    "transform = PolynomialFeatures(2)\n",
    "scaler = StandardScaler()\n",
    "x_poly = transform.fit_transform(x)\n",
    "x_poly_scaled = scaler.fit_transform(x_poly)"
   ]
  },
  {
   "cell_type": "code",
   "execution_count": 67,
   "metadata": {
    "collapsed": false
   },
   "outputs": [
    {
     "name": "stdout",
     "output_type": "stream",
     "text": [
      "MAE: 17.15368981279229 (+/- 0.008893757492816436)\n",
      "AUC: 0.8784556132962245 (+/- 0.012996935929303264)\n"
     ]
    }
   ],
   "source": [
    "score(LogisticRegressionCV(random_state=42), x_poly_scaled, y)"
   ]
  },
  {
   "cell_type": "code",
   "execution_count": 105,
   "metadata": {
    "collapsed": false
   },
   "outputs": [],
   "source": [
    "param_grid = {'C': [0.01, 0.05, 0.1, 0.5, 1, 5, 10]}\n",
    "clf = LogisticRegression(random_state=42)\n",
    "search = GridSearchCV(clf,param_grid=param_grid, scoring='neg_mean_absolute_error', cv=StratifiedKFold())"
   ]
  },
  {
   "cell_type": "code",
   "execution_count": 100,
   "metadata": {
    "collapsed": true
   },
   "outputs": [],
   "source": [
    "def plot_scores(optimizer):\n",
    "    scores = [[item[0]['C'], \n",
    "               item[1], \n",
    "               (np.sum((item[2]-item[1])**2)/(item[2].size-1))**0.5] for item in optimizer.grid_scores_]\n",
    "    scores = np.array(scores)\n",
    "    plt.semilogx(scores[:,0], scores[:,1])\n",
    "    plt.fill_between(scores[:,0], scores[:,1]-scores[:,2], \n",
    "                                  scores[:,1]+scores[:,2], alpha=0.3)\n",
    "    plt.show()"
   ]
  },
  {
   "cell_type": "code",
   "execution_count": 106,
   "metadata": {
    "collapsed": false
   },
   "outputs": [
    {
     "name": "stdout",
     "output_type": "stream",
     "text": [
      "{'C': 0.05}\n",
      "-0.171972003638\n"
     ]
    }
   ],
   "source": [
    "search.fit(x_poly_scaled, y)\n",
    "print(search.best_params_)\n",
    "print(search.best_score_)"
   ]
  },
  {
   "cell_type": "code",
   "execution_count": 107,
   "metadata": {
    "collapsed": false
   },
   "outputs": [
    {
     "name": "stderr",
     "output_type": "stream",
     "text": [
      "/usr/local/lib/python3.5/site-packages/sklearn/model_selection/_search.py:662: DeprecationWarning: The grid_scores_ attribute was deprecated in version 0.18 in favor of the more elaborate cv_results_ attribute. The grid_scores_ attribute will not be available from 0.20\n",
      "  DeprecationWarning)\n"
     ]
    },
    {
     "data": {
      "image/png": "[encoded data removed]",
      "text/plain": [
       "<matplotlib.figure.Figure at 0x116f2a710>"
      ]
     },
     "metadata": {},
     "output_type": "display_data"
    }
   ],
   "source": [
    "plot_scores(search)"
   ]
  },
  {
   "cell_type": "code",
   "execution_count": 117,
   "metadata": {
    "collapsed": true
   },
   "outputs": [],
   "source": [
    "def get_distance(fpr, tpr):\n",
    "    return ((fpr) ** 2 + (tpr - 1) ** 2) ** 0.5\n",
    "\n",
    "def get_opt_thresh(actual, predicted):\n",
    "    fprs, tprs, thrs = roc_curve(actual, predicted)\n",
    "\n",
    "    fpr_opt = None\n",
    "    tpr_opt = None\n",
    "    distance_opt = None\n",
    "    thr_opt = None\n",
    "    for i in range(len(thrs)):\n",
    "        dist = get_distance(fprs[i], tprs[i])\n",
    "        if (distance_opt is None) or (dist < distance_opt):\n",
    "            distance_opt = dist\n",
    "            fpr_opt = fprs[i]\n",
    "            tpr_opt = tprs[i]\n",
    "            thr_opt = thrs[i]\n",
    "    \n",
    "    return thr_opt"
   ]
  },
  {
   "cell_type": "code",
   "execution_count": 119,
   "metadata": {
    "collapsed": false
   },
   "outputs": [
    {
     "name": "stdout",
     "output_type": "stream",
     "text": [
      "0.250655055921\n"
     ]
    },
    {
     "data": {
      "image/png": "[encoded data removed]",
      "text/plain": [
       "<matplotlib.figure.Figure at 0x117081da0>"
      ]
     },
     "metadata": {},
     "output_type": "display_data"
    }
   ],
   "source": [
    "x_train, x_test, y_train, y_test = train_test_split(x_poly_scaled, y)\n",
    "\n",
    "clf = LogisticRegression(**search.best_params_)\n",
    "clf.fit(x_train, y_train)\n",
    "pred = clf.predict_proba(x_test)[:,1]\n",
    "\n",
    "fpr, tpr, thr = roc_curve(y_test, pred)\n",
    "plt.plot(fpr, tpr)\n",
    "plt.xlabel(\"false positive rate\")\n",
    "plt.ylabel(\"true positive rate\")\n",
    "\n",
    "opt_tresh = get_opt_thresh(y_test, pred)\n",
    "print(opt_tresh)"
   ]
  },
  {
   "cell_type": "code",
   "execution_count": 109,
   "metadata": {
    "collapsed": false
   },
   "outputs": [],
   "source": [
    "transform = PolynomialFeatures(2)\n",
    "scaler = StandardScaler()\n",
    "test_poly = transform.fit_transform(test)\n",
    "test_poly_scaled = scaler.fit_transform(test_poly)"
   ]
  },
  {
   "cell_type": "code",
   "execution_count": 120,
   "metadata": {
    "collapsed": true
   },
   "outputs": [],
   "source": [
    "pred_test = search.predict_proba(test_poly_scaled)[:,1]\n",
    "pred_test_ = [1 if p > opt_tresh else 0 for p in pred_test]"
   ]
  },
  {
   "cell_type": "code",
   "execution_count": 121,
   "metadata": {
    "collapsed": false
   },
   "outputs": [],
   "source": [
    "submission = pd.DataFrame()\n",
    "submission['target'] = pred_test_\n",
    "submission.to_csv(\"submissions/3_improve_baseline.csv\", index=False, header=False)"
   ]
  },
  {
   "cell_type": "markdown",
   "metadata": {},
   "source": [
    "# XGB"
   ]
  },
  {
   "cell_type": "code",
   "execution_count": 123,
   "metadata": {
    "collapsed": true
   },
   "outputs": [],
   "source": [
    "import xgboost as xgb"
   ]
  },
  {
   "cell_type": "code",
   "execution_count": 126,
   "metadata": {
    "collapsed": false
   },
   "outputs": [],
   "source": [
    "xgb_param_grid = {'n_estimators': [300], 'learning_rate': [0.05, 0.03, 0.1], 'max_depth': [4,6,8,10], 'colsample_bytree': [0.4, 0.8, 1]}"
   ]
  },
  {
   "cell_type": "code",
   "execution_count": 127,
   "metadata": {
    "collapsed": false
   },
   "outputs": [
    {
     "name": "stdout",
     "output_type": "stream",
     "text": [
      "{'learning_rate': 0.03, 'n_estimators': 300, 'max_depth': 4, 'colsample_bytree': 0.8}\n",
      "0.880303195115\n"
     ]
    }
   ],
   "source": [
    "clf_xgb = xgb.XGBClassifier()\n",
    "xgb_search = GridSearchCV(clf_xgb, param_grid=xgb_param_grid, scoring='roc_auc', cv=StratifiedKFold())\n",
    "xgb_search.fit(x_scaled, y)\n",
    "print(xgb_search.best_params_)\n",
    "print(xgb_search.best_score_)"
   ]
  },
  {
   "cell_type": "code",
   "execution_count": 128,
   "metadata": {
    "collapsed": true
   },
   "outputs": [],
   "source": [
    "def get_and_show_tresh(clf, x, y):\n",
    "    x_train, x_test, y_train, y_test = train_test_split(x, y)\n",
    "\n",
    "    clf.fit(x_train, y_train)\n",
    "    pred = clf.predict_proba(x_test)[:,1]\n",
    "\n",
    "    fpr, tpr, thr = roc_curve(y_test, pred)\n",
    "    plt.plot(fpr, tpr)\n",
    "    plt.xlabel(\"false positive rate\")\n",
    "    plt.ylabel(\"true positive rate\")\n",
    "\n",
    "    opt_tresh = get_opt_thresh(y_test, pred)\n",
    "    print(opt_tresh)\n",
    "    return opt_tresh"
   ]
  },
  {
   "cell_type": "code",
   "execution_count": 132,
   "metadata": {
    "collapsed": false
   },
   "outputs": [
    {
     "name": "stdout",
     "output_type": "stream",
     "text": [
      "0.252756\n"
     ]
    },
    {
     "data": {
      "image/png": "[encoded data removed]",
      "text/plain": [
       "<matplotlib.figure.Figure at 0x11b753668>"
      ]
     },
     "metadata": {},
     "output_type": "display_data"
    }
   ],
   "source": [
    "opt_tresh = get_and_show_tresh(xgb.XGBClassifier(**xgb_search.best_params_), x_scaled, y)"
   ]
  },
  {
   "cell_type": "code",
   "execution_count": 133,
   "metadata": {
    "collapsed": true
   },
   "outputs": [],
   "source": [
    "pred_test = search.predict_proba(test_poly_scaled)[:,1]\n",
    "pred_test_ = [1 if p > opt_tresh else 0 for p in pred_test]\n",
    "submission = pd.DataFrame()\n",
    "submission['target'] = pred_test_\n",
    "submission.to_csv(\"submissions/3_improve_xgb.csv\", index=False, header=False)"
   ]
  }
 ],
 "metadata": {
  "kernelspec": {
   "display_name": "Python 3",
   "language": "python",
   "name": "python3"
  },
  "language_info": {
   "codemirror_mode": {
    "name": "ipython",
    "version": 3
   },
   "file_extension": ".py",
   "mimetype": "text/x-python",
   "name": "python",
   "nbconvert_exporter": "python",
   "pygments_lexer": "ipython3",
   "version": "3.5.2"
  }
 },
 "nbformat": 4,
 "nbformat_minor": 0
}
