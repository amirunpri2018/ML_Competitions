{
 "cells": [
  {
   "cell_type": "code",
   "execution_count": 1,
   "metadata": {
    "collapsed": false
   },
   "outputs": [],
   "source": [
    "%matplotlib inline\n",
    "import pandas as pd\n",
    "import numpy as np\n",
    "import seaborn as sns\n",
    "import matplotlib.pyplot as plt\n",
    "import seaborn as sns\n",
    "import xgboost as xgb\n",
    "from sklearn.linear_model import LogisticRegressionCV, SGDClassifier, LogisticRegression\n",
    "from sklearn.ensemble import RandomForestClassifier\n",
    "from sklearn.model_selection import cross_val_score, StratifiedKFold, train_test_split, GridSearchCV\n",
    "from sklearn.preprocessing import StandardScaler\n",
    "from sklearn.metrics import precision_recall_curve, roc_curve, roc_auc_score, mean_absolute_error\n",
    "from sklearn.preprocessing import PolynomialFeatures\n",
    "from sklearn.pipeline import Pipeline\n",
    "from sklearn.pipeline import FeatureUnion\n",
    "from sklearn.linear_model import ElasticNet\n",
    "from sklearn.neighbors import KNeighborsClassifier\n",
    "from sklearn.gaussian_process import GaussianProcessClassifier\n",
    "from sklearn.feature_selection import SelectFromModel"
   ]
  },
  {
   "cell_type": "code",
   "execution_count": 2,
   "metadata": {
    "collapsed": true
   },
   "outputs": [],
   "source": [
    "x = pd.read_csv('data/x_train.csv.gz', delimiter=';')\n",
    "y = np.ravel(pd.read_csv('data/y_train.csv.gz', names=['target']))\n",
    "test = pd.read_csv('data/x_test.csv.gz', delimiter=';')"
   ]
  },
  {
   "cell_type": "code",
   "execution_count": 49,
   "metadata": {
    "collapsed": false
   },
   "outputs": [],
   "source": [
    "from sklearn.base import BaseEstimator, TransformerMixin\n",
    "\n",
    "class ModelClassTransformer(BaseEstimator, TransformerMixin):\n",
    "    def __init__(self, model):\n",
    "        self.model = model\n",
    "    def fit(self, *args, **kwargs):\n",
    "        self.model.fit(*args, **kwargs)\n",
    "        return self\n",
    "    def transform(self, X, **transform_params):\n",
    "        return pd.DataFrame(self.model.predict_proba(X))"
   ]
  },
  {
   "cell_type": "code",
   "execution_count": 61,
   "metadata": {
    "collapsed": false
   },
   "outputs": [],
   "source": [
    "final_estimator = ('final', LogisticRegression())\n",
    "\n",
    "xgb_transformer = ('xgb', ModelClassTransformer(xgb.XGBClassifier(seed=42)))\n",
    "\n",
    "lr_transformer = ('lr', Pipeline([\n",
    "            ('scale', StandardScaler()),\n",
    "            ('lr', ModelClassTransformer(LogisticRegression(random_state=42)))\n",
    "        ]))\n",
    "\n",
    "estimators = ('estimators', FeatureUnion([\n",
    "            ('xgb1', ModelClassTransformer(xgb.XGBClassifier(n_estimators=300,seed=42))),\n",
    "            ('xgb2', ModelClassTransformer(xgb.XGBClassifier(n_estimators=300,seed=4242))),\n",
    "            ('xgb3', ModelClassTransformer(xgb.XGBClassifier(n_estimators=300,seed=424242))),\n",
    "            ('xgb4', ModelClassTransformer(xgb.XGBClassifier(n_estimators=300,seed=42424242))),\n",
    "            ('xgb5', ModelClassTransformer(xgb.XGBClassifier(n_estimators=300,seed=421))),\n",
    "            ('xgb6', ModelClassTransformer(xgb.XGBClassifier(n_estimators=300,seed=4211))),\n",
    "            lr_transformer\n",
    "        ]))\n",
    "\n",
    "pipeline = Pipeline([\n",
    "        estimators,\n",
    "        final_estimator\n",
    "    ])"
   ]
  },
  {
   "cell_type": "code",
   "execution_count": 62,
   "metadata": {
    "collapsed": false
   },
   "outputs": [
    {
     "name": "stdout",
     "output_type": "stream",
     "text": [
      "LogLoss: -0.408164990598511 (+/- 0.007883922074138225)\n"
     ]
    }
   ],
   "source": [
    "scores = cross_val_score(pipeline, x, y, scoring='neg_log_loss')\n",
    "print(\"LogLoss: {} (+/- {})\".format(scores.mean(), scores.std() * 2))"
   ]
  },
  {
   "cell_type": "code",
   "execution_count": 56,
   "metadata": {
    "collapsed": false
   },
   "outputs": [
    {
     "name": "stdout",
     "output_type": "stream",
     "text": [
      "{'estimators__lr__lr__model__C': 0.01}\n",
      "-0.390577447413\n"
     ]
    }
   ],
   "source": [
    "params = {'estimators__lr__lr__model__C': [0.01, 0.1, 0.5, 1, 10]}\n",
    "search = GridSearchCV(pipeline, params, cv=10, scoring='neg_log_loss')\n",
    "search.fit(x, y)\n",
    "print(search.best_params_)\n",
    "print(search.best_score_)"
   ]
  },
  {
   "cell_type": "code",
   "execution_count": 63,
   "metadata": {
    "collapsed": true
   },
   "outputs": [],
   "source": [
    "pipeline.fit(x, y)\n",
    "pred = pipeline.predict_proba(test)[:,1]\n",
    "submission = pd.DataFrame()\n",
    "submission['target'] = pred\n",
    "submission.to_csv(\"submissions/5_pipeline.csv\", index=False, header=False)"
   ]
  }
 ],
 "metadata": {
  "kernelspec": {
   "display_name": "Python 3",
   "language": "python",
   "name": "python3"
  },
  "language_info": {
   "codemirror_mode": {
    "name": "ipython",
    "version": 3
   },
   "file_extension": ".py",
   "mimetype": "text/x-python",
   "name": "python",
   "nbconvert_exporter": "python",
   "pygments_lexer": "ipython3",
   "version": "3.5.2"
  }
 },
 "nbformat": 4,
 "nbformat_minor": 0
}
