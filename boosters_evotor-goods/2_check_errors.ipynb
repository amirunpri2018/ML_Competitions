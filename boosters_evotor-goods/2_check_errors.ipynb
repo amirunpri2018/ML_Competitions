{
 "cells": [
  {
   "cell_type": "code",
   "execution_count": 15,
   "metadata": {
    "collapsed": true
   },
   "outputs": [],
   "source": [
    "import pandas as pd\n",
    "import numpy as np\n",
    "%matplotlib inline\n",
    "from matplotlib import pyplot as plt\n",
    "import seaborn as sns\n",
    "\n",
    "from sklearn.feature_extraction.text import CountVectorizer, TfidfTransformer\n",
    "from sklearn.naive_bayes import MultinomialNB, GaussianNB\n",
    "from sklearn.linear_model import SGDClassifier\n",
    "from sklearn.neighbors import KNeighborsClassifier, LSHForest\n",
    "from sklearn.model_selection import cross_val_score, StratifiedKFold, train_test_split\n",
    "from sklearn.pipeline import FeatureUnion, Pipeline\n",
    "from sklearn.ensemble import VotingClassifier\n",
    "from sklearn.decomposition import TruncatedSVD\n",
    "from sklearn.svm import SVC\n",
    "\n",
    "from sklearn.ensemble import BaggingClassifier\n",
    "from scipy.sparse import csr_matrix\n",
    "from scipy.sparse import hstack"
   ]
  },
  {
   "cell_type": "code",
   "execution_count": 3,
   "metadata": {
    "collapsed": true
   },
   "outputs": [],
   "source": [
    "def load_data():\n",
    "    train = pd.read_csv('data/evo_train.csv.gz', compression='gzip', index_col='id')\n",
    "    categories = pd.read_csv('data/categories_parsed.csv.gz', compression='gzip', index_col='GROUP_ID')\n",
    "    data = train.join(categories, on='GROUP_ID')\n",
    "    return data"
   ]
  },
  {
   "cell_type": "code",
   "execution_count": 4,
   "metadata": {
    "collapsed": false
   },
   "outputs": [
    {
     "data": {
      "text/html": [
       "<div>\n",
       "<table border=\"1\" class=\"dataframe\">\n",
       "  <thead>\n",
       "    <tr style=\"text-align: right;\">\n",
       "      <th></th>\n",
       "      <th>NAME</th>\n",
       "      <th>GROUP_ID</th>\n",
       "      <th>category</th>\n",
       "      <th>sub_category</th>\n",
       "    </tr>\n",
       "    <tr>\n",
       "      <th>id</th>\n",
       "      <th></th>\n",
       "      <th></th>\n",
       "      <th></th>\n",
       "      <th></th>\n",
       "    </tr>\n",
       "  </thead>\n",
       "  <tbody>\n",
       "    <tr>\n",
       "      <th>0</th>\n",
       "      <td>Пиво \"Жигулевское\" 0,5 л. св.</td>\n",
       "      <td>35</td>\n",
       "      <td>Алкоголь</td>\n",
       "      <td>Пиво, слабоалкогольные напитки</td>\n",
       "    </tr>\n",
       "    <tr>\n",
       "      <th>1</th>\n",
       "      <td>СОУС ТОМАТНЫЙ БУЗДЯК 670Г ТАТАРСКИЙ /8</td>\n",
       "      <td>6</td>\n",
       "      <td>Прод</td>\n",
       "      <td>Продукты питания</td>\n",
       "    </tr>\n",
       "    <tr>\n",
       "      <th>2</th>\n",
       "      <td>Сигареты  Esse SS Exchange</td>\n",
       "      <td>7</td>\n",
       "      <td>Непрод</td>\n",
       "      <td>Табачные изделия</td>\n",
       "    </tr>\n",
       "    <tr>\n",
       "      <th>3</th>\n",
       "      <td>Петрушка</td>\n",
       "      <td>6</td>\n",
       "      <td>Прод</td>\n",
       "      <td>Продукты питания</td>\n",
       "    </tr>\n",
       "    <tr>\n",
       "      <th>4</th>\n",
       "      <td>пиво ягерь</td>\n",
       "      <td>35</td>\n",
       "      <td>Алкоголь</td>\n",
       "      <td>Пиво, слабоалкогольные напитки</td>\n",
       "    </tr>\n",
       "  </tbody>\n",
       "</table>\n",
       "</div>"
      ],
      "text/plain": [
       "                                      NAME  GROUP_ID  category  \\\n",
       "id                                                               \n",
       "0            Пиво \"Жигулевское\" 0,5 л. св.        35  Алкоголь   \n",
       "1   СОУС ТОМАТНЫЙ БУЗДЯК 670Г ТАТАРСКИЙ /8         6      Прод   \n",
       "2               Сигареты  Esse SS Exchange         7    Непрод   \n",
       "3                                 Петрушка         6      Прод   \n",
       "4                               пиво ягерь        35  Алкоголь   \n",
       "\n",
       "                      sub_category  \n",
       "id                                  \n",
       "0   Пиво, слабоалкогольные напитки  \n",
       "1                 Продукты питания  \n",
       "2                 Табачные изделия  \n",
       "3                 Продукты питания  \n",
       "4   Пиво, слабоалкогольные напитки  "
      ]
     },
     "execution_count": 4,
     "metadata": {},
     "output_type": "execute_result"
    }
   ],
   "source": [
    "data = load_data()\n",
    "data.head()"
   ]
  },
  {
   "cell_type": "code",
   "execution_count": 5,
   "metadata": {
    "collapsed": false
   },
   "outputs": [],
   "source": [
    "def prepare_data_baseline(data):\n",
    "    X = data['NAME']\n",
    "    y = data['category']\n",
    "\n",
    "    X_train, X_test, y_train, y_test = train_test_split(X, y, test_size=0.3, random_state=42)\n",
    "\n",
    "    test = pd.DataFrame(index=y_test.index)\n",
    "    test['NAME'] = X_test\n",
    "    test['category'] = y_test\n",
    "    \n",
    "    return X_train, X_test, y_train, y_test"
   ]
  },
  {
   "cell_type": "code",
   "execution_count": 6,
   "metadata": {
    "collapsed": true
   },
   "outputs": [],
   "source": [
    "from sklearn.metrics import accuracy_score, log_loss, classification_report\n",
    "\n",
    "def show_metrics(y_true, y_pred, y_pred_proba):\n",
    "    print(\"Accuracy: {}\".format(accuracy_score(y_true, y_pred)))\n",
    "    print(\"LogLoss: {}\".format(log_loss(y_true, y_pred_proba)))\n",
    "    print(classification_report(y_true, y_pred))"
   ]
  },
  {
   "cell_type": "code",
   "execution_count": 22,
   "metadata": {
    "collapsed": false
   },
   "outputs": [],
   "source": [
    "def baseline(data, prepare_data):\n",
    "    X_train, X_test, y_train, y_test = prepare_data(data)\n",
    "    vectorizer = CountVectorizer()\n",
    "    pipeline = Pipeline([\n",
    "            ('count_vectorizer', vectorizer),\n",
    "#             ('best', TruncatedSVD(n_components=100)),\n",
    "            ('clf_category', BaggingClassifier(MultinomialNB(), n_estimators=10, n_jobs=4))\n",
    "        ])\n",
    "\n",
    "    pipeline.fit(X_train, y_train)\n",
    "    pred = pipeline.predict(X_test)\n",
    "    pred_proba = pipeline.predict_proba(X_test)\n",
    "    print(\"Vocabulary length: {}\".format(len(vectorizer.vocabulary_)))\n",
    "    show_metrics(y_test, pred, pred_proba)\n",
    "    \n",
    "    pred_df = pd.DataFrame(pred, index=X_test.index,columns=['predicted'])\n",
    "    pred_df['real'] = y_test\n",
    "    pred_df['NAME'] = X_test\n",
    "    errors = pred_df[pred_df['real'] != pred_df['predicted']]\n",
    "    \n",
    "    return errors, vectorizer"
   ]
  },
  {
   "cell_type": "code",
   "execution_count": 23,
   "metadata": {
    "collapsed": false
   },
   "outputs": [
    {
     "name": "stdout",
     "output_type": "stream",
     "text": [
      "Vocabulary length: 38416\n",
      "Accuracy: 0.9661057405418307\n",
      "LogLoss: 0.12057847973990445\n",
      "                           precision    recall  f1-score   support\n",
      "\n",
      "                 Алкоголь       0.98      0.96      0.97      3583\n",
      "                   Непрод       0.96      0.99      0.98     11214\n",
      "Позиция по свободной цене       0.00      0.00      0.00         4\n",
      "                     Прод       0.95      0.84      0.89      1774\n",
      "                      н/д       0.99      0.84      0.91       183\n",
      "\n",
      "              avg / total       0.97      0.97      0.97     16758\n",
      "\n",
      "Errors count: 568\n"
     ]
    },
    {
     "name": "stderr",
     "output_type": "stream",
     "text": [
      "/usr/local/lib/python3.5/site-packages/sklearn/metrics/classification.py:1113: UndefinedMetricWarning: Precision and F-score are ill-defined and being set to 0.0 in labels with no predicted samples.\n",
      "  'precision', 'predicted', average, warn_for)\n"
     ]
    },
    {
     "data": {
      "text/html": [
       "<div>\n",
       "<table border=\"1\" class=\"dataframe\">\n",
       "  <thead>\n",
       "    <tr style=\"text-align: right;\">\n",
       "      <th></th>\n",
       "      <th>predicted</th>\n",
       "      <th>real</th>\n",
       "      <th>NAME</th>\n",
       "    </tr>\n",
       "    <tr>\n",
       "      <th>id</th>\n",
       "      <th></th>\n",
       "      <th></th>\n",
       "      <th></th>\n",
       "    </tr>\n",
       "  </thead>\n",
       "  <tbody>\n",
       "    <tr>\n",
       "      <th>6561</th>\n",
       "      <td>Непрод</td>\n",
       "      <td>Алкоголь</td>\n",
       "      <td>БИТОКСИБАЦИЛЛИН, П/Август/20гр</td>\n",
       "    </tr>\n",
       "    <tr>\n",
       "      <th>48333</th>\n",
       "      <td>Непрод</td>\n",
       "      <td>Алкоголь</td>\n",
       "      <td>набор подарочный для вина</td>\n",
       "    </tr>\n",
       "    <tr>\n",
       "      <th>50666</th>\n",
       "      <td>Непрод</td>\n",
       "      <td>Прод</td>\n",
       "      <td>Бутерброд №44</td>\n",
       "    </tr>\n",
       "    <tr>\n",
       "      <th>43089</th>\n",
       "      <td>Непрод</td>\n",
       "      <td>Прод</td>\n",
       "      <td>Малена / Акконд</td>\n",
       "    </tr>\n",
       "    <tr>\n",
       "      <th>21696</th>\n",
       "      <td>Непрод</td>\n",
       "      <td>Алкоголь</td>\n",
       "      <td>Лавила Нанни сух.150</td>\n",
       "    </tr>\n",
       "  </tbody>\n",
       "</table>\n",
       "</div>"
      ],
      "text/plain": [
       "      predicted      real                            NAME\n",
       "id                                                       \n",
       "6561     Непрод  Алкоголь  БИТОКСИБАЦИЛЛИН, П/Август/20гр\n",
       "48333    Непрод  Алкоголь       набор подарочный для вина\n",
       "50666    Непрод      Прод                   Бутерброд №44\n",
       "43089    Непрод      Прод                 Малена / Акконд\n",
       "21696    Непрод  Алкоголь            Лавила Нанни сух.150"
      ]
     },
     "execution_count": 23,
     "metadata": {},
     "output_type": "execute_result"
    }
   ],
   "source": [
    "errors_baseline, vectorizer = baseline(data, prepare_data_baseline)\n",
    "print(\"Errors count: {}\".format(errors_baseline.shape[0]))\n",
    "errors_baseline.head()"
   ]
  },
  {
   "cell_type": "code",
   "execution_count": 8,
   "metadata": {
    "collapsed": false
   },
   "outputs": [],
   "source": [
    "from nltk.corpus import stopwords as sw\n",
    "import xgboost as xgb\n",
    "\n",
    "def boosting(data, prepare_data):\n",
    "    X_train, X_test, y_train, y_test = prepare_data(data)\n",
    "    vectorizer = CountVectorizer()\n",
    "    pipeline = Pipeline([\n",
    "            ('count_vectorizer', vectorizer),\n",
    "#             ('best', TruncatedSVD(n_components=200, n_iter=10, random_state=42)),\n",
    "            ('clf_category', xgb.XGBClassifier(max_depth=15, seed=42, n_estimators=200))\n",
    "        ])\n",
    "\n",
    "    pipeline.fit(X_train, y_train)\n",
    "    pred = pipeline.predict(X_test)\n",
    "    pred_proba = pipeline.predict_proba(X_test)\n",
    "    print(\"Vocabulary length: {}\".format(len(vectorizer.vocabulary_)))\n",
    "    show_metrics(y_test, pred, pred_proba)\n",
    "    \n",
    "    pred_df = pd.DataFrame(pred, index=X_test.index,columns=['predicted'])\n",
    "    pred_df['real'] = y_test\n",
    "    pred_df['NAME'] = X_test\n",
    "    errors = pred_df[pred_df['real'] != pred_df['predicted']]\n",
    "    \n",
    "    return errors, vectorizer"
   ]
  },
  {
   "cell_type": "code",
   "execution_count": null,
   "metadata": {
    "collapsed": true
   },
   "outputs": [],
   "source": [
    "errors, vectorizer = boosting(data, prepare_data_baseline)\n",
    "print(\"Errors count: {}\".format(errors.shape[0]))\n",
    "errors.head()"
   ]
  },
  {
   "cell_type": "code",
   "execution_count": 18,
   "metadata": {
    "collapsed": true
   },
   "outputs": [],
   "source": [
    "def ensemble(data, prepare_data):\n",
    "    X_train, X_test, y_train, y_test = prepare_data(data)\n",
    "    vectorizer = CountVectorizer()\n",
    "    pipeline = Pipeline([\n",
    "            ('count_vectorizer', vectorizer),\n",
    "            ('clf', VotingClassifier([('knn', KNeighborsClassifier()), ('nb', MultinomialNB()), ('xgb',xgb.XGBClassifier(max_depth=15, seed=42, n_estimators=200))], voting='soft'))\n",
    "        ])\n",
    "\n",
    "    pipeline.fit(X_train, y_train)\n",
    "    pred = pipeline.predict(X_test)\n",
    "    pred_proba = pipeline.predict_proba(X_test)\n",
    "    print(\"Vocabulary length: {}\".format(len(vectorizer.vocabulary_)))\n",
    "    show_metrics(y_test, pred, pred_proba)\n",
    "    \n",
    "    pred_df = pd.DataFrame(pred, index=X_test.index,columns=['predicted'])\n",
    "    pred_df['real'] = y_test\n",
    "    pred_df['NAME'] = X_test\n",
    "    errors = pred_df[pred_df['real'] != pred_df['predicted']]\n",
    "    \n",
    "    return errors, vectorizer"
   ]
  },
  {
   "cell_type": "code",
   "execution_count": 19,
   "metadata": {
    "collapsed": false
   },
   "outputs": [
    {
     "name": "stdout",
     "output_type": "stream",
     "text": [
      "Vocabulary length: 38416\n",
      "Accuracy: 0.9541711421410669\n",
      "LogLoss: 0.1564571272273075\n",
      "                           precision    recall  f1-score   support\n",
      "\n",
      "                 Алкоголь       0.99      0.94      0.96      3583\n",
      "                   Непрод       0.94      0.99      0.97     11214\n",
      "Позиция по свободной цене       1.00      0.50      0.67         4\n",
      "                     Прод       0.97      0.74      0.84      1774\n",
      "                      н/д       0.98      0.87      0.92       183\n",
      "\n",
      "              avg / total       0.96      0.95      0.95     16758\n",
      "\n"
     ]
    },
    {
     "ename": "NameError",
     "evalue": "name 'errors' is not defined",
     "output_type": "error",
     "traceback": [
      "\u001b[0;31m---------------------------------------------------------------------------\u001b[0m",
      "\u001b[0;31mNameError\u001b[0m                                 Traceback (most recent call last)",
      "\u001b[0;32m<ipython-input-19-f9c32875534e>\u001b[0m in \u001b[0;36m<module>\u001b[0;34m()\u001b[0m\n\u001b[1;32m      1\u001b[0m \u001b[0merors\u001b[0m\u001b[0;34m,\u001b[0m \u001b[0mvectorizer\u001b[0m \u001b[0;34m=\u001b[0m \u001b[0mensemble\u001b[0m\u001b[0;34m(\u001b[0m\u001b[0mdata\u001b[0m\u001b[0;34m,\u001b[0m \u001b[0mprepare_data_baseline\u001b[0m\u001b[0;34m)\u001b[0m\u001b[0;34m\u001b[0m\u001b[0m\n\u001b[0;32m----> 2\u001b[0;31m \u001b[0mprint\u001b[0m\u001b[0;34m(\u001b[0m\u001b[0;34m\"Errors count: {}\"\u001b[0m\u001b[0;34m.\u001b[0m\u001b[0mformat\u001b[0m\u001b[0;34m(\u001b[0m\u001b[0merrors\u001b[0m\u001b[0;34m.\u001b[0m\u001b[0mshape\u001b[0m\u001b[0;34m[\u001b[0m\u001b[0;36m0\u001b[0m\u001b[0;34m]\u001b[0m\u001b[0;34m)\u001b[0m\u001b[0;34m)\u001b[0m\u001b[0;34m\u001b[0m\u001b[0m\n\u001b[0m\u001b[1;32m      3\u001b[0m \u001b[0merrors\u001b[0m\u001b[0;34m.\u001b[0m\u001b[0mhead\u001b[0m\u001b[0;34m(\u001b[0m\u001b[0;34m)\u001b[0m\u001b[0;34m\u001b[0m\u001b[0m\n",
      "\u001b[0;31mNameError\u001b[0m: name 'errors' is not defined"
     ]
    }
   ],
   "source": [
    "errors, vectorizer = ensemble(data, prepare_data_baseline)\n",
    "print(\"Errors count: {}\".format(errors.shape[0]))\n",
    "errors.head()"
   ]
  },
  {
   "cell_type": "code",
   "execution_count": 158,
   "metadata": {
    "collapsed": true
   },
   "outputs": [],
   "source": [
    "from nltk.stem.snowball import RussianStemmer\n",
    "\n",
    "def predict_with_stemmer(data, prepare_data):\n",
    "    stemmer = RussianStemmer()\n",
    "    analyzer = CountVectorizer().build_analyzer()\n",
    "\n",
    "    def stemmed_words(doc):\n",
    "        return (stemmer.stem(w) for w in analyzer(doc))\n",
    "\n",
    "    vectorizer = CountVectorizer(analyzer=stemmed_words, max_features=30000)\n",
    "    \n",
    "    X_train, X_test, y_train, y_test = prepare_data(data)\n",
    "    pipeline = Pipeline([\n",
    "            ('count_vectorizer', vectorizer),\n",
    "            ('clf_category', MultinomialNB())\n",
    "        ])\n",
    "\n",
    "    pipeline.fit(X_train, y_train)\n",
    "    pred = pipeline.predict(X_test)\n",
    "    pred_proba = pipeline.predict_proba(X_test)\n",
    "    print(\"Vocabulary length: {}\".format(len(vectorizer.vocabulary_)))\n",
    "    show_metrics(y_test, pred, pred_proba)\n",
    "    \n",
    "    pred_df = pd.DataFrame(pred, index=X_test.index,columns=['predicted'])\n",
    "    pred_df['real'] = y_test\n",
    "    pred_df['NAME'] = X_test\n",
    "    errors = pred_df[pred_df['real'] != pred_df['predicted']]\n",
    "    \n",
    "    return errors, vectorizer"
   ]
  },
  {
   "cell_type": "code",
   "execution_count": 159,
   "metadata": {
    "collapsed": false
   },
   "outputs": [
    {
     "name": "stdout",
     "output_type": "stream",
     "text": [
      "Vocabulary length: 30000\n",
      "Accuracy: 0.9644945697577276\n",
      "LogLoss: 0.12459730473394144\n",
      "                           precision    recall  f1-score   support\n",
      "\n",
      "                 Алкоголь       0.97      0.96      0.97      3583\n",
      "                   Непрод       0.97      0.99      0.98     11214\n",
      "Позиция по свободной цене       0.00      0.00      0.00         4\n",
      "                     Прод       0.94      0.85      0.89      1774\n",
      "                      н/д       0.99      0.84      0.91       183\n",
      "\n",
      "              avg / total       0.96      0.96      0.96     16758\n",
      "\n",
      "Errors count: 595\n"
     ]
    },
    {
     "name": "stderr",
     "output_type": "stream",
     "text": [
      "/usr/local/lib/python3.5/site-packages/sklearn/metrics/classification.py:1113: UndefinedMetricWarning: Precision and F-score are ill-defined and being set to 0.0 in labels with no predicted samples.\n",
      "  'precision', 'predicted', average, warn_for)\n"
     ]
    },
    {
     "data": {
      "text/html": [
       "<div>\n",
       "<table border=\"1\" class=\"dataframe\">\n",
       "  <thead>\n",
       "    <tr style=\"text-align: right;\">\n",
       "      <th></th>\n",
       "      <th>predicted</th>\n",
       "      <th>real</th>\n",
       "      <th>NAME</th>\n",
       "    </tr>\n",
       "    <tr>\n",
       "      <th>id</th>\n",
       "      <th></th>\n",
       "      <th></th>\n",
       "      <th></th>\n",
       "    </tr>\n",
       "  </thead>\n",
       "  <tbody>\n",
       "    <tr>\n",
       "      <th>6561</th>\n",
       "      <td>Непрод</td>\n",
       "      <td>Алкоголь</td>\n",
       "      <td>БИТОКСИБАЦИЛЛИН, П/Август/20гр</td>\n",
       "    </tr>\n",
       "    <tr>\n",
       "      <th>48333</th>\n",
       "      <td>Непрод</td>\n",
       "      <td>Алкоголь</td>\n",
       "      <td>набор подарочный для вина</td>\n",
       "    </tr>\n",
       "    <tr>\n",
       "      <th>50666</th>\n",
       "      <td>Непрод</td>\n",
       "      <td>Прод</td>\n",
       "      <td>Бутерброд №44</td>\n",
       "    </tr>\n",
       "    <tr>\n",
       "      <th>43089</th>\n",
       "      <td>Непрод</td>\n",
       "      <td>Прод</td>\n",
       "      <td>Малена / Акконд</td>\n",
       "    </tr>\n",
       "    <tr>\n",
       "      <th>21696</th>\n",
       "      <td>Непрод</td>\n",
       "      <td>Алкоголь</td>\n",
       "      <td>Лавила Нанни сух.150</td>\n",
       "    </tr>\n",
       "  </tbody>\n",
       "</table>\n",
       "</div>"
      ],
      "text/plain": [
       "      predicted      real                            NAME\n",
       "id                                                       \n",
       "6561     Непрод  Алкоголь  БИТОКСИБАЦИЛЛИН, П/Август/20гр\n",
       "48333    Непрод  Алкоголь       набор подарочный для вина\n",
       "50666    Непрод      Прод                   Бутерброд №44\n",
       "43089    Непрод      Прод                 Малена / Акконд\n",
       "21696    Непрод  Алкоголь            Лавила Нанни сух.150"
      ]
     },
     "execution_count": 159,
     "metadata": {},
     "output_type": "execute_result"
    }
   ],
   "source": [
    "errors_stemmer, vectorizer = predict_with_stemmer(data, prepare_data_baseline)\n",
    "print(\"Errors count: {}\".format(errors_stemmer.shape[0]))\n",
    "errors_stemmer.head()"
   ]
  },
  {
   "cell_type": "code",
   "execution_count": 175,
   "metadata": {
    "collapsed": false
   },
   "outputs": [],
   "source": [
    "import string\n",
    "import re\n",
    "\n",
    "def prepare_data_numbers_fix(data):\n",
    "    regex = re.compile('[%s]' % re.escape(string.punctuation))\n",
    "    X = (data['NAME'] + '.') \\\n",
    "        .str.lower() \\\n",
    "        .replace(regex,\" \").str \\\n",
    "        .replace('\\d+', '') \\\n",
    "        .str.replace(\" л \", \" литр \") \\\n",
    "        .str.replace(\" г \", ' грамм ') \\\n",
    "        .str.replace(\" кг \", ' килограмм ') \\\n",
    "        .str.replace(\" мг \", ' миллиграмм ') \\\n",
    "        .str.replace(\" мл \", ' миллилитр ') \\\n",
    "        .str.replace(\" шт \", \" штук \") \\\n",
    "        .str.replace(\" см \", \" сантиметр \") \\\n",
    "        .str.replace(\" м \", \" метр \") \\\n",
    "        .str.replace(' д ', ' для ')\n",
    "    \n",
    "    y = data['category']\n",
    "\n",
    "    X_train, X_test, y_train, y_test = train_test_split(X, y, test_size=0.3, random_state=42)\n",
    "\n",
    "    test = pd.DataFrame(index=y_test.index)\n",
    "    test['NAME'] = X_test\n",
    "    test['category'] = y_test\n",
    "    \n",
    "    return X_train, X_test, y_train, y_test"
   ]
  },
  {
   "cell_type": "code",
   "execution_count": 176,
   "metadata": {
    "collapsed": false
   },
   "outputs": [
    {
     "name": "stdout",
     "output_type": "stream",
     "text": [
      "Vocabulary length: 21000\n",
      "Accuracy: 0.9667621434538728\n",
      "LogLoss: 0.11574519581400006\n",
      "                           precision    recall  f1-score   support\n",
      "\n",
      "                 Алкоголь       0.98      0.96      0.97      3583\n",
      "                   Непрод       0.97      0.99      0.98     11214\n",
      "Позиция по свободной цене       0.00      0.00      0.00         4\n",
      "                     Прод       0.94      0.85      0.89      1774\n",
      "                      н/д       0.99      0.84      0.91       183\n",
      "\n",
      "              avg / total       0.97      0.97      0.97     16758\n",
      "\n",
      "Errors count: 557\n"
     ]
    },
    {
     "name": "stderr",
     "output_type": "stream",
     "text": [
      "/usr/local/lib/python3.5/site-packages/sklearn/metrics/classification.py:1113: UndefinedMetricWarning: Precision and F-score are ill-defined and being set to 0.0 in labels with no predicted samples.\n",
      "  'precision', 'predicted', average, warn_for)\n"
     ]
    },
    {
     "data": {
      "text/html": [
       "<div>\n",
       "<table border=\"1\" class=\"dataframe\">\n",
       "  <thead>\n",
       "    <tr style=\"text-align: right;\">\n",
       "      <th></th>\n",
       "      <th>predicted</th>\n",
       "      <th>real</th>\n",
       "      <th>NAME</th>\n",
       "    </tr>\n",
       "    <tr>\n",
       "      <th>id</th>\n",
       "      <th></th>\n",
       "      <th></th>\n",
       "      <th></th>\n",
       "    </tr>\n",
       "  </thead>\n",
       "  <tbody>\n",
       "    <tr>\n",
       "      <th>6561</th>\n",
       "      <td>Непрод</td>\n",
       "      <td>Алкоголь</td>\n",
       "      <td>битоксибациллин  п август гр</td>\n",
       "    </tr>\n",
       "    <tr>\n",
       "      <th>48333</th>\n",
       "      <td>Непрод</td>\n",
       "      <td>Алкоголь</td>\n",
       "      <td>набор подарочный для вина</td>\n",
       "    </tr>\n",
       "    <tr>\n",
       "      <th>43089</th>\n",
       "      <td>Непрод</td>\n",
       "      <td>Прод</td>\n",
       "      <td>малена   акконд</td>\n",
       "    </tr>\n",
       "    <tr>\n",
       "      <th>49520</th>\n",
       "      <td>Прод</td>\n",
       "      <td>Непрод</td>\n",
       "      <td>кофе hausbrandt nero espresso</td>\n",
       "    </tr>\n",
       "    <tr>\n",
       "      <th>54820</th>\n",
       "      <td>Непрод</td>\n",
       "      <td>Алкоголь</td>\n",
       "      <td>°по фаренгейту р брэдбери</td>\n",
       "    </tr>\n",
       "  </tbody>\n",
       "</table>\n",
       "</div>"
      ],
      "text/plain": [
       "      predicted      real                            NAME\n",
       "id                                                       \n",
       "6561     Непрод  Алкоголь   битоксибациллин  п август гр \n",
       "48333    Непрод  Алкоголь      набор подарочный для вина \n",
       "43089    Непрод      Прод                малена   акконд \n",
       "49520      Прод    Непрод  кофе hausbrandt nero espresso \n",
       "54820    Непрод  Алкоголь      °по фаренгейту р брэдбери "
      ]
     },
     "execution_count": 176,
     "metadata": {},
     "output_type": "execute_result"
    }
   ],
   "source": [
    "errors_baseline_fixed, vectorizer = baseline(data, prepare_data_numbers_fix)\n",
    "print(\"Errors count: {}\".format(errors_baseline_fixed.shape[0]))\n",
    "errors_baseline_fixed.head()"
   ]
  },
  {
   "cell_type": "code",
   "execution_count": 200,
   "metadata": {
    "collapsed": false
   },
   "outputs": [
    {
     "name": "stdout",
     "output_type": "stream",
     "text": [
      "Vocabulary length: 30945\n",
      "Accuracy: 0.9328678839957035\n",
      "LogLoss: 0.20956943042317075\n",
      "                           precision    recall  f1-score   support\n",
      "\n",
      "                 Алкоголь       0.99      0.90      0.95      3583\n",
      "                   Непрод       0.93      0.98      0.95     11214\n",
      "Позиция по свободной цене       1.00      0.75      0.86         4\n",
      "                     Прод       0.84      0.70      0.76      1774\n",
      "                      н/д       0.98      0.87      0.92       183\n",
      "\n",
      "              avg / total       0.93      0.93      0.93     16758\n",
      "\n",
      "Errors count: 1125\n"
     ]
    },
    {
     "data": {
      "text/html": [
       "<div>\n",
       "<table border=\"1\" class=\"dataframe\">\n",
       "  <thead>\n",
       "    <tr style=\"text-align: right;\">\n",
       "      <th></th>\n",
       "      <th>predicted</th>\n",
       "      <th>real</th>\n",
       "      <th>NAME</th>\n",
       "    </tr>\n",
       "    <tr>\n",
       "      <th>id</th>\n",
       "      <th></th>\n",
       "      <th></th>\n",
       "      <th></th>\n",
       "    </tr>\n",
       "  </thead>\n",
       "  <tbody>\n",
       "    <tr>\n",
       "      <th>6561</th>\n",
       "      <td>Прод</td>\n",
       "      <td>Алкоголь</td>\n",
       "      <td>битоксибациллин  п август гр</td>\n",
       "    </tr>\n",
       "    <tr>\n",
       "      <th>48333</th>\n",
       "      <td>Непрод</td>\n",
       "      <td>Алкоголь</td>\n",
       "      <td>набор подарочный для вина</td>\n",
       "    </tr>\n",
       "    <tr>\n",
       "      <th>15024</th>\n",
       "      <td>Непрод</td>\n",
       "      <td>Прод</td>\n",
       "      <td>зефир воздушный поцелуй клубничный</td>\n",
       "    </tr>\n",
       "    <tr>\n",
       "      <th>50666</th>\n",
       "      <td>Непрод</td>\n",
       "      <td>Прод</td>\n",
       "      <td>бутерброд №</td>\n",
       "    </tr>\n",
       "    <tr>\n",
       "      <th>38717</th>\n",
       "      <td>Прод</td>\n",
       "      <td>Непрод</td>\n",
       "      <td>ушастый нянь  weight</td>\n",
       "    </tr>\n",
       "  </tbody>\n",
       "</table>\n",
       "</div>"
      ],
      "text/plain": [
       "      predicted      real                                 NAME\n",
       "id                                                            \n",
       "6561       Прод  Алкоголь        битоксибациллин  п август гр \n",
       "48333    Непрод  Алкоголь           набор подарочный для вина \n",
       "15024    Непрод      Прод  зефир воздушный поцелуй клубничный \n",
       "50666    Непрод      Прод                         бутерброд № \n",
       "38717      Прод    Непрод                ушастый нянь  weight "
      ]
     },
     "execution_count": 200,
     "metadata": {},
     "output_type": "execute_result"
    }
   ],
   "source": [
    "errors, vectorizer = boosting(data, prepare_data_numbers_fix)\n",
    "print(\"Errors count: {}\".format(errors.shape[0]))\n",
    "errors.head()"
   ]
  },
  {
   "cell_type": "code",
   "execution_count": 178,
   "metadata": {
    "collapsed": false
   },
   "outputs": [
    {
     "name": "stdout",
     "output_type": "stream",
     "text": [
      "Vocabulary length: 23457\n",
      "Accuracy: 0.9634204559016589\n",
      "LogLoss: 0.12338980122092645\n",
      "                           precision    recall  f1-score   support\n",
      "\n",
      "                 Алкоголь       0.97      0.96      0.96      3583\n",
      "                   Непрод       0.97      0.99      0.98     11214\n",
      "Позиция по свободной цене       0.00      0.00      0.00         4\n",
      "                     Прод       0.93      0.84      0.89      1774\n",
      "                      н/д       0.99      0.84      0.91       183\n",
      "\n",
      "              avg / total       0.96      0.96      0.96     16758\n",
      "\n",
      "Errors count: 613\n"
     ]
    },
    {
     "name": "stderr",
     "output_type": "stream",
     "text": [
      "/usr/local/lib/python3.5/site-packages/sklearn/metrics/classification.py:1113: UndefinedMetricWarning: Precision and F-score are ill-defined and being set to 0.0 in labels with no predicted samples.\n",
      "  'precision', 'predicted', average, warn_for)\n"
     ]
    },
    {
     "data": {
      "text/html": [
       "<div>\n",
       "<table border=\"1\" class=\"dataframe\">\n",
       "  <thead>\n",
       "    <tr style=\"text-align: right;\">\n",
       "      <th></th>\n",
       "      <th>predicted</th>\n",
       "      <th>real</th>\n",
       "      <th>NAME</th>\n",
       "    </tr>\n",
       "    <tr>\n",
       "      <th>id</th>\n",
       "      <th></th>\n",
       "      <th></th>\n",
       "      <th></th>\n",
       "    </tr>\n",
       "  </thead>\n",
       "  <tbody>\n",
       "    <tr>\n",
       "      <th>6561</th>\n",
       "      <td>Непрод</td>\n",
       "      <td>Алкоголь</td>\n",
       "      <td>битоксибациллин  п август гр</td>\n",
       "    </tr>\n",
       "    <tr>\n",
       "      <th>49297</th>\n",
       "      <td>Алкоголь</td>\n",
       "      <td>Непрод</td>\n",
       "      <td>ценникодержатель  полочный самоклеющийся dbr  ...</td>\n",
       "    </tr>\n",
       "    <tr>\n",
       "      <th>48333</th>\n",
       "      <td>Непрод</td>\n",
       "      <td>Алкоголь</td>\n",
       "      <td>набор подарочный для вина</td>\n",
       "    </tr>\n",
       "    <tr>\n",
       "      <th>43089</th>\n",
       "      <td>Непрод</td>\n",
       "      <td>Прод</td>\n",
       "      <td>малена   акконд</td>\n",
       "    </tr>\n",
       "    <tr>\n",
       "      <th>49520</th>\n",
       "      <td>Прод</td>\n",
       "      <td>Непрод</td>\n",
       "      <td>кофе hausbrandt nero espresso</td>\n",
       "    </tr>\n",
       "  </tbody>\n",
       "</table>\n",
       "</div>"
      ],
      "text/plain": [
       "      predicted      real                                               NAME\n",
       "id                                                                          \n",
       "6561     Непрод  Алкоголь                      битоксибациллин  п август гр \n",
       "49297  Алкоголь    Непрод  ценникодержатель  полочный самоклеющийся dbr  ...\n",
       "48333    Непрод  Алкоголь                         набор подарочный для вина \n",
       "43089    Непрод      Прод                                   малена   акконд \n",
       "49520      Прод    Непрод                     кофе hausbrandt nero espresso "
      ]
     },
     "execution_count": 178,
     "metadata": {},
     "output_type": "execute_result"
    }
   ],
   "source": [
    "errors, vectorizer = predict_with_stemmer(data, prepare_data_numbers_fix)\n",
    "print(\"Errors count: {}\".format(errors.shape[0]))\n",
    "errors.head()"
   ]
  }
 ],
 "metadata": {
  "kernelspec": {
   "display_name": "Python 3",
   "language": "python",
   "name": "python3"
  },
  "language_info": {
   "codemirror_mode": {
    "name": "ipython",
    "version": 3
   },
   "file_extension": ".py",
   "mimetype": "text/x-python",
   "name": "python",
   "nbconvert_exporter": "python",
   "pygments_lexer": "ipython3",
   "version": "3.5.2"
  }
 },
 "nbformat": 4,
 "nbformat_minor": 0
}
