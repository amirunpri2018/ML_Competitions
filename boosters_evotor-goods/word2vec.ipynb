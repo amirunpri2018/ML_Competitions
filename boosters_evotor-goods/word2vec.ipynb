{
 "cells": [
  {
   "cell_type": "code",
   "execution_count": 40,
   "metadata": {},
   "outputs": [],
   "source": [
    "import pandas as pd\n",
    "import numpy as np\n",
    "%matplotlib inline\n",
    "from matplotlib import pyplot as plt\n",
    "import seaborn as sns\n",
    "from sklearn.metrics import confusion_matrix\n",
    "import itertools\n",
    "from nltk.tokenize import WhitespaceTokenizer\n",
    "from gensim.models import Word2Vec, Doc2Vec\n",
    "from gensim.models.doc2vec import TaggedDocument\n",
    "from gensim.utils import simple_preprocess\n",
    "from sklearn.model_selection import cross_val_score, StratifiedKFold, train_test_split\n",
    "from sklearn.linear_model import LogisticRegression\n",
    "from sklearn.naive_bayes import MultinomialNB\n",
    "from sklearn.ensemble import RandomForestClassifier\n",
    "from sklearn.metrics import accuracy_score, log_loss, classification_report\n",
    "import string\n",
    "import re\n",
    "import matplotlib.cm as cm \n",
    "from sklearn.pipeline import Pipeline"
   ]
  },
  {
   "cell_type": "code",
   "execution_count": 2,
   "metadata": {},
   "outputs": [],
   "source": [
    "def load_text():\n",
    "    train = pd.read_csv('data/evo_train_clean.csv.gz', compression='gzip', index_col='id')['NAME']\n",
    "    test = pd.read_csv('data/evo_test_clean.csv.gz', compression='gzip', index_col='id')['NAME']\n",
    "    return pd.concat([train, test])"
   ]
  },
  {
   "cell_type": "code",
   "execution_count": 3,
   "metadata": {
    "collapsed": true
   },
   "outputs": [],
   "source": [
    "def load_data():\n",
    "    train = pd.read_csv('data/evo_train_clean.csv.gz', compression='gzip', index_col='id')\n",
    "    categories = pd.read_csv('data/categories_parsed.csv.gz', compression='gzip', index_col='GROUP_ID')\n",
    "    data = train.join(categories, on='GROUP_ID')\n",
    "    return data"
   ]
  },
  {
   "cell_type": "code",
   "execution_count": 4,
   "metadata": {},
   "outputs": [
    {
     "data": {
      "text/html": [
       "<div>\n",
       "<style>\n",
       "    .dataframe thead tr:only-child th {\n",
       "        text-align: right;\n",
       "    }\n",
       "\n",
       "    .dataframe thead th {\n",
       "        text-align: left;\n",
       "    }\n",
       "\n",
       "    .dataframe tbody tr th {\n",
       "        vertical-align: top;\n",
       "    }\n",
       "</style>\n",
       "<table border=\"1\" class=\"dataframe\">\n",
       "  <thead>\n",
       "    <tr style=\"text-align: right;\">\n",
       "      <th></th>\n",
       "      <th>NAME</th>\n",
       "      <th>GROUP_ID</th>\n",
       "      <th>category</th>\n",
       "      <th>sub_category</th>\n",
       "      <th>low_category</th>\n",
       "    </tr>\n",
       "    <tr>\n",
       "      <th>id</th>\n",
       "      <th></th>\n",
       "      <th></th>\n",
       "      <th></th>\n",
       "      <th></th>\n",
       "      <th></th>\n",
       "    </tr>\n",
       "  </thead>\n",
       "  <tbody>\n",
       "    <tr>\n",
       "      <th>0</th>\n",
       "      <td>пиво жигулевский number литр св</td>\n",
       "      <td>35</td>\n",
       "      <td>Алкоголь</td>\n",
       "      <td>Пиво, слабоалкогольные напитки</td>\n",
       "      <td>Прод</td>\n",
       "    </tr>\n",
       "    <tr>\n",
       "      <th>1</th>\n",
       "      <td>соус томатный буздяк number год татарский number</td>\n",
       "      <td>6</td>\n",
       "      <td>Прод</td>\n",
       "      <td>Продукты питания</td>\n",
       "      <td>Прод</td>\n",
       "    </tr>\n",
       "    <tr>\n",
       "      <th>2</th>\n",
       "      <td>сигарета esse ss exchange</td>\n",
       "      <td>7</td>\n",
       "      <td>Непрод</td>\n",
       "      <td>Табачные изделия</td>\n",
       "      <td>Непрод</td>\n",
       "    </tr>\n",
       "    <tr>\n",
       "      <th>3</th>\n",
       "      <td>петрушка</td>\n",
       "      <td>6</td>\n",
       "      <td>Прод</td>\n",
       "      <td>Продукты питания</td>\n",
       "      <td>Прод</td>\n",
       "    </tr>\n",
       "    <tr>\n",
       "      <th>4</th>\n",
       "      <td>пиво ягерь</td>\n",
       "      <td>35</td>\n",
       "      <td>Алкоголь</td>\n",
       "      <td>Пиво, слабоалкогольные напитки</td>\n",
       "      <td>Прод</td>\n",
       "    </tr>\n",
       "  </tbody>\n",
       "</table>\n",
       "</div>"
      ],
      "text/plain": [
       "                                                NAME  GROUP_ID  category  \\\n",
       "id                                                                         \n",
       "0                    пиво жигулевский number литр св        35  Алкоголь   \n",
       "1   соус томатный буздяк number год татарский number         6      Прод   \n",
       "2                          сигарета esse ss exchange         7    Непрод   \n",
       "3                                           петрушка         6      Прод   \n",
       "4                                         пиво ягерь        35  Алкоголь   \n",
       "\n",
       "                      sub_category low_category  \n",
       "id                                               \n",
       "0   Пиво, слабоалкогольные напитки         Прод  \n",
       "1                 Продукты питания         Прод  \n",
       "2                 Табачные изделия       Непрод  \n",
       "3                 Продукты питания         Прод  \n",
       "4   Пиво, слабоалкогольные напитки         Прод  "
      ]
     },
     "execution_count": 4,
     "metadata": {},
     "output_type": "execute_result"
    }
   ],
   "source": [
    "data = load_data()\n",
    "texts = load_text()\n",
    "data['NAME'] = data['NAME']\n",
    "data.head()"
   ]
  },
  {
   "cell_type": "code",
   "execution_count": 5,
   "metadata": {},
   "outputs": [],
   "source": [
    "t = WhitespaceTokenizer()\n",
    "\n",
    "def tokenize(series, tokenizer):\n",
    "    return series.apply(lambda row: tokenizer.tokenize(row)).values"
   ]
  },
  {
   "cell_type": "code",
   "execution_count": 65,
   "metadata": {
    "collapsed": true
   },
   "outputs": [],
   "source": [
    "sentences = tokenize(texts, t)\n",
    "w2v = Word2Vec(sentences=sentences, min_count=1, workers=4, size=3, seed=42)"
   ]
  },
  {
   "cell_type": "code",
   "execution_count": 12,
   "metadata": {},
   "outputs": [],
   "source": [
    "from sklearn.base import BaseEstimator, TransformerMixin\n",
    "\n",
    "class MeanEmbeddingVectorizer(BaseEstimator, TransformerMixin):\n",
    "    def __init__(self, word2vec):\n",
    "        self.word2vec = word2vec\n",
    "        # if a text is empty we should return a vector of zeros\n",
    "        # with the same dimensionality as all the other vectors\n",
    "        self.dim = word2vec.vector_size\n",
    "\n",
    "    def fit(self, X, y):\n",
    "        return self\n",
    "\n",
    "    def transform(self, X):\n",
    "        return np.array([\n",
    "            np.mean([self.word2vec[w] for w in words if w in self.word2vec]\n",
    "                    or [np.zeros(self.dim)], axis=0)\n",
    "            for words in X\n",
    "        ])"
   ]
  },
  {
   "cell_type": "code",
   "execution_count": 13,
   "metadata": {},
   "outputs": [],
   "source": [
    "def prepare_data(data):\n",
    "    X = data['NAME']\n",
    "    y = data['low_category']\n",
    "    return train_test_split(X, y, test_size=0.3, random_state=42)\n",
    "\n",
    "X_train, X_test, y_train, y_test = prepare_data(data)"
   ]
  },
  {
   "cell_type": "code",
   "execution_count": 67,
   "metadata": {},
   "outputs": [],
   "source": [
    "def plot_vectors(text, y, w2v):\n",
    "    vectorizer = MeanEmbeddingVectorizer(w2v)\n",
    "    vec = vectorizer.transform(text)\n",
    "    \n",
    "    colors = cm.rainbow(np.linspace(0, 1, len(set(y))))\n",
    "    for y_, c in zip(set(y), colors):\n",
    "        plt.scatter(vec[y.values==y_, 0], \n",
    "                    vec[y.values==y_, 1], c=c, alpha=0.5, label=str(y_))    "
   ]
  },
  {
   "cell_type": "code",
   "execution_count": 68,
   "metadata": {},
   "outputs": [
    {
     "data": {
      "image/png": "[encoded data removed]",
      "text/plain": [
       "<matplotlib.figure.Figure at 0x7f0c73766080>"
      ]
     },
     "metadata": {},
     "output_type": "display_data"
    }
   ],
   "source": [
    "plot_vectors(data['NAME'], data['low_category'], w2v)"
   ]
  },
  {
   "cell_type": "code",
   "execution_count": 9,
   "metadata": {
    "collapsed": true
   },
   "outputs": [],
   "source": [
    "def plot_confusion_matrix(cm, classes,\n",
    "                          normalize=False,\n",
    "                          title='Confusion matrix',\n",
    "                          cmap=plt.cm.Blues):\n",
    "    \"\"\"\n",
    "    This function prints and plots the confusion matrix.\n",
    "    Normalization can be applied by setting `normalize=True`.\n",
    "    \"\"\"\n",
    "    plt.imshow(cm, interpolation='nearest', cmap=cmap)\n",
    "    plt.title(title)\n",
    "    plt.colorbar()\n",
    "    tick_marks = np.arange(len(classes))\n",
    "    plt.xticks(tick_marks, classes, rotation=45)\n",
    "    plt.yticks(tick_marks, classes)\n",
    "\n",
    "    if normalize:\n",
    "        cm = cm.astype('float') / cm.sum(axis=1)[:, np.newaxis]\n",
    "        print(\"Normalized confusion matrix\")\n",
    "    else:\n",
    "        print('Confusion matrix, without normalization')\n",
    "\n",
    "    print(cm)\n",
    "\n",
    "    thresh = cm.max() / 2.\n",
    "    for i, j in itertools.product(range(cm.shape[0]), range(cm.shape[1])):\n",
    "        plt.text(j, i, cm[i, j],\n",
    "                 horizontalalignment=\"center\",\n",
    "                 color=\"white\" if cm[i, j] > thresh else \"black\")\n",
    "\n",
    "    plt.tight_layout()\n",
    "    plt.ylabel('True label')\n",
    "    plt.xlabel('Predicted label')\n",
    "    \n",
    "\n",
    "def show_metrics(y_true, y_pred, y_pred_proba):\n",
    "    print(\"Accuracy: {}\".format(accuracy_score(y_true, y_pred)))\n",
    "    print(\"LogLoss: {}\".format(log_loss(y_true, y_pred_proba)))\n",
    "    print(classification_report(y_true, y_pred))\n",
    "    cnf_matrix = confusion_matrix(y_true, y_pred)\n",
    "    plot_confusion_matrix(cnf_matrix, y_true.unique())"
   ]
  },
  {
   "cell_type": "code",
   "execution_count": 18,
   "metadata": {
    "collapsed": true
   },
   "outputs": [],
   "source": [
    "def pipeline(X_train, y_train, X_test, y_test, w2v):\n",
    "    \n",
    "    clf = Pipeline([\n",
    "        (\"word2vec vectorizer\", MeanEmbeddingVectorizer(w2v)),\n",
    "        (\"log reg\", LogisticRegression())\n",
    "    ])\n",
    "    \n",
    "    clf.fit(X_train, y_train)\n",
    "    \n",
    "    pred = clf.predict(X_test)\n",
    "    pred_proba = clf.predict_proba(X_test)\n",
    "    \n",
    "    show_metrics(y_test, pred, pred_proba)\n",
    "    \n",
    "    pred_df = pd.DataFrame(pred, index=X_test.index,columns=['predicted'])\n",
    "    pred_df['real'] = y_test\n",
    "    pred_df['NAME'] = data.ix[X_test.index, 'NAME']\n",
    "    errors = pred_df[pred_df['real'] != pred_df['predicted']]\n",
    "    \n",
    "    return errors"
   ]
  },
  {
   "cell_type": "code",
   "execution_count": 69,
   "metadata": {
    "scrolled": true
   },
   "outputs": [
    {
     "name": "stdout",
     "output_type": "stream",
     "text": [
      "Accuracy: 0.6898794605561522\n",
      "LogLoss: 0.5768759105465214\n",
      "             precision    recall  f1-score   support\n",
      "\n",
      "     Непрод       0.71      0.91      0.80     11401\n",
      "       Прод       0.53      0.23      0.32      5357\n",
      "\n",
      "avg / total       0.66      0.69      0.65     16758\n",
      "\n",
      "Confusion matrix, without normalization\n",
      "[[10323  1078]\n",
      " [ 4119  1238]]\n"
     ]
    },
    {
     "data": {
      "image/png": "[encoded data removed]",
      "text/plain": [
       "<matplotlib.figure.Figure at 0x7f0c73831908>"
      ]
     },
     "metadata": {},
     "output_type": "display_data"
    }
   ],
   "source": [
    "errors = pipeline(X_train, y_train, X_test, y_test, w2v)"
   ]
  }
 ],
 "metadata": {
  "kernelspec": {
   "display_name": "Python 3",
   "language": "python",
   "name": "python3"
  },
  "language_info": {
   "codemirror_mode": {
    "name": "ipython",
    "version": 3
   },
   "file_extension": ".py",
   "mimetype": "text/x-python",
   "name": "python",
   "nbconvert_exporter": "python",
   "pygments_lexer": "ipython3",
   "version": "3.5.3"
  }
 },
 "nbformat": 4,
 "nbformat_minor": 1
}
