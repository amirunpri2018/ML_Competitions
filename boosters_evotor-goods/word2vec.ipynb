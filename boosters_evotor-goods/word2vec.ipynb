{
 "cells": [
  {
   "cell_type": "code",
   "execution_count": 277,
   "metadata": {
    "collapsed": false
   },
   "outputs": [],
   "source": [
    "import pandas as pd\n",
    "import numpy as np\n",
    "%matplotlib inline\n",
    "from matplotlib import pyplot as plt\n",
    "import seaborn as sns\n",
    "from sklearn.metrics import confusion_matrix\n",
    "import itertools\n",
    "from nltk.tokenize import WhitespaceTokenizer\n",
    "from gensim.models import Word2Vec, Doc2Vec\n",
    "from gensim.models.doc2vec import TaggedDocument\n",
    "from gensim.utils import simple_preprocess\n",
    "from sklearn.model_selection import cross_val_score, StratifiedKFold, train_test_split\n",
    "from sklearn.linear_model import LogisticRegression\n",
    "from sklearn.naive_bayes import MultinomialNB\n",
    "from sklearn.ensemble import RandomForestClassifier\n",
    "from sklearn.metrics import accuracy_score, log_loss, classification_report\n",
    "import string\n",
    "import re"
   ]
  },
  {
   "cell_type": "code",
   "execution_count": 230,
   "metadata": {
    "collapsed": false
   },
   "outputs": [],
   "source": [
    "def load_text():\n",
    "    train = pd.read_csv('data/evo_train_clean.csv.gz', compression='gzip', index_col='id')['NAME']\n",
    "    test = pd.read_csv('data/evo_test_clean.csv.gz', compression='gzip', index_col='id')['NAME']\n",
    "    return pd.concat([train, test])"
   ]
  },
  {
   "cell_type": "code",
   "execution_count": 231,
   "metadata": {
    "collapsed": true
   },
   "outputs": [],
   "source": [
    "def load_data():\n",
    "    train = pd.read_csv('data/evo_train_clean.csv.gz', compression='gzip', index_col='id')\n",
    "    categories = pd.read_csv('data/categories_parsed.csv.gz', compression='gzip', index_col='GROUP_ID')\n",
    "    data = train.join(categories, on='GROUP_ID')\n",
    "    return data"
   ]
  },
  {
   "cell_type": "code",
   "execution_count": 232,
   "metadata": {
    "collapsed": false
   },
   "outputs": [
    {
     "data": {
      "text/html": [
       "<div>\n",
       "<table border=\"1\" class=\"dataframe\">\n",
       "  <thead>\n",
       "    <tr style=\"text-align: right;\">\n",
       "      <th></th>\n",
       "      <th>NAME</th>\n",
       "      <th>GROUP_ID</th>\n",
       "      <th>category</th>\n",
       "      <th>sub_category</th>\n",
       "    </tr>\n",
       "    <tr>\n",
       "      <th>id</th>\n",
       "      <th></th>\n",
       "      <th></th>\n",
       "      <th></th>\n",
       "      <th></th>\n",
       "    </tr>\n",
       "  </thead>\n",
       "  <tbody>\n",
       "    <tr>\n",
       "      <th>0</th>\n",
       "      <td>пиво жигулевский number литр св</td>\n",
       "      <td>35</td>\n",
       "      <td>Алкоголь</td>\n",
       "      <td>Пиво, слабоалкогольные напитки</td>\n",
       "    </tr>\n",
       "    <tr>\n",
       "      <th>1</th>\n",
       "      <td>соус томатный буздяк number год татарский number</td>\n",
       "      <td>6</td>\n",
       "      <td>Прод</td>\n",
       "      <td>Продукты питания</td>\n",
       "    </tr>\n",
       "    <tr>\n",
       "      <th>2</th>\n",
       "      <td>сигарета esse ss exchange</td>\n",
       "      <td>7</td>\n",
       "      <td>Непрод</td>\n",
       "      <td>Табачные изделия</td>\n",
       "    </tr>\n",
       "    <tr>\n",
       "      <th>3</th>\n",
       "      <td>петрушка</td>\n",
       "      <td>6</td>\n",
       "      <td>Прод</td>\n",
       "      <td>Продукты питания</td>\n",
       "    </tr>\n",
       "    <tr>\n",
       "      <th>4</th>\n",
       "      <td>пиво ягерь</td>\n",
       "      <td>35</td>\n",
       "      <td>Алкоголь</td>\n",
       "      <td>Пиво, слабоалкогольные напитки</td>\n",
       "    </tr>\n",
       "  </tbody>\n",
       "</table>\n",
       "</div>"
      ],
      "text/plain": [
       "                                                NAME  GROUP_ID  category  \\\n",
       "id                                                                         \n",
       "0                    пиво жигулевский number литр св        35  Алкоголь   \n",
       "1   соус томатный буздяк number год татарский number         6      Прод   \n",
       "2                          сигарета esse ss exchange         7    Непрод   \n",
       "3                                           петрушка         6      Прод   \n",
       "4                                         пиво ягерь        35  Алкоголь   \n",
       "\n",
       "                      sub_category  \n",
       "id                                  \n",
       "0   Пиво, слабоалкогольные напитки  \n",
       "1                 Продукты питания  \n",
       "2                 Табачные изделия  \n",
       "3                 Продукты питания  \n",
       "4   Пиво, слабоалкогольные напитки  "
      ]
     },
     "execution_count": 232,
     "metadata": {},
     "output_type": "execute_result"
    }
   ],
   "source": [
    "data = load_data()\n",
    "texts = load_text()\n",
    "data['NAME'] = data['NAME']\n",
    "data.head()"
   ]
  },
  {
   "cell_type": "code",
   "execution_count": 218,
   "metadata": {
    "collapsed": false
   },
   "outputs": [],
   "source": [
    "t = WhitespaceTokenizer()\n",
    "\n",
    "def tokenize(series, tokenizer):\n",
    "    return series.apply(lambda row: tokenizer.tokenize(row)).values"
   ]
  },
  {
   "cell_type": "code",
   "execution_count": 279,
   "metadata": {
    "collapsed": false
   },
   "outputs": [],
   "source": [
    "def corpus(data, isTrain=True):\n",
    "    t = WhitespaceTokenizer()\n",
    "    if isTrain:\n",
    "        for index, row in data.iterrows():\n",
    "            yield TaggedDocument(t.tokenize(row['NAME']), row['category'])\n",
    "    else:\n",
    "        for index, row in data.iterrows():\n",
    "            yield t.tokenize(row['NAME'])"
   ]
  },
  {
   "cell_type": "code",
   "execution_count": 219,
   "metadata": {
    "collapsed": false
   },
   "outputs": [],
   "source": [
    "# sentences = tokenize(texts, t)\n",
    "# model = Word2Vec(sentences=sentences, min_count=1, workers=4, size=200, seed=42)"
   ]
  },
  {
   "cell_type": "code",
   "execution_count": 220,
   "metadata": {
    "collapsed": true
   },
   "outputs": [],
   "source": [
    "def sentence_vec(sentence, model, tokenizer):\n",
    "    words = tokenizer.tokenize(sentence)\n",
    "    return np.sum([model[w] for w in words], axis=0)"
   ]
  },
  {
   "cell_type": "code",
   "execution_count": 221,
   "metadata": {
    "collapsed": false
   },
   "outputs": [],
   "source": [
    "def sentences_to_vec(series):\n",
    "    return series.apply(lambda row: sentence_vec(row, model, t))"
   ]
  },
  {
   "cell_type": "code",
   "execution_count": 299,
   "metadata": {
    "collapsed": false
   },
   "outputs": [
    {
     "data": {
      "text/plain": [
       "2267325"
      ]
     },
     "execution_count": 299,
     "metadata": {},
     "output_type": "execute_result"
    }
   ],
   "source": [
    "def prepare_data(data):\n",
    "    X = data['NAME']\n",
    "    y = data['category']\n",
    "    return train_test_split(X, y, test_size=0.3, random_state=42)\n",
    "\n",
    "X_train, X_test, y_train, y_test = train_test_split(data, data['category'], test_size=0.3, random_state=42)\n",
    "X_train = list(corpus(X_train, isTrain=True))\n",
    "X_test = list(corpus(X_test, isTrain=False))\n",
    "model = Doc2Vec(size=20, workers=4)\n",
    "model.build_vocab(X_train)\n",
    "model.train(X_train)"
   ]
  },
  {
   "cell_type": "code",
   "execution_count": 300,
   "metadata": {
    "collapsed": false
   },
   "outputs": [],
   "source": [
    "X_train_targets = [model.infer_vector(doc.words, steps=50) for doc in X_train]\n",
    "X_test_targets = [model.infer_vector(doc, steps=50) for doc in X_test]"
   ]
  },
  {
   "cell_type": "code",
   "execution_count": 223,
   "metadata": {
    "collapsed": true
   },
   "outputs": [],
   "source": [
    "def plot_confusion_matrix(cm, classes,\n",
    "                          normalize=False,\n",
    "                          title='Confusion matrix',\n",
    "                          cmap=plt.cm.Blues):\n",
    "    \"\"\"\n",
    "    This function prints and plots the confusion matrix.\n",
    "    Normalization can be applied by setting `normalize=True`.\n",
    "    \"\"\"\n",
    "    plt.imshow(cm, interpolation='nearest', cmap=cmap)\n",
    "    plt.title(title)\n",
    "    plt.colorbar()\n",
    "    tick_marks = np.arange(len(classes))\n",
    "    plt.xticks(tick_marks, classes, rotation=45)\n",
    "    plt.yticks(tick_marks, classes)\n",
    "\n",
    "    if normalize:\n",
    "        cm = cm.astype('float') / cm.sum(axis=1)[:, np.newaxis]\n",
    "        print(\"Normalized confusion matrix\")\n",
    "    else:\n",
    "        print('Confusion matrix, without normalization')\n",
    "\n",
    "    print(cm)\n",
    "\n",
    "    thresh = cm.max() / 2.\n",
    "    for i, j in itertools.product(range(cm.shape[0]), range(cm.shape[1])):\n",
    "        plt.text(j, i, cm[i, j],\n",
    "                 horizontalalignment=\"center\",\n",
    "                 color=\"white\" if cm[i, j] > thresh else \"black\")\n",
    "\n",
    "    plt.tight_layout()\n",
    "    plt.ylabel('True label')\n",
    "    plt.xlabel('Predicted label')\n",
    "    \n",
    "\n",
    "def show_metrics(y_true, y_pred, y_pred_proba):\n",
    "    print(\"Accuracy: {}\".format(accuracy_score(y_true, y_pred)))\n",
    "    print(\"LogLoss: {}\".format(log_loss(y_true, y_pred_proba)))\n",
    "    print(classification_report(y_true, y_pred))\n",
    "    cnf_matrix = confusion_matrix(y_true, y_pred)\n",
    "    plot_confusion_matrix(cnf_matrix, y_true.unique())"
   ]
  },
  {
   "cell_type": "code",
   "execution_count": 291,
   "metadata": {
    "collapsed": true
   },
   "outputs": [],
   "source": [
    "def logistic(X_train, y_train, X_test, y_test):\n",
    "    clf = LogisticRegression()\n",
    "    clf.fit(X_train, y_train)\n",
    "    \n",
    "    pred = clf.predict(X_test)\n",
    "    pred_proba = clf.predict_proba(X_test)\n",
    "    \n",
    "    show_metrics(y_test, pred, pred_proba)\n",
    "    \n",
    "#     pred_df = pd.DataFrame(pred, index=X_test.index,columns=['predicted'])\n",
    "#     pred_df['real'] = y_test\n",
    "#     pred_df['NAME'] = data.ix[X_test.index, 'NAME']\n",
    "#     errors = pred_df[pred_df['real'] != pred_df['predicted']]\n",
    "    \n",
    "#     return errors"
   ]
  },
  {
   "cell_type": "code",
   "execution_count": 301,
   "metadata": {
    "collapsed": false
   },
   "outputs": [
    {
     "name": "stdout",
     "output_type": "stream",
     "text": [
      "Accuracy: 0.9217090344909894\n",
      "LogLoss: 0.27498993875143063\n"
     ]
    },
    {
     "name": "stderr",
     "output_type": "stream",
     "text": [
      "/usr/local/lib/python3.5/site-packages/sklearn/metrics/classification.py:1113: UndefinedMetricWarning: Precision and F-score are ill-defined and being set to 0.0 in labels with no predicted samples.\n",
      "  'precision', 'predicted', average, warn_for)\n"
     ]
    },
    {
     "name": "stdout",
     "output_type": "stream",
     "text": [
      "                           precision    recall  f1-score   support\n",
      "\n",
      "                 Алкоголь       0.96      0.89      0.92      3583\n",
      "                   Непрод       0.91      0.98      0.95     11214\n",
      "Позиция по свободной цене       0.00      0.00      0.00         4\n",
      "                     Прод       0.90      0.62      0.73      1774\n",
      "                      н/д       0.98      0.61      0.75       183\n",
      "\n",
      "              avg / total       0.92      0.92      0.92     16758\n",
      "\n",
      "Confusion matrix, without normalization\n",
      "[[ 3199   354     0    30     0]\n",
      " [   84 11038     0    90     2]\n",
      " [    0     1     0     3     0]\n",
      " [   66   610     0  1098     0]\n",
      " [    0    70     0     2   111]]\n"
     ]
    },
    {
     "data": {
      "image/png": "[encoded data removed]",
      "text/plain": [
       "<matplotlib.figure.Figure at 0x12e208860>"
      ]
     },
     "metadata": {},
     "output_type": "display_data"
    }
   ],
   "source": [
    "errors = logistic(X_train_targets, y_train, X_test_targets, y_test)"
   ]
  }
 ],
 "metadata": {
  "kernelspec": {
   "display_name": "Python 3",
   "language": "python",
   "name": "python3"
  },
  "language_info": {
   "codemirror_mode": {
    "name": "ipython",
    "version": 3
   },
   "file_extension": ".py",
   "mimetype": "text/x-python",
   "name": "python",
   "nbconvert_exporter": "python",
   "pygments_lexer": "ipython3",
   "version": "3.5.2"
  }
 },
 "nbformat": 4,
 "nbformat_minor": 0
}
