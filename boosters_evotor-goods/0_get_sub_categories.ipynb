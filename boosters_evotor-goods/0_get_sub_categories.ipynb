{
 "cells": [
  {
   "cell_type": "code",
   "execution_count": 26,
   "metadata": {
    "collapsed": true
   },
   "outputs": [],
   "source": [
    "import pandas as pd\n",
    "import numpy as np"
   ]
  },
  {
   "cell_type": "code",
   "execution_count": 34,
   "metadata": {
    "collapsed": false
   },
   "outputs": [
    {
     "data": {
      "text/html": [
       "<div>\n",
       "<table border=\"1\" class=\"dataframe\">\n",
       "  <thead>\n",
       "    <tr style=\"text-align: right;\">\n",
       "      <th></th>\n",
       "      <th>NAME</th>\n",
       "      <th>PATH</th>\n",
       "    </tr>\n",
       "    <tr>\n",
       "      <th>GROUP_ID</th>\n",
       "      <th></th>\n",
       "      <th></th>\n",
       "    </tr>\n",
       "  </thead>\n",
       "  <tbody>\n",
       "    <tr>\n",
       "      <th>6</th>\n",
       "      <td>Продукты питания</td>\n",
       "      <td>Прод-&gt;Продукты питания</td>\n",
       "    </tr>\n",
       "    <tr>\n",
       "      <th>7</th>\n",
       "      <td>Табачные изделия</td>\n",
       "      <td>Непрод-&gt;Табачные изделия</td>\n",
       "    </tr>\n",
       "    <tr>\n",
       "      <th>9</th>\n",
       "      <td>н/д</td>\n",
       "      <td>н/д-&gt;н/д</td>\n",
       "    </tr>\n",
       "    <tr>\n",
       "      <th>12</th>\n",
       "      <td>Бытовая техника, оборудование и электроника</td>\n",
       "      <td>Непрод-&gt;Бытовая техника, оборудование и электр...</td>\n",
       "    </tr>\n",
       "    <tr>\n",
       "      <th>14</th>\n",
       "      <td>Косметика, гигиена и парфюмерия</td>\n",
       "      <td>Непрод-&gt;Косметика, гигиена и парфюмерия</td>\n",
       "    </tr>\n",
       "  </tbody>\n",
       "</table>\n",
       "</div>"
      ],
      "text/plain": [
       "                                                 NAME  \\\n",
       "GROUP_ID                                                \n",
       "6                                    Продукты питания   \n",
       "7                                    Табачные изделия   \n",
       "9                                                 н/д   \n",
       "12        Бытовая техника, оборудование и электроника   \n",
       "14                    Косметика, гигиена и парфюмерия   \n",
       "\n",
       "                                                       PATH  \n",
       "GROUP_ID                                                     \n",
       "6                                    Прод->Продукты питания  \n",
       "7                                  Непрод->Табачные изделия  \n",
       "9                                                  н/д->н/д  \n",
       "12        Непрод->Бытовая техника, оборудование и электр...  \n",
       "14                  Непрод->Косметика, гигиена и парфюмерия  "
      ]
     },
     "execution_count": 34,
     "metadata": {},
     "output_type": "execute_result"
    }
   ],
   "source": [
    "categories = pd.read_csv('data/categories.csv.gz', compression='gzip', index_col='GROUP_ID')\n",
    "categories.head()"
   ]
  },
  {
   "cell_type": "code",
   "execution_count": 35,
   "metadata": {
    "collapsed": false
   },
   "outputs": [
    {
     "data": {
      "text/html": [
       "<div>\n",
       "<table border=\"1\" class=\"dataframe\">\n",
       "  <thead>\n",
       "    <tr style=\"text-align: right;\">\n",
       "      <th></th>\n",
       "      <th>category</th>\n",
       "      <th>sub_category</th>\n",
       "    </tr>\n",
       "    <tr>\n",
       "      <th>GROUP_ID</th>\n",
       "      <th></th>\n",
       "      <th></th>\n",
       "    </tr>\n",
       "  </thead>\n",
       "  <tbody>\n",
       "    <tr>\n",
       "      <th>6</th>\n",
       "      <td>Прод</td>\n",
       "      <td>Продукты питания</td>\n",
       "    </tr>\n",
       "    <tr>\n",
       "      <th>7</th>\n",
       "      <td>Непрод</td>\n",
       "      <td>Табачные изделия</td>\n",
       "    </tr>\n",
       "    <tr>\n",
       "      <th>9</th>\n",
       "      <td>н/д</td>\n",
       "      <td>н/д</td>\n",
       "    </tr>\n",
       "    <tr>\n",
       "      <th>12</th>\n",
       "      <td>Непрод</td>\n",
       "      <td>Бытовая техника, оборудование и электроника</td>\n",
       "    </tr>\n",
       "    <tr>\n",
       "      <th>14</th>\n",
       "      <td>Непрод</td>\n",
       "      <td>Косметика, гигиена и парфюмерия</td>\n",
       "    </tr>\n",
       "  </tbody>\n",
       "</table>\n",
       "</div>"
      ],
      "text/plain": [
       "         category                                 sub_category\n",
       "GROUP_ID                                                      \n",
       "6            Прод                             Продукты питания\n",
       "7          Непрод                             Табачные изделия\n",
       "9             н/д                                          н/д\n",
       "12         Непрод  Бытовая техника, оборудование и электроника\n",
       "14         Непрод              Косметика, гигиена и парфюмерия"
      ]
     },
     "execution_count": 35,
     "metadata": {},
     "output_type": "execute_result"
    }
   ],
   "source": [
    "categories = categories['PATH'].str.split('->', expand=True).rename(columns={0: 'category', 1: 'sub_category'})\n",
    "categories.head()"
   ]
  },
  {
   "cell_type": "code",
   "execution_count": 36,
   "metadata": {
    "collapsed": false
   },
   "outputs": [
    {
     "data": {
      "text/plain": [
       "array(['Прод', 'Непрод', 'н/д', 'Позиция по свободной цене', 'Алкоголь'], dtype=object)"
      ]
     },
     "execution_count": 36,
     "metadata": {},
     "output_type": "execute_result"
    }
   ],
   "source": [
    "categories['category'].unique()"
   ]
  },
  {
   "cell_type": "code",
   "execution_count": 30,
   "metadata": {
    "collapsed": false
   },
   "outputs": [
    {
     "data": {
      "text/plain": [
       "array(['Продукты питания', 'Табачные изделия', 'н/д',\n",
       "       'Бытовая техника, оборудование и электроника',\n",
       "       'Косметика, гигиена и парфюмерия', 'Муз.инструменты', 'Канцтовары',\n",
       "       'Текстильные товары', 'Спорттовары', 'Упаковка', 'Бытовые услуги',\n",
       "       'Одежда и галантерея', 'Автомобили и мотоциклы', 'Хозтовары',\n",
       "       'Обувь', 'Детские товары, игрушки', 'Мед.товары', 'Стройматериалы',\n",
       "       'Сувениры', 'Цветы', 'Позиция по свободной цене', 'Алкоголь',\n",
       "       'Пиво, слабоалкогольные напитки', 'Компьютерная техника и ПО',\n",
       "       'Зоотовары', 'Мебель', 'Книги', 'Игрушки для взрослых',\n",
       "       'Ювелирные изделия'], dtype=object)"
      ]
     },
     "execution_count": 30,
     "metadata": {},
     "output_type": "execute_result"
    }
   ],
   "source": [
    "categories['sub_category'].unique()"
   ]
  },
  {
   "cell_type": "code",
   "execution_count": 39,
   "metadata": {
    "collapsed": false
   },
   "outputs": [
    {
     "data": {
      "text/html": [
       "<div>\n",
       "<table border=\"1\" class=\"dataframe\">\n",
       "  <thead>\n",
       "    <tr style=\"text-align: right;\">\n",
       "      <th></th>\n",
       "      <th>category</th>\n",
       "      <th>sub_category</th>\n",
       "      <th>low_category</th>\n",
       "    </tr>\n",
       "    <tr>\n",
       "      <th>GROUP_ID</th>\n",
       "      <th></th>\n",
       "      <th></th>\n",
       "      <th></th>\n",
       "    </tr>\n",
       "  </thead>\n",
       "  <tbody>\n",
       "    <tr>\n",
       "      <th>6</th>\n",
       "      <td>Прод</td>\n",
       "      <td>Продукты питания</td>\n",
       "      <td>Прод</td>\n",
       "    </tr>\n",
       "    <tr>\n",
       "      <th>7</th>\n",
       "      <td>Непрод</td>\n",
       "      <td>Табачные изделия</td>\n",
       "      <td>Непрод</td>\n",
       "    </tr>\n",
       "    <tr>\n",
       "      <th>9</th>\n",
       "      <td>н/д</td>\n",
       "      <td>н/д</td>\n",
       "      <td>Непрод</td>\n",
       "    </tr>\n",
       "    <tr>\n",
       "      <th>12</th>\n",
       "      <td>Непрод</td>\n",
       "      <td>Бытовая техника, оборудование и электроника</td>\n",
       "      <td>Непрод</td>\n",
       "    </tr>\n",
       "    <tr>\n",
       "      <th>14</th>\n",
       "      <td>Непрод</td>\n",
       "      <td>Косметика, гигиена и парфюмерия</td>\n",
       "      <td>Непрод</td>\n",
       "    </tr>\n",
       "  </tbody>\n",
       "</table>\n",
       "</div>"
      ],
      "text/plain": [
       "         category                                 sub_category low_category\n",
       "GROUP_ID                                                                   \n",
       "6            Прод                             Продукты питания         Прод\n",
       "7          Непрод                             Табачные изделия       Непрод\n",
       "9             н/д                                          н/д       Непрод\n",
       "12         Непрод  Бытовая техника, оборудование и электроника       Непрод\n",
       "14         Непрод              Косметика, гигиена и парфюмерия       Непрод"
      ]
     },
     "execution_count": 39,
     "metadata": {},
     "output_type": "execute_result"
    }
   ],
   "source": [
    "mapper = {'Алкоголь': 'Прод', 'Прод': 'Прод', 'Непрод': 'Непрод', 'н/д': 'Непрод',\n",
    "              'Позиция по свободной цене': 'Непрод'}\n",
    "categories['low_category'] = categories['category'].apply(lambda row: mapper[row])\n",
    "categories.head()"
   ]
  },
  {
   "cell_type": "code",
   "execution_count": 40,
   "metadata": {
    "collapsed": true
   },
   "outputs": [],
   "source": [
    "categories.to_csv('data/categories_parsed.csv.gz', compression='gzip')"
   ]
  },
  {
   "cell_type": "code",
   "execution_count": 57,
   "metadata": {
    "collapsed": false
   },
   "outputs": [
    {
     "data": {
      "text/plain": [
       "{'GROUP_ID': {'Автомобили и мотоциклы': 22,\n",
       "  'Алкоголь': 34,\n",
       "  'Бытовая техника, оборудование и электроника': 12,\n",
       "  'Бытовые услуги': 20,\n",
       "  'Детские товары, игрушки': 26,\n",
       "  'Зоотовары': 37,\n",
       "  'Игрушки для взрослых': 59,\n",
       "  'Канцтовары': 16,\n",
       "  'Книги': 52,\n",
       "  'Компьютерная техника и ПО': 36,\n",
       "  'Косметика, гигиена и парфюмерия': 14,\n",
       "  'Мебель': 38,\n",
       "  'Мед.товары': 27,\n",
       "  'Муз.инструменты': 15,\n",
       "  'Обувь': 25,\n",
       "  'Одежда и галантерея': 21,\n",
       "  'Пиво, слабоалкогольные напитки': 35,\n",
       "  'Позиция по свободной цене': 32,\n",
       "  'Продукты питания': 6,\n",
       "  'Спорттовары': 18,\n",
       "  'Стройматериалы': 28,\n",
       "  'Сувениры': 29,\n",
       "  'Табачные изделия': 7,\n",
       "  'Текстильные товары': 17,\n",
       "  'Упаковка': 19,\n",
       "  'Хозтовары': 24,\n",
       "  'Цветы': 30,\n",
       "  'Ювелирные изделия': 60,\n",
       "  'н/д': 9},\n",
       " 'category': {'Автомобили и мотоциклы': 'Непрод',\n",
       "  'Алкоголь': 'Алкоголь',\n",
       "  'Бытовая техника, оборудование и электроника': 'Непрод',\n",
       "  'Бытовые услуги': 'Непрод',\n",
       "  'Детские товары, игрушки': 'Непрод',\n",
       "  'Зоотовары': 'Непрод',\n",
       "  'Игрушки для взрослых': 'Непрод',\n",
       "  'Канцтовары': 'Непрод',\n",
       "  'Книги': 'Непрод',\n",
       "  'Компьютерная техника и ПО': 'Непрод',\n",
       "  'Косметика, гигиена и парфюмерия': 'Непрод',\n",
       "  'Мебель': 'Непрод',\n",
       "  'Мед.товары': 'Непрод',\n",
       "  'Муз.инструменты': 'Непрод',\n",
       "  'Обувь': 'Непрод',\n",
       "  'Одежда и галантерея': 'Непрод',\n",
       "  'Пиво, слабоалкогольные напитки': 'Алкоголь',\n",
       "  'Позиция по свободной цене': 'Позиция по свободной цене',\n",
       "  'Продукты питания': 'Прод',\n",
       "  'Спорттовары': 'Непрод',\n",
       "  'Стройматериалы': 'Непрод',\n",
       "  'Сувениры': 'Непрод',\n",
       "  'Табачные изделия': 'Непрод',\n",
       "  'Текстильные товары': 'Непрод',\n",
       "  'Упаковка': 'Непрод',\n",
       "  'Хозтовары': 'Непрод',\n",
       "  'Цветы': 'Непрод',\n",
       "  'Ювелирные изделия': 'Непрод',\n",
       "  'н/д': 'н/д'},\n",
       " 'low_category': {'Автомобили и мотоциклы': 'Непрод',\n",
       "  'Алкоголь': 'Прод',\n",
       "  'Бытовая техника, оборудование и электроника': 'Непрод',\n",
       "  'Бытовые услуги': 'Непрод',\n",
       "  'Детские товары, игрушки': 'Непрод',\n",
       "  'Зоотовары': 'Непрод',\n",
       "  'Игрушки для взрослых': 'Непрод',\n",
       "  'Канцтовары': 'Непрод',\n",
       "  'Книги': 'Непрод',\n",
       "  'Компьютерная техника и ПО': 'Непрод',\n",
       "  'Косметика, гигиена и парфюмерия': 'Непрод',\n",
       "  'Мебель': 'Непрод',\n",
       "  'Мед.товары': 'Непрод',\n",
       "  'Муз.инструменты': 'Непрод',\n",
       "  'Обувь': 'Непрод',\n",
       "  'Одежда и галантерея': 'Непрод',\n",
       "  'Пиво, слабоалкогольные напитки': 'Прод',\n",
       "  'Позиция по свободной цене': 'Непрод',\n",
       "  'Продукты питания': 'Прод',\n",
       "  'Спорттовары': 'Непрод',\n",
       "  'Стройматериалы': 'Непрод',\n",
       "  'Сувениры': 'Непрод',\n",
       "  'Табачные изделия': 'Непрод',\n",
       "  'Текстильные товары': 'Непрод',\n",
       "  'Упаковка': 'Непрод',\n",
       "  'Хозтовары': 'Непрод',\n",
       "  'Цветы': 'Непрод',\n",
       "  'Ювелирные изделия': 'Непрод',\n",
       "  'н/д': 'Непрод'}}"
      ]
     },
     "execution_count": 57,
     "metadata": {},
     "output_type": "execute_result"
    }
   ],
   "source": [
    "pd.read_csv('data/categories_parsed.csv.gz', compression='gzip', index_col='sub_category').to_dict()"
   ]
  },
  {
   "cell_type": "markdown",
   "metadata": {},
   "source": [
    "# Join with train dataset"
   ]
  },
  {
   "cell_type": "code",
   "execution_count": 22,
   "metadata": {
    "collapsed": false
   },
   "outputs": [
    {
     "data": {
      "text/html": [
       "<div>\n",
       "<table border=\"1\" class=\"dataframe\">\n",
       "  <thead>\n",
       "    <tr style=\"text-align: right;\">\n",
       "      <th></th>\n",
       "      <th>NAME</th>\n",
       "      <th>GROUP_ID</th>\n",
       "    </tr>\n",
       "    <tr>\n",
       "      <th>id</th>\n",
       "      <th></th>\n",
       "      <th></th>\n",
       "    </tr>\n",
       "  </thead>\n",
       "  <tbody>\n",
       "    <tr>\n",
       "      <th>0</th>\n",
       "      <td>Пиво \"Жигулевское\" 0,5 л. св.</td>\n",
       "      <td>35</td>\n",
       "    </tr>\n",
       "    <tr>\n",
       "      <th>1</th>\n",
       "      <td>СОУС ТОМАТНЫЙ БУЗДЯК 670Г ТАТАРСКИЙ /8</td>\n",
       "      <td>6</td>\n",
       "    </tr>\n",
       "    <tr>\n",
       "      <th>2</th>\n",
       "      <td>Сигареты  Esse SS Exchange</td>\n",
       "      <td>7</td>\n",
       "    </tr>\n",
       "    <tr>\n",
       "      <th>3</th>\n",
       "      <td>Петрушка</td>\n",
       "      <td>6</td>\n",
       "    </tr>\n",
       "    <tr>\n",
       "      <th>4</th>\n",
       "      <td>пиво ягерь</td>\n",
       "      <td>35</td>\n",
       "    </tr>\n",
       "  </tbody>\n",
       "</table>\n",
       "</div>"
      ],
      "text/plain": [
       "                                      NAME  GROUP_ID\n",
       "id                                                  \n",
       "0            Пиво \"Жигулевское\" 0,5 л. св.        35\n",
       "1   СОУС ТОМАТНЫЙ БУЗДЯК 670Г ТАТАРСКИЙ /8         6\n",
       "2               Сигареты  Esse SS Exchange         7\n",
       "3                                 Петрушка         6\n",
       "4                               пиво ягерь        35"
      ]
     },
     "execution_count": 22,
     "metadata": {},
     "output_type": "execute_result"
    }
   ],
   "source": [
    "train = pd.read_csv('data/evo_train.csv.gz', compression='gzip', index_col='id')\n",
    "train.head()"
   ]
  },
  {
   "cell_type": "code",
   "execution_count": 31,
   "metadata": {
    "collapsed": false
   },
   "outputs": [
    {
     "data": {
      "text/html": [
       "<div>\n",
       "<table border=\"1\" class=\"dataframe\">\n",
       "  <thead>\n",
       "    <tr style=\"text-align: right;\">\n",
       "      <th></th>\n",
       "      <th>NAME</th>\n",
       "      <th>GROUP_ID</th>\n",
       "      <th>category</th>\n",
       "      <th>sub_category</th>\n",
       "    </tr>\n",
       "    <tr>\n",
       "      <th>id</th>\n",
       "      <th></th>\n",
       "      <th></th>\n",
       "      <th></th>\n",
       "      <th></th>\n",
       "    </tr>\n",
       "  </thead>\n",
       "  <tbody>\n",
       "    <tr>\n",
       "      <th>0</th>\n",
       "      <td>Пиво \"Жигулевское\" 0,5 л. св.</td>\n",
       "      <td>35</td>\n",
       "      <td>Алкоголь</td>\n",
       "      <td>Пиво, слабоалкогольные напитки</td>\n",
       "    </tr>\n",
       "    <tr>\n",
       "      <th>1</th>\n",
       "      <td>СОУС ТОМАТНЫЙ БУЗДЯК 670Г ТАТАРСКИЙ /8</td>\n",
       "      <td>6</td>\n",
       "      <td>Прод</td>\n",
       "      <td>Продукты питания</td>\n",
       "    </tr>\n",
       "    <tr>\n",
       "      <th>2</th>\n",
       "      <td>Сигареты  Esse SS Exchange</td>\n",
       "      <td>7</td>\n",
       "      <td>Непрод</td>\n",
       "      <td>Табачные изделия</td>\n",
       "    </tr>\n",
       "    <tr>\n",
       "      <th>3</th>\n",
       "      <td>Петрушка</td>\n",
       "      <td>6</td>\n",
       "      <td>Прод</td>\n",
       "      <td>Продукты питания</td>\n",
       "    </tr>\n",
       "    <tr>\n",
       "      <th>4</th>\n",
       "      <td>пиво ягерь</td>\n",
       "      <td>35</td>\n",
       "      <td>Алкоголь</td>\n",
       "      <td>Пиво, слабоалкогольные напитки</td>\n",
       "    </tr>\n",
       "  </tbody>\n",
       "</table>\n",
       "</div>"
      ],
      "text/plain": [
       "                                      NAME  GROUP_ID  category  \\\n",
       "id                                                               \n",
       "0            Пиво \"Жигулевское\" 0,5 л. св.        35  Алкоголь   \n",
       "1   СОУС ТОМАТНЫЙ БУЗДЯК 670Г ТАТАРСКИЙ /8         6      Прод   \n",
       "2               Сигареты  Esse SS Exchange         7    Непрод   \n",
       "3                                 Петрушка         6      Прод   \n",
       "4                               пиво ягерь        35  Алкоголь   \n",
       "\n",
       "                      sub_category  \n",
       "id                                  \n",
       "0   Пиво, слабоалкогольные напитки  \n",
       "1                 Продукты питания  \n",
       "2                 Табачные изделия  \n",
       "3                 Продукты питания  \n",
       "4   Пиво, слабоалкогольные напитки  "
      ]
     },
     "execution_count": 31,
     "metadata": {},
     "output_type": "execute_result"
    }
   ],
   "source": [
    "data = train.join(categories, on='GROUP_ID')\n",
    "data.head()"
   ]
  }
 ],
 "metadata": {
  "kernelspec": {
   "display_name": "Python 3",
   "language": "python",
   "name": "python3"
  },
  "language_info": {
   "codemirror_mode": {
    "name": "ipython",
    "version": 3
   },
   "file_extension": ".py",
   "mimetype": "text/x-python",
   "name": "python",
   "nbconvert_exporter": "python",
   "pygments_lexer": "ipython3",
   "version": "3.5.2"
  }
 },
 "nbformat": 4,
 "nbformat_minor": 0
}
