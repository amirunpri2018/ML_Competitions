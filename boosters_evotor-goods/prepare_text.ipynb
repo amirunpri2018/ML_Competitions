{
 "cells": [
  {
   "cell_type": "code",
   "execution_count": 21,
   "metadata": {
    "collapsed": false
   },
   "outputs": [],
   "source": [
    "import pandas as pd\n",
    "import string\n",
    "import re\n",
    "from pymorphy2 import MorphAnalyzer\n",
    "from nltk.tokenize import WhitespaceTokenizer"
   ]
  },
  {
   "cell_type": "code",
   "execution_count": 17,
   "metadata": {
    "collapsed": true
   },
   "outputs": [],
   "source": [
    "train = pd.read_csv('data/evo_train.csv.gz', compression='gzip', index_col='id')\n",
    "test = pd.read_csv('data/evo_test.csv.gz', compression='gzip', index_col='id')"
   ]
  },
  {
   "cell_type": "code",
   "execution_count": 24,
   "metadata": {
    "collapsed": true
   },
   "outputs": [],
   "source": [
    "def parse_sentence(sentence, tokenizer, morph):\n",
    "    return \" \".join([morph.parse(w)[0].normal_form for w in tokenizer.tokenize(sentence)])\n",
    "\n",
    "def parse(series, tokenizer = WhitespaceTokenizer(), morph = MorphAnalyzer()):\n",
    "    return series.apply(lambda row: parse_sentence(row, tokenizer, morph))\n",
    "\n",
    "def prepare(data):\n",
    "    regex = re.compile('[%s]' % re.escape(string.punctuation))\n",
    "    series = data['NAME'].str.lower().str.replace(',', '').replace(regex, \" \").str.replace('\\d+', ' NUMBER ')\n",
    "    return parse(series)"
   ]
  },
  {
   "cell_type": "code",
   "execution_count": 26,
   "metadata": {
    "collapsed": false
   },
   "outputs": [],
   "source": [
    "train_names = prepare(train)\n",
    "test_names = prepare(test)"
   ]
  },
  {
   "cell_type": "code",
   "execution_count": 31,
   "metadata": {
    "collapsed": false
   },
   "outputs": [],
   "source": [
    "train[\"NAME\"] = train_names\n",
    "test[\"NAME\"] = test_names"
   ]
  },
  {
   "cell_type": "code",
   "execution_count": 32,
   "metadata": {
    "collapsed": true
   },
   "outputs": [],
   "source": [
    "train.to_csv('data/evo_train_clean.csv.gz', compression='gzip')\n",
    "test.to_csv('data/evo_test_clean.csv.gz', compression='gzip')"
   ]
  },
  {
   "cell_type": "code",
   "execution_count": null,
   "metadata": {
    "collapsed": true
   },
   "outputs": [],
   "source": []
  }
 ],
 "metadata": {
  "kernelspec": {
   "display_name": "Python 3",
   "language": "python",
   "name": "python3"
  },
  "language_info": {
   "codemirror_mode": {
    "name": "ipython",
    "version": 3
   },
   "file_extension": ".py",
   "mimetype": "text/x-python",
   "name": "python",
   "nbconvert_exporter": "python",
   "pygments_lexer": "ipython3",
   "version": "3.5.2"
  }
 },
 "nbformat": 4,
 "nbformat_minor": 0
}
