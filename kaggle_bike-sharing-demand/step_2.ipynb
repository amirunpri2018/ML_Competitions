{
 "cells": [
  {
   "cell_type": "code",
   "execution_count": 89,
   "metadata": {
    "collapsed": true
   },
   "outputs": [],
   "source": [
    "%matplotlib inline\n",
    "import pandas as pd\n",
    "import numpy as np\n",
    "import seaborn as sns\n",
    "color = sns.color_palette()\n",
    "from matplotlib import pyplot as plt\n",
    "from sklearn import linear_model\n",
    "from sklearn.ensemble import RandomForestRegressor\n",
    "from sklearn.model_selection import cross_val_score\n",
    "from sklearn.metrics import make_scorer\n",
    "from sklearn.preprocessing import StandardScaler, FunctionTransformer, PolynomialFeatures, RobustScaler\n",
    "from sklearn.pipeline import Pipeline, FeatureUnion\n",
    "from xgboost import XGBRegressor\n",
    "from sklearn.neighbors import KNeighborsRegressor\n",
    "from sklearn.svm import SVR\n",
    "from sklearn.neural_network import MLPRegressor"
   ]
  },
  {
   "cell_type": "code",
   "execution_count": 109,
   "metadata": {
    "collapsed": true
   },
   "outputs": [],
   "source": [
    "def prepare_data(df):\n",
    "    df['datetime'] = pd.to_datetime(df['datetime'])\n",
    "    df['hour'] = df['datetime'].apply(lambda row: row.hour)\n",
    "    df['day'] = df['datetime'].apply(lambda row: row.day)\n",
    "    df['month'] = df['datetime'].apply(lambda row: row.month)\n",
    "    df['year'] = df['datetime'].apply(lambda row: row.year)\n",
    "    df['weekday'] = df['datetime'].apply(lambda row: row.weekday())\n",
    "    return df"
   ]
  },
  {
   "cell_type": "code",
   "execution_count": 3,
   "metadata": {
    "collapsed": false
   },
   "outputs": [],
   "source": [
    "def rmsle(pred, target):\n",
    "    log1 = np.nan_to_num(np.log1p(pred))\n",
    "    log2 = np.nan_to_num(np.log1p(target))\n",
    "    calc = (log1 - log2) ** 2\n",
    "    return np.sqrt(np.mean(calc))\n",
    "\n",
    "rmsle_scorer = make_scorer(rmsle, greater_is_better=False)"
   ]
  },
  {
   "cell_type": "code",
   "execution_count": 4,
   "metadata": {
    "collapsed": false
   },
   "outputs": [
    {
     "data": {
      "text/html": [
       "<div>\n",
       "<table border=\"1\" class=\"dataframe\">\n",
       "  <thead>\n",
       "    <tr style=\"text-align: right;\">\n",
       "      <th></th>\n",
       "      <th>season</th>\n",
       "      <th>holiday</th>\n",
       "      <th>workingday</th>\n",
       "      <th>weather</th>\n",
       "      <th>temp</th>\n",
       "      <th>atemp</th>\n",
       "      <th>humidity</th>\n",
       "      <th>windspeed</th>\n",
       "      <th>count</th>\n",
       "      <th>hour</th>\n",
       "      <th>day</th>\n",
       "      <th>month</th>\n",
       "      <th>year</th>\n",
       "      <th>weekday</th>\n",
       "    </tr>\n",
       "  </thead>\n",
       "  <tbody>\n",
       "    <tr>\n",
       "      <th>0</th>\n",
       "      <td>1</td>\n",
       "      <td>0</td>\n",
       "      <td>0</td>\n",
       "      <td>1</td>\n",
       "      <td>9.84</td>\n",
       "      <td>14.395</td>\n",
       "      <td>81</td>\n",
       "      <td>0.0</td>\n",
       "      <td>16</td>\n",
       "      <td>0</td>\n",
       "      <td>1</td>\n",
       "      <td>1</td>\n",
       "      <td>2011</td>\n",
       "      <td>5</td>\n",
       "    </tr>\n",
       "    <tr>\n",
       "      <th>1</th>\n",
       "      <td>1</td>\n",
       "      <td>0</td>\n",
       "      <td>0</td>\n",
       "      <td>1</td>\n",
       "      <td>9.02</td>\n",
       "      <td>13.635</td>\n",
       "      <td>80</td>\n",
       "      <td>0.0</td>\n",
       "      <td>40</td>\n",
       "      <td>1</td>\n",
       "      <td>1</td>\n",
       "      <td>1</td>\n",
       "      <td>2011</td>\n",
       "      <td>5</td>\n",
       "    </tr>\n",
       "    <tr>\n",
       "      <th>2</th>\n",
       "      <td>1</td>\n",
       "      <td>0</td>\n",
       "      <td>0</td>\n",
       "      <td>1</td>\n",
       "      <td>9.02</td>\n",
       "      <td>13.635</td>\n",
       "      <td>80</td>\n",
       "      <td>0.0</td>\n",
       "      <td>32</td>\n",
       "      <td>2</td>\n",
       "      <td>1</td>\n",
       "      <td>1</td>\n",
       "      <td>2011</td>\n",
       "      <td>5</td>\n",
       "    </tr>\n",
       "    <tr>\n",
       "      <th>3</th>\n",
       "      <td>1</td>\n",
       "      <td>0</td>\n",
       "      <td>0</td>\n",
       "      <td>1</td>\n",
       "      <td>9.84</td>\n",
       "      <td>14.395</td>\n",
       "      <td>75</td>\n",
       "      <td>0.0</td>\n",
       "      <td>13</td>\n",
       "      <td>3</td>\n",
       "      <td>1</td>\n",
       "      <td>1</td>\n",
       "      <td>2011</td>\n",
       "      <td>5</td>\n",
       "    </tr>\n",
       "    <tr>\n",
       "      <th>4</th>\n",
       "      <td>1</td>\n",
       "      <td>0</td>\n",
       "      <td>0</td>\n",
       "      <td>1</td>\n",
       "      <td>9.84</td>\n",
       "      <td>14.395</td>\n",
       "      <td>75</td>\n",
       "      <td>0.0</td>\n",
       "      <td>1</td>\n",
       "      <td>4</td>\n",
       "      <td>1</td>\n",
       "      <td>1</td>\n",
       "      <td>2011</td>\n",
       "      <td>5</td>\n",
       "    </tr>\n",
       "  </tbody>\n",
       "</table>\n",
       "</div>"
      ],
      "text/plain": [
       "   season  holiday  workingday  weather  temp   atemp  humidity  windspeed  \\\n",
       "0       1        0           0        1  9.84  14.395        81        0.0   \n",
       "1       1        0           0        1  9.02  13.635        80        0.0   \n",
       "2       1        0           0        1  9.02  13.635        80        0.0   \n",
       "3       1        0           0        1  9.84  14.395        75        0.0   \n",
       "4       1        0           0        1  9.84  14.395        75        0.0   \n",
       "\n",
       "   count  hour  day  month  year  weekday  \n",
       "0     16     0    1      1  2011        5  \n",
       "1     40     1    1      1  2011        5  \n",
       "2     32     2    1      1  2011        5  \n",
       "3     13     3    1      1  2011        5  \n",
       "4      1     4    1      1  2011        5  "
      ]
     },
     "execution_count": 4,
     "metadata": {},
     "output_type": "execute_result"
    }
   ],
   "source": [
    "train = pd.read_csv('data/train.csv.gz', compression='gzip')\n",
    "train = prepare_data(train).drop(['casual', 'registered'], axis=1)\n",
    "train.head()"
   ]
  },
  {
   "cell_type": "code",
   "execution_count": 110,
   "metadata": {
    "collapsed": false
   },
   "outputs": [
    {
     "data": {
      "text/html": [
       "<div>\n",
       "<table border=\"1\" class=\"dataframe\">\n",
       "  <thead>\n",
       "    <tr style=\"text-align: right;\">\n",
       "      <th></th>\n",
       "      <th>datetime</th>\n",
       "      <th>season</th>\n",
       "      <th>holiday</th>\n",
       "      <th>workingday</th>\n",
       "      <th>weather</th>\n",
       "      <th>temp</th>\n",
       "      <th>atemp</th>\n",
       "      <th>humidity</th>\n",
       "      <th>windspeed</th>\n",
       "      <th>hour</th>\n",
       "      <th>day</th>\n",
       "      <th>month</th>\n",
       "      <th>year</th>\n",
       "      <th>weekday</th>\n",
       "    </tr>\n",
       "  </thead>\n",
       "  <tbody>\n",
       "    <tr>\n",
       "      <th>0</th>\n",
       "      <td>2011-01-20 00:00:00</td>\n",
       "      <td>1</td>\n",
       "      <td>0</td>\n",
       "      <td>1</td>\n",
       "      <td>1</td>\n",
       "      <td>10.66</td>\n",
       "      <td>11.365</td>\n",
       "      <td>56</td>\n",
       "      <td>26.0027</td>\n",
       "      <td>0</td>\n",
       "      <td>20</td>\n",
       "      <td>1</td>\n",
       "      <td>2011</td>\n",
       "      <td>3</td>\n",
       "    </tr>\n",
       "    <tr>\n",
       "      <th>1</th>\n",
       "      <td>2011-01-20 01:00:00</td>\n",
       "      <td>1</td>\n",
       "      <td>0</td>\n",
       "      <td>1</td>\n",
       "      <td>1</td>\n",
       "      <td>10.66</td>\n",
       "      <td>13.635</td>\n",
       "      <td>56</td>\n",
       "      <td>0.0000</td>\n",
       "      <td>1</td>\n",
       "      <td>20</td>\n",
       "      <td>1</td>\n",
       "      <td>2011</td>\n",
       "      <td>3</td>\n",
       "    </tr>\n",
       "    <tr>\n",
       "      <th>2</th>\n",
       "      <td>2011-01-20 02:00:00</td>\n",
       "      <td>1</td>\n",
       "      <td>0</td>\n",
       "      <td>1</td>\n",
       "      <td>1</td>\n",
       "      <td>10.66</td>\n",
       "      <td>13.635</td>\n",
       "      <td>56</td>\n",
       "      <td>0.0000</td>\n",
       "      <td>2</td>\n",
       "      <td>20</td>\n",
       "      <td>1</td>\n",
       "      <td>2011</td>\n",
       "      <td>3</td>\n",
       "    </tr>\n",
       "    <tr>\n",
       "      <th>3</th>\n",
       "      <td>2011-01-20 03:00:00</td>\n",
       "      <td>1</td>\n",
       "      <td>0</td>\n",
       "      <td>1</td>\n",
       "      <td>1</td>\n",
       "      <td>10.66</td>\n",
       "      <td>12.880</td>\n",
       "      <td>56</td>\n",
       "      <td>11.0014</td>\n",
       "      <td>3</td>\n",
       "      <td>20</td>\n",
       "      <td>1</td>\n",
       "      <td>2011</td>\n",
       "      <td>3</td>\n",
       "    </tr>\n",
       "    <tr>\n",
       "      <th>4</th>\n",
       "      <td>2011-01-20 04:00:00</td>\n",
       "      <td>1</td>\n",
       "      <td>0</td>\n",
       "      <td>1</td>\n",
       "      <td>1</td>\n",
       "      <td>10.66</td>\n",
       "      <td>12.880</td>\n",
       "      <td>56</td>\n",
       "      <td>11.0014</td>\n",
       "      <td>4</td>\n",
       "      <td>20</td>\n",
       "      <td>1</td>\n",
       "      <td>2011</td>\n",
       "      <td>3</td>\n",
       "    </tr>\n",
       "  </tbody>\n",
       "</table>\n",
       "</div>"
      ],
      "text/plain": [
       "             datetime  season  holiday  workingday  weather   temp   atemp  \\\n",
       "0 2011-01-20 00:00:00       1        0           1        1  10.66  11.365   \n",
       "1 2011-01-20 01:00:00       1        0           1        1  10.66  13.635   \n",
       "2 2011-01-20 02:00:00       1        0           1        1  10.66  13.635   \n",
       "3 2011-01-20 03:00:00       1        0           1        1  10.66  12.880   \n",
       "4 2011-01-20 04:00:00       1        0           1        1  10.66  12.880   \n",
       "\n",
       "   humidity  windspeed  hour  day  month  year  weekday  \n",
       "0        56    26.0027     0   20      1  2011        3  \n",
       "1        56     0.0000     1   20      1  2011        3  \n",
       "2        56     0.0000     2   20      1  2011        3  \n",
       "3        56    11.0014     3   20      1  2011        3  \n",
       "4        56    11.0014     4   20      1  2011        3  "
      ]
     },
     "execution_count": 110,
     "metadata": {},
     "output_type": "execute_result"
    }
   ],
   "source": [
    "test = pd.read_csv('data/test.csv.gz', compression='gzip')\n",
    "test = prepare_data(test)\n",
    "test.head()"
   ]
  },
  {
   "cell_type": "code",
   "execution_count": 5,
   "metadata": {
    "collapsed": true
   },
   "outputs": [],
   "source": [
    "binary = ['holiday', 'workingday']\n",
    "categorical = ['season', 'weather', 'hour', 'day', 'month', 'year', 'weekday']\n",
    "numeric = ['temp', 'atemp', 'humidity', 'windspeed']"
   ]
  },
  {
   "cell_type": "code",
   "execution_count": 6,
   "metadata": {
    "collapsed": false
   },
   "outputs": [],
   "source": [
    "def means(df, columns, target = 'count'):\n",
    "    means_ = {}\n",
    "    for col in columns:\n",
    "        means_[col]=np.round(df.groupby([col])[target].mean())\n",
    "    return means_"
   ]
  },
  {
   "cell_type": "code",
   "execution_count": 7,
   "metadata": {
    "collapsed": false
   },
   "outputs": [
    {
     "data": {
      "text/plain": [
       "{'day': day\n",
       " 1     180.0\n",
       " 2     184.0\n",
       " 3     195.0\n",
       " 4     196.0\n",
       " 5     190.0\n",
       " 6     190.0\n",
       " 7     184.0\n",
       " 8     179.0\n",
       " 9     188.0\n",
       " 10    195.0\n",
       " 11    196.0\n",
       " 12    191.0\n",
       " 13    194.0\n",
       " 14    196.0\n",
       " 15    202.0\n",
       " 16    191.0\n",
       " 17    206.0\n",
       " 18    193.0\n",
       " 19    192.0\n",
       " Name: count, dtype: float64, 'hour': hour\n",
       " 0      55.0\n",
       " 1      34.0\n",
       " 2      23.0\n",
       " 3      12.0\n",
       " 4       6.0\n",
       " 5      20.0\n",
       " 6      76.0\n",
       " 7     213.0\n",
       " 8     363.0\n",
       " 9     222.0\n",
       " 10    175.0\n",
       " 11    211.0\n",
       " 12    257.0\n",
       " 13    258.0\n",
       " 14    243.0\n",
       " 15    254.0\n",
       " 16    316.0\n",
       " 17    469.0\n",
       " 18    431.0\n",
       " 19    315.0\n",
       " 20    229.0\n",
       " 21    173.0\n",
       " 22    134.0\n",
       " 23     90.0\n",
       " Name: count, dtype: float64, 'month': month\n",
       " 1      90.0\n",
       " 2     110.0\n",
       " 3     148.0\n",
       " 4     184.0\n",
       " 5     219.0\n",
       " 6     242.0\n",
       " 7     235.0\n",
       " 8     234.0\n",
       " 9     234.0\n",
       " 10    228.0\n",
       " 11    194.0\n",
       " 12    176.0\n",
       " Name: count, dtype: float64, 'season': season\n",
       " 1    116.0\n",
       " 2    215.0\n",
       " 3    234.0\n",
       " 4    199.0\n",
       " Name: count, dtype: float64, 'weather': weather\n",
       " 1    205.0\n",
       " 2    179.0\n",
       " 3    119.0\n",
       " 4    164.0\n",
       " Name: count, dtype: float64, 'weekday': weekday\n",
       " 0    190.0\n",
       " 1    190.0\n",
       " 2    188.0\n",
       " 3    197.0\n",
       " 4    198.0\n",
       " 5    197.0\n",
       " 6    181.0\n",
       " Name: count, dtype: float64, 'year': year\n",
       " 2011    144.0\n",
       " 2012    239.0\n",
       " Name: count, dtype: float64}"
      ]
     },
     "execution_count": 7,
     "metadata": {},
     "output_type": "execute_result"
    }
   ],
   "source": [
    "means(train, categorical)"
   ]
  },
  {
   "cell_type": "code",
   "execution_count": 8,
   "metadata": {
    "collapsed": false
   },
   "outputs": [
    {
     "data": {
      "text/plain": [
       "{'holiday': holiday\n",
       " 0    192.0\n",
       " 1    186.0\n",
       " Name: count, dtype: float64, 'workingday': workingday\n",
       " 0    189.0\n",
       " 1    193.0\n",
       " Name: count, dtype: float64}"
      ]
     },
     "execution_count": 8,
     "metadata": {},
     "output_type": "execute_result"
    }
   ],
   "source": [
    "means(train, binary)"
   ]
  },
  {
   "cell_type": "code",
   "execution_count": 99,
   "metadata": {
    "collapsed": false
   },
   "outputs": [],
   "source": [
    "def means_encoder(data, columns):\n",
    "    df = pd.DataFrame(index=data.index)\n",
    "    t = means(train, columns) # yes, train!!!\n",
    "    for col in columns:\n",
    "        df[col+'_mean'] = data[col].apply(lambda c: t[col][c])\n",
    "    return df"
   ]
  },
  {
   "cell_type": "code",
   "execution_count": 43,
   "metadata": {
    "collapsed": false
   },
   "outputs": [],
   "source": [
    "def to_categorical(data, columns):\n",
    "    df = data.copy()[columns]\n",
    "    for col in columns:\n",
    "        df[col] = df[col].astype('category')\n",
    "    return df"
   ]
  },
  {
   "cell_type": "code",
   "execution_count": 58,
   "metadata": {
    "collapsed": true
   },
   "outputs": [],
   "source": [
    "def poly(data, columns):\n",
    "    return pd.DataFrame(RobustScaler().fit_transform(PolynomialFeatures(degree=2).fit_transform(data[columns])), index=data.index)"
   ]
  },
  {
   "cell_type": "code",
   "execution_count": 59,
   "metadata": {
    "collapsed": false
   },
   "outputs": [
    {
     "data": {
      "text/html": [
       "<div>\n",
       "<table border=\"1\" class=\"dataframe\">\n",
       "  <thead>\n",
       "    <tr style=\"text-align: right;\">\n",
       "      <th></th>\n",
       "      <th>season_mean</th>\n",
       "      <th>weather_mean</th>\n",
       "      <th>year_mean</th>\n",
       "      <th>hour</th>\n",
       "      <th>day</th>\n",
       "      <th>month</th>\n",
       "      <th>weekday</th>\n",
       "      <th>holiday</th>\n",
       "      <th>workingday</th>\n",
       "      <th>0</th>\n",
       "      <th>...</th>\n",
       "      <th>5</th>\n",
       "      <th>6</th>\n",
       "      <th>7</th>\n",
       "      <th>8</th>\n",
       "      <th>9</th>\n",
       "      <th>10</th>\n",
       "      <th>11</th>\n",
       "      <th>12</th>\n",
       "      <th>13</th>\n",
       "      <th>14</th>\n",
       "    </tr>\n",
       "  </thead>\n",
       "  <tbody>\n",
       "    <tr>\n",
       "      <th>0</th>\n",
       "      <td>116.0</td>\n",
       "      <td>205.0</td>\n",
       "      <td>144.0</td>\n",
       "      <td>0</td>\n",
       "      <td>1</td>\n",
       "      <td>1</td>\n",
       "      <td>5</td>\n",
       "      <td>False</td>\n",
       "      <td>False</td>\n",
       "      <td>0.0</td>\n",
       "      <td>...</td>\n",
       "      <td>-0.654422</td>\n",
       "      <td>-0.626388</td>\n",
       "      <td>-0.425785</td>\n",
       "      <td>-0.925551</td>\n",
       "      <td>-0.553655</td>\n",
       "      <td>-0.245368</td>\n",
       "      <td>-0.929607</td>\n",
       "      <td>0.730376</td>\n",
       "      <td>-1.264428</td>\n",
       "      <td>-0.704221</td>\n",
       "    </tr>\n",
       "    <tr>\n",
       "      <th>1</th>\n",
       "      <td>116.0</td>\n",
       "      <td>205.0</td>\n",
       "      <td>144.0</td>\n",
       "      <td>1</td>\n",
       "      <td>1</td>\n",
       "      <td>1</td>\n",
       "      <td>5</td>\n",
       "      <td>False</td>\n",
       "      <td>False</td>\n",
       "      <td>0.0</td>\n",
       "      <td>...</td>\n",
       "      <td>-0.685714</td>\n",
       "      <td>-0.659286</td>\n",
       "      <td>-0.503817</td>\n",
       "      <td>-0.925551</td>\n",
       "      <td>-0.584663</td>\n",
       "      <td>-0.314815</td>\n",
       "      <td>-0.929607</td>\n",
       "      <td>0.687097</td>\n",
       "      <td>-1.264428</td>\n",
       "      <td>-0.704221</td>\n",
       "    </tr>\n",
       "    <tr>\n",
       "      <th>2</th>\n",
       "      <td>116.0</td>\n",
       "      <td>205.0</td>\n",
       "      <td>144.0</td>\n",
       "      <td>2</td>\n",
       "      <td>1</td>\n",
       "      <td>1</td>\n",
       "      <td>5</td>\n",
       "      <td>False</td>\n",
       "      <td>False</td>\n",
       "      <td>0.0</td>\n",
       "      <td>...</td>\n",
       "      <td>-0.685714</td>\n",
       "      <td>-0.659286</td>\n",
       "      <td>-0.503817</td>\n",
       "      <td>-0.925551</td>\n",
       "      <td>-0.584663</td>\n",
       "      <td>-0.314815</td>\n",
       "      <td>-0.929607</td>\n",
       "      <td>0.687097</td>\n",
       "      <td>-1.264428</td>\n",
       "      <td>-0.704221</td>\n",
       "    </tr>\n",
       "    <tr>\n",
       "      <th>3</th>\n",
       "      <td>116.0</td>\n",
       "      <td>205.0</td>\n",
       "      <td>144.0</td>\n",
       "      <td>3</td>\n",
       "      <td>1</td>\n",
       "      <td>1</td>\n",
       "      <td>5</td>\n",
       "      <td>False</td>\n",
       "      <td>False</td>\n",
       "      <td>0.0</td>\n",
       "      <td>...</td>\n",
       "      <td>-0.654422</td>\n",
       "      <td>-0.626388</td>\n",
       "      <td>-0.486853</td>\n",
       "      <td>-0.925551</td>\n",
       "      <td>-0.553655</td>\n",
       "      <td>-0.325135</td>\n",
       "      <td>-0.929607</td>\n",
       "      <td>0.478763</td>\n",
       "      <td>-1.264428</td>\n",
       "      <td>-0.704221</td>\n",
       "    </tr>\n",
       "    <tr>\n",
       "      <th>4</th>\n",
       "      <td>116.0</td>\n",
       "      <td>205.0</td>\n",
       "      <td>144.0</td>\n",
       "      <td>4</td>\n",
       "      <td>1</td>\n",
       "      <td>1</td>\n",
       "      <td>5</td>\n",
       "      <td>False</td>\n",
       "      <td>False</td>\n",
       "      <td>0.0</td>\n",
       "      <td>...</td>\n",
       "      <td>-0.654422</td>\n",
       "      <td>-0.626388</td>\n",
       "      <td>-0.486853</td>\n",
       "      <td>-0.925551</td>\n",
       "      <td>-0.553655</td>\n",
       "      <td>-0.325135</td>\n",
       "      <td>-0.929607</td>\n",
       "      <td>0.478763</td>\n",
       "      <td>-1.264428</td>\n",
       "      <td>-0.704221</td>\n",
       "    </tr>\n",
       "  </tbody>\n",
       "</table>\n",
       "<p>5 rows × 24 columns</p>\n",
       "</div>"
      ],
      "text/plain": [
       "   season_mean  weather_mean  year_mean  hour  day  month  weekday holiday  \\\n",
       "0        116.0         205.0      144.0     0    1      1        5   False   \n",
       "1        116.0         205.0      144.0     1    1      1        5   False   \n",
       "2        116.0         205.0      144.0     2    1      1        5   False   \n",
       "3        116.0         205.0      144.0     3    1      1        5   False   \n",
       "4        116.0         205.0      144.0     4    1      1        5   False   \n",
       "\n",
       "  workingday    0    ...            5         6         7         8         9  \\\n",
       "0      False  0.0    ...    -0.654422 -0.626388 -0.425785 -0.925551 -0.553655   \n",
       "1      False  0.0    ...    -0.685714 -0.659286 -0.503817 -0.925551 -0.584663   \n",
       "2      False  0.0    ...    -0.685714 -0.659286 -0.503817 -0.925551 -0.584663   \n",
       "3      False  0.0    ...    -0.654422 -0.626388 -0.486853 -0.925551 -0.553655   \n",
       "4      False  0.0    ...    -0.654422 -0.626388 -0.486853 -0.925551 -0.553655   \n",
       "\n",
       "         10        11        12        13        14  \n",
       "0 -0.245368 -0.929607  0.730376 -1.264428 -0.704221  \n",
       "1 -0.314815 -0.929607  0.687097 -1.264428 -0.704221  \n",
       "2 -0.314815 -0.929607  0.687097 -1.264428 -0.704221  \n",
       "3 -0.325135 -0.929607  0.478763 -1.264428 -0.704221  \n",
       "4 -0.325135 -0.929607  0.478763 -1.264428 -0.704221  \n",
       "\n",
       "[5 rows x 24 columns]"
      ]
     },
     "execution_count": 59,
     "metadata": {},
     "output_type": "execute_result"
    }
   ],
   "source": [
    "categ = ['hour', 'day', 'month', 'weekday']\n",
    "categ_m = ['season', 'weather', 'year']\n",
    "\n",
    "y = train['count']\n",
    "X = pd.concat([means_encoder(train, categ_m), train[categ],train[binary].astype('bool'), poly(train, numeric)], axis=1)\n",
    "# X = pd.concat([train[categorical],train[binary].astype('bool'), train[numeric]], axis=1)\n",
    "X.head()"
   ]
  },
  {
   "cell_type": "code",
   "execution_count": 80,
   "metadata": {
    "collapsed": false
   },
   "outputs": [
    {
     "data": {
      "text/plain": [
       "-0.48588259762661307"
      ]
     },
     "execution_count": 80,
     "metadata": {},
     "output_type": "execute_result"
    }
   ],
   "source": [
    "regressor = RandomForestRegressor(n_estimators=50, random_state=42)\n",
    "score = cross_val_score(regressor, X, y, cv=5, scoring=rmsle_scorer)\n",
    "score.mean()"
   ]
  },
  {
   "cell_type": "code",
   "execution_count": 60,
   "metadata": {
    "collapsed": false
   },
   "outputs": [
    {
     "name": "stderr",
     "output_type": "stream",
     "text": [
      "/usr/local/lib/python3.5/site-packages/ipykernel/__main__.py:3: RuntimeWarning: invalid value encountered in log1p\n",
      "  app.launch_new_instance()\n",
      "/usr/local/lib/python3.5/site-packages/ipykernel/__main__.py:3: RuntimeWarning: invalid value encountered in log1p\n",
      "  app.launch_new_instance()\n",
      "/usr/local/lib/python3.5/site-packages/ipykernel/__main__.py:3: RuntimeWarning: invalid value encountered in log1p\n",
      "  app.launch_new_instance()\n",
      "/usr/local/lib/python3.5/site-packages/ipykernel/__main__.py:3: RuntimeWarning: invalid value encountered in log1p\n",
      "  app.launch_new_instance()\n",
      "/usr/local/lib/python3.5/site-packages/ipykernel/__main__.py:3: RuntimeWarning: invalid value encountered in log1p\n",
      "  app.launch_new_instance()\n"
     ]
    },
    {
     "data": {
      "text/plain": [
       "-1.202774091100405"
      ]
     },
     "execution_count": 60,
     "metadata": {},
     "output_type": "execute_result"
    }
   ],
   "source": [
    "regressor = linear_model.LinearRegression()\n",
    "score = cross_val_score(regressor, pd.get_dummies(X, columns=categ), y, cv=5, scoring=rmsle_scorer)\n",
    "score.mean()"
   ]
  },
  {
   "cell_type": "code",
   "execution_count": 75,
   "metadata": {
    "collapsed": false
   },
   "outputs": [
    {
     "name": "stderr",
     "output_type": "stream",
     "text": [
      "/usr/local/lib/python3.5/site-packages/ipykernel/__main__.py:3: RuntimeWarning: invalid value encountered in log1p\n",
      "  app.launch_new_instance()\n",
      "/usr/local/lib/python3.5/site-packages/ipykernel/__main__.py:3: RuntimeWarning: invalid value encountered in log1p\n",
      "  app.launch_new_instance()\n",
      "/usr/local/lib/python3.5/site-packages/ipykernel/__main__.py:3: RuntimeWarning: invalid value encountered in log1p\n",
      "  app.launch_new_instance()\n",
      "/usr/local/lib/python3.5/site-packages/ipykernel/__main__.py:3: RuntimeWarning: invalid value encountered in log1p\n",
      "  app.launch_new_instance()\n",
      "/usr/local/lib/python3.5/site-packages/ipykernel/__main__.py:3: RuntimeWarning: invalid value encountered in log1p\n",
      "  app.launch_new_instance()\n"
     ]
    },
    {
     "data": {
      "text/plain": [
       "-0.47837759976496202"
      ]
     },
     "execution_count": 75,
     "metadata": {},
     "output_type": "execute_result"
    }
   ],
   "source": [
    "regressor = XGBRegressor(n_estimators=500, max_depth=10)\n",
    "score = cross_val_score(regressor, X, y, cv=5, scoring=rmsle_scorer)\n",
    "score.mean()"
   ]
  },
  {
   "cell_type": "code",
   "execution_count": 88,
   "metadata": {
    "collapsed": false
   },
   "outputs": [
    {
     "data": {
      "text/plain": [
       "-0.83835810842185976"
      ]
     },
     "execution_count": 88,
     "metadata": {},
     "output_type": "execute_result"
    }
   ],
   "source": [
    "regressor = KNeighborsRegressor(n_neighbors=3, metric='manhattan', weights='distance', algorithm='kd_tree')\n",
    "score = cross_val_score(regressor, X, y, cv=5, scoring=rmsle_scorer)\n",
    "score.mean()"
   ]
  },
  {
   "cell_type": "code",
   "execution_count": 68,
   "metadata": {
    "collapsed": false
   },
   "outputs": [
    {
     "data": {
      "text/plain": [
       "-1.4590169164894751"
      ]
     },
     "execution_count": 68,
     "metadata": {},
     "output_type": "execute_result"
    }
   ],
   "source": [
    "regressor = SVR()\n",
    "score = cross_val_score(regressor, X, y, cv=5, scoring=rmsle_scorer)\n",
    "score.mean()"
   ]
  },
  {
   "cell_type": "code",
   "execution_count": 65,
   "metadata": {
    "collapsed": true
   },
   "outputs": [],
   "source": [
    "from mlxtend.regressor import StackingRegressor"
   ]
  },
  {
   "cell_type": "code",
   "execution_count": 93,
   "metadata": {
    "collapsed": false
   },
   "outputs": [
    {
     "data": {
      "text/plain": [
       "-0.47148786303008483"
      ]
     },
     "execution_count": 93,
     "metadata": {},
     "output_type": "execute_result"
    }
   ],
   "source": [
    "regressor = StackingRegressor(regressors=[\n",
    "        XGBRegressor(n_estimators=500, max_depth=10), RandomForestRegressor(n_estimators=50), RandomForestRegressor(n_estimators=200)\n",
    "    ], meta_regressor=RandomForestRegressor(n_estimators=200))\n",
    "\n",
    "score = cross_val_score(regressor, X, y, cv=5, scoring=rmsle_scorer)\n",
    "score.mean()"
   ]
  },
  {
   "cell_type": "code",
   "execution_count": 100,
   "metadata": {
    "collapsed": false
   },
   "outputs": [
    {
     "data": {
      "text/html": [
       "<div>\n",
       "<table border=\"1\" class=\"dataframe\">\n",
       "  <thead>\n",
       "    <tr style=\"text-align: right;\">\n",
       "      <th></th>\n",
       "      <th>season_mean</th>\n",
       "      <th>weather_mean</th>\n",
       "      <th>year_mean</th>\n",
       "      <th>hour</th>\n",
       "      <th>day</th>\n",
       "      <th>month</th>\n",
       "      <th>weekday</th>\n",
       "      <th>holiday</th>\n",
       "      <th>workingday</th>\n",
       "      <th>0</th>\n",
       "      <th>...</th>\n",
       "      <th>5</th>\n",
       "      <th>6</th>\n",
       "      <th>7</th>\n",
       "      <th>8</th>\n",
       "      <th>9</th>\n",
       "      <th>10</th>\n",
       "      <th>11</th>\n",
       "      <th>12</th>\n",
       "      <th>13</th>\n",
       "      <th>14</th>\n",
       "    </tr>\n",
       "  </thead>\n",
       "  <tbody>\n",
       "    <tr>\n",
       "      <th>0</th>\n",
       "      <td>116.0</td>\n",
       "      <td>205.0</td>\n",
       "      <td>144.0</td>\n",
       "      <td>0</td>\n",
       "      <td>20</td>\n",
       "      <td>1</td>\n",
       "      <td>3</td>\n",
       "      <td>False</td>\n",
       "      <td>True</td>\n",
       "      <td>0.0</td>\n",
       "      <td>...</td>\n",
       "      <td>-0.63375</td>\n",
       "      <td>-0.662308</td>\n",
       "      <td>-0.672065</td>\n",
       "      <td>0.230764</td>\n",
       "      <td>-0.721741</td>\n",
       "      <td>-0.737764</td>\n",
       "      <td>0.150055</td>\n",
       "      <td>-0.261779</td>\n",
       "      <td>1.243215</td>\n",
       "      <td>2.313847</td>\n",
       "    </tr>\n",
       "    <tr>\n",
       "      <th>1</th>\n",
       "      <td>116.0</td>\n",
       "      <td>205.0</td>\n",
       "      <td>144.0</td>\n",
       "      <td>1</td>\n",
       "      <td>20</td>\n",
       "      <td>1</td>\n",
       "      <td>3</td>\n",
       "      <td>False</td>\n",
       "      <td>True</td>\n",
       "      <td>0.0</td>\n",
       "      <td>...</td>\n",
       "      <td>-0.63375</td>\n",
       "      <td>-0.623395</td>\n",
       "      <td>-0.672065</td>\n",
       "      <td>-0.852988</td>\n",
       "      <td>-0.639135</td>\n",
       "      <td>-0.629900</td>\n",
       "      <td>-0.873973</td>\n",
       "      <td>-0.261779</td>\n",
       "      <td>-1.160572</td>\n",
       "      <td>-0.504489</td>\n",
       "    </tr>\n",
       "    <tr>\n",
       "      <th>2</th>\n",
       "      <td>116.0</td>\n",
       "      <td>205.0</td>\n",
       "      <td>144.0</td>\n",
       "      <td>2</td>\n",
       "      <td>20</td>\n",
       "      <td>1</td>\n",
       "      <td>3</td>\n",
       "      <td>False</td>\n",
       "      <td>True</td>\n",
       "      <td>0.0</td>\n",
       "      <td>...</td>\n",
       "      <td>-0.63375</td>\n",
       "      <td>-0.623395</td>\n",
       "      <td>-0.672065</td>\n",
       "      <td>-0.852988</td>\n",
       "      <td>-0.639135</td>\n",
       "      <td>-0.629900</td>\n",
       "      <td>-0.873973</td>\n",
       "      <td>-0.261779</td>\n",
       "      <td>-1.160572</td>\n",
       "      <td>-0.504489</td>\n",
       "    </tr>\n",
       "    <tr>\n",
       "      <th>3</th>\n",
       "      <td>116.0</td>\n",
       "      <td>205.0</td>\n",
       "      <td>144.0</td>\n",
       "      <td>3</td>\n",
       "      <td>20</td>\n",
       "      <td>1</td>\n",
       "      <td>3</td>\n",
       "      <td>False</td>\n",
       "      <td>True</td>\n",
       "      <td>0.0</td>\n",
       "      <td>...</td>\n",
       "      <td>-0.63375</td>\n",
       "      <td>-0.636337</td>\n",
       "      <td>-0.672065</td>\n",
       "      <td>-0.394467</td>\n",
       "      <td>-0.668275</td>\n",
       "      <td>-0.665776</td>\n",
       "      <td>-0.382966</td>\n",
       "      <td>-0.261779</td>\n",
       "      <td>-0.143562</td>\n",
       "      <td>0.000000</td>\n",
       "    </tr>\n",
       "    <tr>\n",
       "      <th>4</th>\n",
       "      <td>116.0</td>\n",
       "      <td>205.0</td>\n",
       "      <td>144.0</td>\n",
       "      <td>4</td>\n",
       "      <td>20</td>\n",
       "      <td>1</td>\n",
       "      <td>3</td>\n",
       "      <td>False</td>\n",
       "      <td>True</td>\n",
       "      <td>0.0</td>\n",
       "      <td>...</td>\n",
       "      <td>-0.63375</td>\n",
       "      <td>-0.636337</td>\n",
       "      <td>-0.672065</td>\n",
       "      <td>-0.394467</td>\n",
       "      <td>-0.668275</td>\n",
       "      <td>-0.665776</td>\n",
       "      <td>-0.382966</td>\n",
       "      <td>-0.261779</td>\n",
       "      <td>-0.143562</td>\n",
       "      <td>0.000000</td>\n",
       "    </tr>\n",
       "  </tbody>\n",
       "</table>\n",
       "<p>5 rows × 24 columns</p>\n",
       "</div>"
      ],
      "text/plain": [
       "   season_mean  weather_mean  year_mean  hour  day  month  weekday holiday  \\\n",
       "0        116.0         205.0      144.0     0   20      1        3   False   \n",
       "1        116.0         205.0      144.0     1   20      1        3   False   \n",
       "2        116.0         205.0      144.0     2   20      1        3   False   \n",
       "3        116.0         205.0      144.0     3   20      1        3   False   \n",
       "4        116.0         205.0      144.0     4   20      1        3   False   \n",
       "\n",
       "  workingday    0    ...           5         6         7         8         9  \\\n",
       "0       True  0.0    ...    -0.63375 -0.662308 -0.672065  0.230764 -0.721741   \n",
       "1       True  0.0    ...    -0.63375 -0.623395 -0.672065 -0.852988 -0.639135   \n",
       "2       True  0.0    ...    -0.63375 -0.623395 -0.672065 -0.852988 -0.639135   \n",
       "3       True  0.0    ...    -0.63375 -0.636337 -0.672065 -0.394467 -0.668275   \n",
       "4       True  0.0    ...    -0.63375 -0.636337 -0.672065 -0.394467 -0.668275   \n",
       "\n",
       "         10        11        12        13        14  \n",
       "0 -0.737764  0.150055 -0.261779  1.243215  2.313847  \n",
       "1 -0.629900 -0.873973 -0.261779 -1.160572 -0.504489  \n",
       "2 -0.629900 -0.873973 -0.261779 -1.160572 -0.504489  \n",
       "3 -0.665776 -0.382966 -0.261779 -0.143562  0.000000  \n",
       "4 -0.665776 -0.382966 -0.261779 -0.143562  0.000000  \n",
       "\n",
       "[5 rows x 24 columns]"
      ]
     },
     "execution_count": 100,
     "metadata": {},
     "output_type": "execute_result"
    }
   ],
   "source": [
    "X_test = pd.concat([means_encoder(test, categ_m), test[categ], test[binary].astype('bool'), poly(test, numeric)], axis=1)\n",
    "X_test.head()"
   ]
  },
  {
   "cell_type": "code",
   "execution_count": 101,
   "metadata": {
    "collapsed": true
   },
   "outputs": [],
   "source": [
    "regressor.fit(X, y)\n",
    "pred = regressor.predict(X_test)"
   ]
  },
  {
   "cell_type": "code",
   "execution_count": 113,
   "metadata": {
    "collapsed": false
   },
   "outputs": [
    {
     "data": {
      "text/html": [
       "<div>\n",
       "<table border=\"1\" class=\"dataframe\">\n",
       "  <thead>\n",
       "    <tr style=\"text-align: right;\">\n",
       "      <th></th>\n",
       "      <th>datetime</th>\n",
       "      <th>count</th>\n",
       "    </tr>\n",
       "  </thead>\n",
       "  <tbody>\n",
       "    <tr>\n",
       "      <th>0</th>\n",
       "      <td>2011-01-20 00:00:00</td>\n",
       "      <td>13.085</td>\n",
       "    </tr>\n",
       "    <tr>\n",
       "      <th>1</th>\n",
       "      <td>2011-01-20 01:00:00</td>\n",
       "      <td>6.360</td>\n",
       "    </tr>\n",
       "    <tr>\n",
       "      <th>2</th>\n",
       "      <td>2011-01-20 02:00:00</td>\n",
       "      <td>4.865</td>\n",
       "    </tr>\n",
       "    <tr>\n",
       "      <th>3</th>\n",
       "      <td>2011-01-20 03:00:00</td>\n",
       "      <td>1.970</td>\n",
       "    </tr>\n",
       "    <tr>\n",
       "      <th>4</th>\n",
       "      <td>2011-01-20 04:00:00</td>\n",
       "      <td>2.230</td>\n",
       "    </tr>\n",
       "  </tbody>\n",
       "</table>\n",
       "</div>"
      ],
      "text/plain": [
       "             datetime   count\n",
       "0 2011-01-20 00:00:00  13.085\n",
       "1 2011-01-20 01:00:00   6.360\n",
       "2 2011-01-20 02:00:00   4.865\n",
       "3 2011-01-20 03:00:00   1.970\n",
       "4 2011-01-20 04:00:00   2.230"
      ]
     },
     "execution_count": 113,
     "metadata": {},
     "output_type": "execute_result"
    }
   ],
   "source": [
    "prediction = pd.DataFrame(index=test.index)\n",
    "prediction['datetime'] = test['datetime']\n",
    "prediction['count'] = pred\n",
    "\n",
    "prediction.to_csv('submission.csv', index=False)\n",
    "prediction.head()"
   ]
  }
 ],
 "metadata": {
  "kernelspec": {
   "display_name": "Python 3",
   "language": "python",
   "name": "python3"
  },
  "language_info": {
   "codemirror_mode": {
    "name": "ipython",
    "version": 3
   },
   "file_extension": ".py",
   "mimetype": "text/x-python",
   "name": "python",
   "nbconvert_exporter": "python",
   "pygments_lexer": "ipython3",
   "version": "3.5.2"
  }
 },
 "nbformat": 4,
 "nbformat_minor": 0
}
